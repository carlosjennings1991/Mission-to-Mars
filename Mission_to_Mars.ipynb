{
 "cells": [
  {
   "cell_type": "code",
   "execution_count": 152,
   "metadata": {},
   "outputs": [],
   "source": [
    "# Import Splinter and BeautifulSoup\n",
    "from splinter import Browser\n",
    "from bs4 import BeautifulSoup as soup\n",
    "import pandas as pd"
   ]
  },
  {
   "cell_type": "code",
   "execution_count": 140,
   "metadata": {},
   "outputs": [],
   "source": [
    "# Mac users\n",
    "executable_path = {'executable_path': '/Users/Admin/Downloads/chromedriver'}\n",
    "browser = Browser('chrome', **executable_path, headless=False)"
   ]
  },
  {
   "cell_type": "code",
   "execution_count": 3,
   "metadata": {},
   "outputs": [
    {
     "data": {
      "text/plain": [
       "True"
      ]
     },
     "execution_count": 3,
     "metadata": {},
     "output_type": "execute_result"
    }
   ],
   "source": [
    "# Visit the mars nasa news site\n",
    "url = 'https://mars.nasa.gov/news/'\n",
    "browser.visit(url)\n",
    "# Optional delay for loading the page\n",
    "browser.is_element_present_by_css(\"ul.item_list li.slide\", wait_time=1)\n"
   ]
  },
  {
   "cell_type": "code",
   "execution_count": 4,
   "metadata": {},
   "outputs": [],
   "source": [
    "html = browser.html\n",
    "news_soup = soup(html, 'html.parser')\n",
    "slide_elem = news_soup.select_one('ul.item_list li.slide')"
   ]
  },
  {
   "cell_type": "code",
   "execution_count": 5,
   "metadata": {},
   "outputs": [
    {
     "data": {
      "text/plain": [
       "<div class=\"content_title\"><a href=\"/news/8852/tricky-terrain-helping-to-assure-a-safe-rover-landing/\" target=\"_self\">Tricky Terrain: Helping to Assure a Safe Rover Landing</a></div>"
      ]
     },
     "execution_count": 5,
     "metadata": {},
     "output_type": "execute_result"
    }
   ],
   "source": [
    "slide_elem.find(\"div\", class_='content_title')"
   ]
  },
  {
   "cell_type": "code",
   "execution_count": 13,
   "metadata": {},
   "outputs": [
    {
     "data": {
      "text/plain": [
       "\"\\n\\n\\n\\n\\n\\n\\n\\n\\n\\n\\n\\n\\n\\n\\nNews  – NASA’s Mars Exploration Program \\n\\n\\n\\n\\n\\n\\n\\n\\n\\n\\n\\n\\n\\n\\n\\n\\n\\n\\n\\n\\n\\n\\n\\n\\n\\n\\n\\n\\n\\n\\n\\n\\n\\n\\n\\n\\n\\n\\n\\n\\n\\n\\n\\n\\n\\n\\n\\n\\n\\n\\n\\n\\n\\n\\n\\n\\n\\n\\n\\n\\n\\n\\n\\n\\n\\n\\n\\n\\n\\n\\n\\nNASA\\n\\n\\nNASA Science\\nMars Exploration Program\\n\\n\\n\\nSkip Navigation\\n\\n\\n\\nmenu\\n\\n\\n\\n\\n\\n\\n\\nMars NowMars NowView the current location and spacecraft communications activity of operating landers, rovers and orbiters using the NASA’s Mars Relay Network.GOMars NowView a 3D visualization of all the missions exploring the Red PlanetThe Red PlanetDashboardScience GoalsThe PlanetAtmosphereAstrobiologyPast, Present, Future, TimelineDashboardScience GoalsThe PlanetAtmosphereAstrobiologyPast, Present, Future, TimelineThe ProgramMission StatementAbout the ProgramOrganizationWhy Mars?Research ProgramsPlanetary ResourcesTechnologiesMission StatementAbout the ProgramOrganizationWhy Mars?Research ProgramsPlanetary ResourcesTechnologiesNews & EventsNewsEventsNewsEventsMultimediaImagesVideosMore ResourcesImagesVideosMore ResourcesMissionsPastPresentFutureInternational PartnersPastPresentFutureInternational PartnersActive & Future MissionsA mission to investigate key questions about potential life on Mars. Mars 2020 Perseverance RoverThe largest and most capable rover ever sent to Mars.Curiosity RoverA mission to study the deep interior of Mars. InSight LanderMeasures Mars' atmosphere to understand its climate change.MAVENTakes high-resolution imagery of Martian terrain with extraordinary clarity. Mars Reconnaissance OrbiterNASA's longest-lasting spacecraft at Mars. 2001 Mars OdysseyAll MissionsInternational PartnersMore\\n\\n\\n\\n\\n\\n\\n\\n\\n\\n\\n\\n\\n\\n\\n\\n\\n\\nNewsLatest2021202020192018201720162015201420132012201120102009200820072006200520042003200220012000All CategoriesFeature StoriesPress ReleasesSpotlightsStatus ReportsHow two new technologies will help Perseverance, NASA’s most sophisticated rover yet, touch down onto the surface of Mars this month.Tricky Terrain: Helping to Assure a Safe Rover LandingFebruary  8, 2021Tricky Terrain: Helping to Assure a Safe Rover LandingHow two new technologies will help Perseverance, NASA’s most sophisticated rover yet, touch down onto the surface of Mars this month.A new NASA paper provides the most detailed map to date of near-surface water ice on the Red Planet.Where Should Future Astronauts Land on Mars? Follow the WaterFebruary  8, 2021Where Should Future Astronauts Land on Mars? Follow the WaterA new NASA paper provides the most detailed map to date of near-surface water ice on the Red Planet.Even as the Perseverance rover approaches Mars, technology on board is paying off on Earth.NASA's Perseverance Pays Off Back HomeFebruary  2, 2021NASA's Perseverance Pays Off Back HomeEven as the Perseverance rover approaches Mars, technology on board is paying off on Earth.The Martian moon Phobos orbits through a stream of charged atoms and molecules that flow off the Red Planet’s atmosphere, new research shows.Could the Surface of Phobos Reveal Secrets of the Martian Past?February  1, 2021Could the Surface of Phobos Reveal Secrets of the Martian Past?The Martian moon Phobos orbits through a stream of charged atoms and molecules that flow off the Red Planet’s atmosphere, new research shows.With a suite of new national and international spacecraft primed to explore the Red Planet after their arrival next month, NASA’s MAVEN mission is ready to provide support and continue its study of the Martian atmosphere.NASA's MAVEN Continues to Advance Mars Science and Telecommunications Relay EffortsJanuary 28, 2021NASA's MAVEN Continues to Advance Mars Science and Telecommunications Relay EffortsWith a suite of new national and international spacecraft primed to explore the Red Planet after their arrival next month, NASA’s MAVEN mission is ready to provide support and continue its study of the Martian atmosphere.Seven minutes of harrowing descent to the Red Planet is in the not-so-distant future for the agency’s Mars 2020 mission.  NASA's Perseverance Rover 22 Days From Mars LandingJanuary 27, 2021NASA's Perseverance Rover 22 Days From Mars LandingSeven minutes of harrowing descent to the Red Planet is in the not-so-distant future for the agency’s Mars 2020 mission.  Ingenuity, a technology experiment, is preparing to attempt the first powered, controlled flight on the Red Planet.6 Things to Know About NASA's Mars Helicopter on Its Way to MarsJanuary 21, 20216 Things to Know About NASA's Mars Helicopter on Its Way to MarsIngenuity, a technology experiment, is preparing to attempt the first powered, controlled flight on the Red Planet.NASA leadership and members of the mission will discuss the agency’s latest rover, which touches down on the Red Planet on Feb. 18.NASA to Host Virtual Briefing on February Perseverance Mars Rover LandingJanuary 15, 2021NASA to Host Virtual Briefing on February Perseverance Mars Rover LandingNASA leadership and members of the mission will discuss the agency’s latest rover, which touches down on the Red Planet on Feb. 18.The heat probe hasn’t been able to gain the friction it needs to dig, but the mission has been granted an extension to carry on with its other science.NASA InSight's ‘Mole' Ends Its Journey on MarsJanuary 14, 2021NASA InSight's ‘Mole' Ends Its Journey on MarsThe heat probe hasn’t been able to gain the friction it needs to dig, but the mission has been granted an extension to carry on with its other science.Audio gathered by the mission may not sound quite the same on Mars as it would to our ears on Earth. A new interactive online experience lets you sample the difference.Mars 2020 Perseverance Rover to Capture Sounds From the Red PlanetJanuary 13, 2021Mars 2020 Perseverance Rover to Capture Sounds From the Red PlanetAudio gathered by the mission may not sound quite the same on Mars as it would to our ears on Earth. A new interactive online experience lets you sample the difference.As the rover has continued to ascend Mount Sharp, it’s found distinctive benchlike rock formations.NASA's Curiosity Rover Reaches Its 3,000th Day on MarsJanuary 12, 2021NASA's Curiosity Rover Reaches Its 3,000th Day on MarsAs the rover has continued to ascend Mount Sharp, it’s found distinctive benchlike rock formations.The rover touches down on the Red Planet next month, and students are invited to join the excitement by designing, building, and landing their own Mars mission. NASA can help.Celebrate the Perseverance Rover Landing With NASA's Student ChallengeJanuary  8, 2021Celebrate the Perseverance Rover Landing With NASA's Student ChallengeThe rover touches down on the Red Planet next month, and students are invited to join the excitement by designing, building, and landing their own Mars mission. NASA can help.The missions – Juno and InSight – have each increased our understanding of our solar system, as well as spurred new sets of diverse questions.NASA Extends Exploration for Two Planetary Science MissionsJanuary  8, 2021NASA Extends Exploration for Two Planetary Science MissionsThe missions – Juno and InSight – have each increased our understanding of our solar system, as well as spurred new sets of diverse questions.The Mars 2020 Perseverance rover, which has started its approach to the Red Planet, will help answer the next logical question in Mars exploration.7 Things to Know About the NASA Rover About to Land on MarsJanuary  6, 20217 Things to Know About the NASA Rover About to Land on MarsThe Mars 2020 Perseverance rover, which has started its approach to the Red Planet, will help answer the next logical question in Mars exploration.Marvels of engineering, the rover's sample tubes must be tough enough to safely bring Red Planet samples on the long journey back to Earth in immaculate condition. A Martian Roundtrip: NASA's Perseverance Rover Sample TubesDecember 22, 2020A Martian Roundtrip: NASA's Perseverance Rover Sample TubesMarvels of engineering, the rover's sample tubes must be tough enough to safely bring Red Planet samples on the long journey back to Earth in immaculate condition. During this next phase, the program will mature critical technologies and make critical design decisions as well as assess industry partnerships.NASA Moves Forward With Campaign to Return Mars Samples to EarthDecember 17, 2020NASA Moves Forward With Campaign to Return Mars Samples to EarthDuring this next phase, the program will mature critical technologies and make critical design decisions as well as assess industry partnerships.Scientists are finding new mysteries since the geophysics mission landed two years ago.3 Things We've Learned From NASA's Mars InSight December 16, 20203 Things We've Learned From NASA's Mars InSight Scientists are finding new mysteries since the geophysics mission landed two years ago.Bill Allen has thrived as the mechanical systems design lead for three Mars rover missions, but he got his start as a teenager sorting letters for the NASA center.From JPL's Mailroom to Mars and BeyondDecember 14, 2020From JPL's Mailroom to Mars and BeyondBill Allen has thrived as the mechanical systems design lead for three Mars rover missions, but he got his start as a teenager sorting letters for the NASA center.The symbols, mottos, and small objects added to the agency's newest Mars rover serve a variety of purposes, from functional to decorative.5 Hidden Gems Are Riding Aboard NASA's Perseverance RoverDecember  8, 20205 Hidden Gems Are Riding Aboard NASA's Perseverance RoverThe symbols, mottos, and small objects added to the agency's newest Mars rover serve a variety of purposes, from functional to decorative.NASA's Perseverance rover carries a device to convert Martian air into oxygen that, if produced on a larger scale, could be used not just for breathing, but also for fuel.MOXIE Could Help Future Rockets Launch Off MarsNovember 24, 2020MOXIE Could Help Future Rockets Launch Off MarsNASA's Perseverance rover carries a device to convert Martian air into oxygen that, if produced on a larger scale, could be used not just for breathing, but also for fuel.The first to be rigged with microphones, the agency's latest Mars rover picked up the subtle sounds of its own inner workings during interplanetary flight.Hear Audio From NASA's Perseverance As It Travels Through Deep SpaceNovember 18, 2020Hear Audio From NASA's Perseverance As It Travels Through Deep SpaceThe first to be rigged with microphones, the agency's latest Mars rover picked up the subtle sounds of its own inner workings during interplanetary flight.Sensors on NASA's Perseverance will help prepare for future human exploration by taking weather measurements and studying dust particles.Mars Is Getting a New Robotic MeteorologistNovember 13, 2020Mars Is Getting a New Robotic MeteorologistSensors on NASA's Perseverance will help prepare for future human exploration by taking weather measurements and studying dust particles.Scientists using an instrument aboard NASA’s Mars Atmosphere and Volatile EvolutioN, or MAVEN, spacecraft have discovered that water vapor near the surface of the Red Planet is lofted higher into the atmosphere than anyone expected was possible. Heat and Dust Help Launch Martian Water Into Space, Scientists FindNovember 13, 2020Heat and Dust Help Launch Martian Water Into Space, Scientists FindScientists using an instrument aboard NASA’s Mars Atmosphere and Volatile EvolutioN, or MAVEN, spacecraft have discovered that water vapor near the surface of the Red Planet is lofted higher into the atmosphere than anyone expected was possible. The Mars rover has drilled three samples of rock in this clay-enriched region since arriving in July.NASA's Curiosity Takes Selfie With 'Mary Anning' on the Red PlanetNovember 12, 2020NASA's Curiosity Takes Selfie With 'Mary Anning' on the Red PlanetThe Mars rover has drilled three samples of rock in this clay-enriched region since arriving in July.NASA released an independent review report Tuesday indicating the agency is well positioned for its Mars Sample Return campaign to bring pristine samples from Mars to Earth for scientific study.Independent Review Indicates NASA Prepared for Mars Sample Return CampaignNovember 10, 2020Independent Review Indicates NASA Prepared for Mars Sample Return CampaignNASA released an independent review report Tuesday indicating the agency is well positioned for its Mars Sample Return campaign to bring pristine samples from Mars to Earth for scientific study.Mark your calendars: The agency's latest rover has only about 8,640,000 seconds to go before it touches down on the Red Planet, becoming history's next Mars car.NASA's Perseverance Rover 100 Days OutNovember 10, 2020NASA's Perseverance Rover 100 Days OutMark your calendars: The agency's latest rover has only about 8,640,000 seconds to go before it touches down on the Red Planet, becoming history's next Mars car.Sometimes half measures can be a good thing – especially on a journey this long. The agency's latest rover only has about 146 million miles left to reach its destination.NASA's Perseverance Rover Is Midway to Mars October 27, 2020NASA's Perseverance Rover Is Midway to Mars Sometimes half measures can be a good thing – especially on a journey this long. The agency's latest rover only has about 146 million miles left to reach its destination.Instruments tailored to collect data during the descent of NASA's next rover through the Red Planet's atmosphere have been checked in flight.Sensors on Mars 2020 Spacecraft Answer Long-Distance Call From EarthOctober 22, 2020Sensors on Mars 2020 Spacecraft Answer Long-Distance Call From EarthInstruments tailored to collect data during the descent of NASA's next rover through the Red Planet's atmosphere have been checked in flight.For hobbyists and makers, 3D printing expands creative possibilities; for specialized engineers, it's also key to next-generation spacecraft design.NASA's Perseverance Rover Bringing 3D-Printed Metal Parts to MarsOctober 19, 2020NASA's Perseverance Rover Bringing 3D-Printed Metal Parts to MarsFor hobbyists and makers, 3D printing expands creative possibilities; for specialized engineers, it's also key to next-generation spacecraft design.Now that the heat probe is just below the Martian surface, InSight's arm will scoop some additional soil on top to help it keep digging so it can take Mars' temperature.NASA InSight's 'Mole' Is Out of SightOctober 16, 2020NASA InSight's 'Mole' Is Out of SightNow that the heat probe is just below the Martian surface, InSight's arm will scoop some additional soil on top to help it keep digging so it can take Mars' temperature.The agency's newest rover will use the first ground-penetrating radar instrument on the Martian surface to help search for signs of past microbial life. NASA's Perseverance Rover Will Peer Beneath Mars' Surface October  8, 2020NASA's Perseverance Rover Will Peer Beneath Mars' Surface The agency's newest rover will use the first ground-penetrating radar instrument on the Martian surface to help search for signs of past microbial life. It's the first time machine learning has been used to find previously unknown craters on the Red Planet.AI Is Helping Scientists Discover Fresh Craters on MarsOctober  1, 2020AI Is Helping Scientists Discover Fresh Craters on MarsIt's the first time machine learning has been used to find previously unknown craters on the Red Planet.Perseverance is one of a few Mars spacecraft carrying laser retroreflectors. The devices could provide new science and safer Mars landings in the future.NASA's New Mars Rover Is Ready for Space LasersSeptember 28, 2020NASA's New Mars Rover Is Ready for Space LasersPerseverance is one of a few Mars spacecraft carrying laser retroreflectors. The devices could provide new science and safer Mars landings in the future.PIXL, an instrument on the end of the Perseverance rover's arm, will search for chemical fingerprints left by ancient microbes.NASA's New Mars Rover Will Use X-Rays to Hunt FossilsSeptember 22, 2020NASA's New Mars Rover Will Use X-Rays to Hunt FossilsPIXL, an instrument on the end of the Perseverance rover's arm, will search for chemical fingerprints left by ancient microbes.In honor of Hispanic Heritage Month, Christina Hernandez, an instrument engineer on the Mars 2020 mission, talks about her childhood and journey to NASA.My Culture, My VoiceSeptember 16, 2020My Culture, My VoiceIn honor of Hispanic Heritage Month, Christina Hernandez, an instrument engineer on the Mars 2020 mission, talks about her childhood and journey to NASA.Did you know NASA's next Mars rover has a nearly identical sibling on Earth for testing? Even better, it's about to roll for the first time through a replica Martian landscape.NASA Readies Perseverance Mars Rover's Earthly Twin September  4, 2020NASA Readies Perseverance Mars Rover's Earthly Twin Did you know NASA's next Mars rover has a nearly identical sibling on Earth for testing? Even better, it's about to roll for the first time through a replica Martian landscape.An electronics issue is suspected to be preventing the sensors from sharing their data about Mars weather with the spacecraft.NASA Engineers Checking InSight's Weather SensorsAugust 24, 2020NASA Engineers Checking InSight's Weather SensorsAn electronics issue is suspected to be preventing the sensors from sharing their data about Mars weather with the spacecraft.A crisply rendered web application can show you where the agency's Mars 2020 mission is right now as it makes its way to the Red Planet for a Feb. 18, 2021, landing.Follow NASA's Perseverance Rover in Real Time on Its Way to MarsAugust 21, 2020Follow NASA's Perseverance Rover in Real Time on Its Way to MarsA crisply rendered web application can show you where the agency's Mars 2020 mission is right now as it makes its way to the Red Planet for a Feb. 18, 2021, landing.The board will assist with analysis of current plans and goals for one of the most difficult missions humanity has ever undertaken.NASA Establishes Board to Initially Review Mars Sample Return PlansAugust 14, 2020NASA Establishes Board to Initially Review Mars Sample Return PlansThe board will assist with analysis of current plans and goals for one of the most difficult missions humanity has ever undertaken.Headed to the Red Planet with the Perseverance rover, the pioneering helicopter is powered up for the first time in interplanetary space as part of a systems check.NASA's Ingenuity Mars Helicopter Recharges Its Batteries in FlightAugust 13, 2020NASA's Ingenuity Mars Helicopter Recharges Its Batteries in FlightHeaded to the Red Planet with the Perseverance rover, the pioneering helicopter is powered up for the first time in interplanetary space as part of a systems check.More\\n\\n\\n\\n\\n\\n\\nYou Might Also Like\\n\\n\\n\\n\\n\\n\\n\\n\\n\\nThe Red Planet's surface has been visited by eight NASA spacecraft. The ninth will be the first that includes a roundtrip ticket in its flight plan. \\n\\n\\n\\n\\n\\n\\n\\n\\n\\n\\nThe Launch Is Approaching for NASA's Next Mars Rover, Perseverance\\n\\n\\n\\n\\n\\n\\n\\nLearn more about the agency's next Red Planet mission during a live event on June 17.\\n\\n\\n\\n\\n\\n\\n\\n\\n\\n\\nNASA to Hold Mars 2020 Perseverance Rover Launch Briefing\\n\\n\\n\\n\\n\\n\\n\\nVaneeza Rupani's essay was chosen as the name for the small spacecraft, which will mark NASA's first attempt at powered flight on another planet.\\n\\n\\n\\n\\n\\n\\n\\n\\n\\n\\nAlabama High School Student Names NASA's Mars Helicopter\\n\\n\\n\\n\\n\\n\\n\\nNASA leadership and members of the mission will discuss the agency’s latest rover, which touches down on the Red Planet on Feb. 18.\\n\\n\\n\\n\\n\\n\\n\\n\\n\\n\\nNASA to Host Virtual Briefing on February Perseverance Mars Rover Landing\\n\\n\\n\\n\\n\\n\\n\\nThe heat probe hasn’t been able to gain the friction it needs to dig, but the mission has been granted an extension to carry on with its other science.\\n\\n\\n\\n\\n\\n\\n\\n\\n\\n\\nNASA InSight's ‘Mole' Ends Its Journey on Mars\\n\\n\\n\\n\\n\\n\\n\\nStarting July 27, news activities will cover everything from mission engineering and science to returning samples from Mars to, of course, the launch itself.\\n\\n\\n\\n\\n\\n\\n\\n\\n\\n\\nNASA to Broadcast Mars 2020 Perseverance Launch, Prelaunch Activities\\n\\n\\n\\n\\n\\n\\n\\nThe Red Planet's surface has been visited by eight NASA spacecraft. The ninth will be the first that includes a roundtrip ticket in its flight plan. \\n\\n\\n\\n\\n\\n\\n\\n\\n\\n\\nThe Launch Is Approaching for NASA's Next Mars Rover, Perseverance\\n\\n\\n\\n\\n\\n\\n\\nLearn more about the agency's next Red Planet mission during a live event on June 17.\\n\\n\\n\\n\\n\\n\\n\\n\\n\\n\\nNASA to Hold Mars 2020 Perseverance Rover Launch Briefing\\n\\n\\n\\n\\n\\n\\n\\nVaneeza Rupani's essay was chosen as the name for the small spacecraft, which will mark NASA's first attempt at powered flight on another planet.\\n\\n\\n\\n\\n\\n\\n\\n\\n\\n\\nAlabama High School Student Names NASA's Mars Helicopter\\n\\n\\n\\n\\n\\n\\n\\nNASA leadership and members of the mission will discuss the agency’s latest rover, which touches down on the Red Planet on Feb. 18.\\n\\n\\n\\n\\n\\n\\n\\n\\n\\n\\nNASA to Host Virtual Briefing on February Perseverance Mars Rover Landing\\n\\n\\n\\n\\n\\n\\n\\nThe heat probe hasn’t been able to gain the friction it needs to dig, but the mission has been granted an extension to carry on with its other science.\\n\\n\\n\\n\\n\\n\\n\\n\\n\\n\\nNASA InSight's ‘Mole' Ends Its Journey on Mars\\n\\n\\n\\n\\n\\n\\n\\nStarting July 27, news activities will cover everything from mission engineering and science to returning samples from Mars to, of course, the launch itself.\\n\\n\\n\\n\\n\\n\\n\\n\\n\\n\\nNASA to Broadcast Mars 2020 Perseverance Launch, Prelaunch Activities\\n\\n\\n\\n\\n\\nPreviousNext\\n\\n\\n\\n\\n\\n\\n\\n\\n\\n\\n\\n\\nGet the Mars Newsletter\\n\\n\\n\\n\\n\\n\\nFollow the Journey\\n\\n\\n\\n\\nTwitter\\n\\nFacebook\\n\\nInstagram\\n\\nRSS\\n\\n\\n\\n\\n\\n\\n\\n\\n\\n\\n\\nThe Red Planet\\n\\n\\n\\n\\n\\nDashboard\\n\\n\\nScience Goals\\n\\n\\nThe Planet\\n\\n\\nAtmosphere\\n\\n\\nAstrobiology\\n\\n\\nPast, Present, Future, Timeline\\n\\n\\n\\n\\n\\n\\n\\n\\n\\nThe Program\\n\\n\\n\\n\\n\\nMission Statement\\n\\n\\nAbout the Program\\n\\n\\nOrganization\\n\\n\\nWhy Mars?\\n\\n\\nResearch Programs\\n\\n\\nPlanetary Resources\\n\\n\\nTechnologies\\n\\n\\n\\n\\n\\n\\n\\n\\n\\nNews & Events\\n\\n\\n\\n\\n\\nNews\\n\\n\\nEvents\\n\\n\\n\\n\\n\\n\\n\\n\\n\\nMultimedia\\n\\n\\n\\n\\n\\nImages\\n\\n\\nVideos\\n\\n\\nMore Resources\\n\\n\\n\\n\\n\\n\\n\\n\\n\\nMissions\\n\\n\\n\\n\\n\\nPast\\n\\n\\nPresent\\n\\n\\nFuture\\n\\n\\nInternational Partners\\n\\n\\n\\n\\n\\n\\n\\n\\n\\nMore\\n\\n\\n\\n\\n\\n\\n\\n\\n\\n\\n\\n\\n\\n\\n\\n\\n\\nNASA Science Mission Directorate\\n\\n\\nPrivacy\\n\\n\\nImage Policy\\n\\n\\nFeedback\\n\\n\\n\\n\\n\\n\\nManaged by the Mars Exploration Program and the Jet Propulsion Laboratory for NASA’s Science Mission Directorate\\n\\n\\n\\n\\n\\n\\n\\n\\n\\n\\n\\n\\n\\n\\n\\n\\n\\n\\n\\n\\n\\n\\n\\n\\n\\n\\nAddThis Sharing SidebarShare to FacebookFacebookShare to TwitterTwitterShare to RedditRedditShare to EmailEmailMore AddThis Share optionsAddThis135SHARESHideShowCloseAddThisAddThis SharingSHARESFacebookTwitterRedditEmailAddThis\""
      ]
     },
     "execution_count": 13,
     "metadata": {},
     "output_type": "execute_result"
    }
   ],
   "source": [
    "block_of_text = news_soup.text\n",
    "block_of_text"
   ]
  },
  {
   "cell_type": "code",
   "execution_count": 15,
   "metadata": {},
   "outputs": [
    {
     "data": {
      "text/plain": [
       "109"
      ]
     },
     "execution_count": 15,
     "metadata": {},
     "output_type": "execute_result"
    }
   ],
   "source": [
    "block_of_text.count('NASA')"
   ]
  },
  {
   "cell_type": "code",
   "execution_count": 21,
   "metadata": {},
   "outputs": [
    {
     "name": "stdout",
     "output_type": "stream",
     "text": [
      "<div class=\"image_and_description_container\"><a href=\"/news/8852/tricky-terrain-helping-to-assure-a-safe-rover-landing/\" target=\"_self\"><div class=\"rollover_description\"><div class=\"rollover_description_inner\">How two new technologies will help Perseverance, NASA’s most sophisticated rover yet, touch down onto the surface of Mars this month.</div><div class=\"overlay_arrow\"><img alt=\"More\" src=\"/assets/overlay-arrow.png\"/></div></div><div class=\"list_image\"><img alt=\"diagram of rover landing on Mars\" src=\"/system/news_items/list_view_images/8852_Mars2020-Landing-Technique-320x240.jpg\"/></div><div class=\"bottom_gradient\"><div><h3>Tricky Terrain: Helping to Assure a Safe Rover Landing</h3></div></div></a><div class=\"list_text\"><div class=\"list_date\">February  8, 2021</div><div class=\"content_title\"><a href=\"/news/8852/tricky-terrain-helping-to-assure-a-safe-rover-landing/\" target=\"_self\">Tricky Terrain: Helping to Assure a Safe Rover Landing</a></div><div class=\"article_teaser_body\">How two new technologies will help Perseverance, NASA’s most sophisticated rover yet, touch down onto the surface of Mars this month.</div></div></div>\n"
     ]
    }
   ],
   "source": [
    "children = slide_elem.children\n",
    "for child in children:\n",
    "    print(child)"
   ]
  },
  {
   "cell_type": "code",
   "execution_count": 22,
   "metadata": {},
   "outputs": [
    {
     "data": {
      "text/plain": [
       "'Tricky Terrain: Helping to Assure a Safe Rover Landing'"
      ]
     },
     "execution_count": 22,
     "metadata": {},
     "output_type": "execute_result"
    }
   ],
   "source": [
    "# Use the parent element to find the first `a` tag and save it as `news_title`\n",
    "news_title = slide_elem.find(\"div\", class_='content_title').get_text()\n",
    "news_title"
   ]
  },
  {
   "cell_type": "code",
   "execution_count": 23,
   "metadata": {},
   "outputs": [
    {
     "data": {
      "text/plain": [
       "'How two new technologies will help Perseverance, NASA’s most sophisticated rover yet, touch down onto the surface of Mars this month.'"
      ]
     },
     "execution_count": 23,
     "metadata": {},
     "output_type": "execute_result"
    }
   ],
   "source": [
    "summary_text = slide_elem.find(\"div\", class_='article_teaser_body').get_text()\n",
    "summary_text"
   ]
  },
  {
   "cell_type": "markdown",
   "metadata": {},
   "source": [
    "### Featured Images"
   ]
  },
  {
   "cell_type": "code",
   "execution_count": 147,
   "metadata": {},
   "outputs": [],
   "source": [
    "# Visit URL\n",
    "url = 'https://data-class-jpl-space.s3.amazonaws.com/JPL_Space/index.html'\n",
    "browser.visit(url)"
   ]
  },
  {
   "cell_type": "code",
   "execution_count": 148,
   "metadata": {},
   "outputs": [],
   "source": [
    "# Find and click the full image button\n",
    "full_image_elem = browser.find_by_tag('button')[1]\n",
    "full_image_elem.click()"
   ]
  },
  {
   "cell_type": "code",
   "execution_count": 149,
   "metadata": {},
   "outputs": [],
   "source": [
    "# Parse the resulting html with soup\n",
    "html = browser.html\n",
    "img_soup = soup(html, 'html.parser')"
   ]
  },
  {
   "cell_type": "code",
   "execution_count": 150,
   "metadata": {},
   "outputs": [
    {
     "data": {
      "text/plain": [
       "'image/featured/mars3.jpg'"
      ]
     },
     "execution_count": 150,
     "metadata": {},
     "output_type": "execute_result"
    }
   ],
   "source": [
    "# Find the relative image url\n",
    "img_url_rel = img_soup.find('img', class_='fancybox-image').get('src')\n",
    "img_url_rel"
   ]
  },
  {
   "cell_type": "code",
   "execution_count": 151,
   "metadata": {},
   "outputs": [
    {
     "data": {
      "text/plain": [
       "'https://data-class-jpl-space.s3.amazonaws.com/JPL_Space/image/featured/mars3.jpg'"
      ]
     },
     "execution_count": 151,
     "metadata": {},
     "output_type": "execute_result"
    }
   ],
   "source": [
    "# Use the base URL to create an absolute URL\n",
    "img_url = f'https://data-class-jpl-space.s3.amazonaws.com/JPL_Space/{img_url_rel}'\n",
    "img_url"
   ]
  },
  {
   "cell_type": "code",
   "execution_count": 153,
   "metadata": {},
   "outputs": [
    {
     "data": {
      "text/html": [
       "<div>\n",
       "<style scoped>\n",
       "    .dataframe tbody tr th:only-of-type {\n",
       "        vertical-align: middle;\n",
       "    }\n",
       "\n",
       "    .dataframe tbody tr th {\n",
       "        vertical-align: top;\n",
       "    }\n",
       "\n",
       "    .dataframe thead th {\n",
       "        text-align: right;\n",
       "    }\n",
       "</style>\n",
       "<table border=\"1\" class=\"dataframe\">\n",
       "  <thead>\n",
       "    <tr style=\"text-align: right;\">\n",
       "      <th></th>\n",
       "      <th>value</th>\n",
       "    </tr>\n",
       "    <tr>\n",
       "      <th>description</th>\n",
       "      <th></th>\n",
       "    </tr>\n",
       "  </thead>\n",
       "  <tbody>\n",
       "    <tr>\n",
       "      <th>Equatorial Diameter:</th>\n",
       "      <td>6,792 km</td>\n",
       "    </tr>\n",
       "    <tr>\n",
       "      <th>Polar Diameter:</th>\n",
       "      <td>6,752 km</td>\n",
       "    </tr>\n",
       "    <tr>\n",
       "      <th>Mass:</th>\n",
       "      <td>6.39 × 10^23 kg (0.11 Earths)</td>\n",
       "    </tr>\n",
       "    <tr>\n",
       "      <th>Moons:</th>\n",
       "      <td>2 (Phobos &amp; Deimos)</td>\n",
       "    </tr>\n",
       "    <tr>\n",
       "      <th>Orbit Distance:</th>\n",
       "      <td>227,943,824 km (1.38 AU)</td>\n",
       "    </tr>\n",
       "    <tr>\n",
       "      <th>Orbit Period:</th>\n",
       "      <td>687 days (1.9 years)</td>\n",
       "    </tr>\n",
       "    <tr>\n",
       "      <th>Surface Temperature:</th>\n",
       "      <td>-87 to -5 °C</td>\n",
       "    </tr>\n",
       "    <tr>\n",
       "      <th>First Record:</th>\n",
       "      <td>2nd millennium BC</td>\n",
       "    </tr>\n",
       "    <tr>\n",
       "      <th>Recorded By:</th>\n",
       "      <td>Egyptian astronomers</td>\n",
       "    </tr>\n",
       "  </tbody>\n",
       "</table>\n",
       "</div>"
      ],
      "text/plain": [
       "                                              value\n",
       "description                                        \n",
       "Equatorial Diameter:                       6,792 km\n",
       "Polar Diameter:                            6,752 km\n",
       "Mass:                 6.39 × 10^23 kg (0.11 Earths)\n",
       "Moons:                          2 (Phobos & Deimos)\n",
       "Orbit Distance:            227,943,824 km (1.38 AU)\n",
       "Orbit Period:                  687 days (1.9 years)\n",
       "Surface Temperature:                   -87 to -5 °C\n",
       "First Record:                     2nd millennium BC\n",
       "Recorded By:                   Egyptian astronomers"
      ]
     },
     "execution_count": 153,
     "metadata": {},
     "output_type": "execute_result"
    }
   ],
   "source": [
    "df = pd.read_html('http://space-facts.com/mars/')[0]\n",
    "df.columns=['description', 'value']\n",
    "df.set_index('description', inplace=True)\n",
    "df"
   ]
  },
  {
   "cell_type": "code",
   "execution_count": 159,
   "metadata": {},
   "outputs": [
    {
     "data": {
      "text/plain": [
       "'<table border=\"1\" class=\"dataframe\">\\n  <thead>\\n    <tr style=\"text-align: right;\">\\n      <th></th>\\n      <th>0</th>\\n      <th>1</th>\\n    </tr>\\n  </thead>\\n  <tbody>\\n    <tr>\\n      <th>0</th>\\n      <td>Equatorial Diameter:</td>\\n      <td>6,792 km</td>\\n    </tr>\\n    <tr>\\n      <th>1</th>\\n      <td>Polar Diameter:</td>\\n      <td>6,752 km</td>\\n    </tr>\\n    <tr>\\n      <th>2</th>\\n      <td>Mass:</td>\\n      <td>6.39 × 10^23 kg (0.11 Earths)</td>\\n    </tr>\\n    <tr>\\n      <th>3</th>\\n      <td>Moons:</td>\\n      <td>2 (Phobos &amp; Deimos)</td>\\n    </tr>\\n    <tr>\\n      <th>4</th>\\n      <td>Orbit Distance:</td>\\n      <td>227,943,824 km (1.38 AU)</td>\\n    </tr>\\n    <tr>\\n      <th>5</th>\\n      <td>Orbit Period:</td>\\n      <td>687 days (1.9 years)</td>\\n    </tr>\\n    <tr>\\n      <th>6</th>\\n      <td>Surface Temperature:</td>\\n      <td>-87 to -5 °C</td>\\n    </tr>\\n    <tr>\\n      <th>7</th>\\n      <td>First Record:</td>\\n      <td>2nd millennium BC</td>\\n    </tr>\\n    <tr>\\n      <th>8</th>\\n      <td>Recorded By:</td>\\n      <td>Egyptian astronomers</td>\\n    </tr>\\n  </tbody>\\n</table>'"
      ]
     },
     "execution_count": 159,
     "metadata": {},
     "output_type": "execute_result"
    }
   ],
   "source": [
    "df.to_html()"
   ]
  },
  {
   "cell_type": "code",
   "execution_count": 160,
   "metadata": {},
   "outputs": [],
   "source": [
    "# quit the scraping\n",
    "browser.quit()"
   ]
  },
  {
   "cell_type": "markdown",
   "metadata": {},
   "source": [
    "# Practice Scraping (Encyclopedia of Forlorn Places)"
   ]
  },
  {
   "cell_type": "code",
   "execution_count": 121,
   "metadata": {},
   "outputs": [],
   "source": [
    "import requests"
   ]
  },
  {
   "cell_type": "code",
   "execution_count": 122,
   "metadata": {},
   "outputs": [],
   "source": [
    "sample = 'http://eofp.net/alla_e.html'"
   ]
  },
  {
   "cell_type": "code",
   "execution_count": 123,
   "metadata": {},
   "outputs": [],
   "source": [
    "practice = requests.get(sample)"
   ]
  },
  {
   "cell_type": "code",
   "execution_count": 124,
   "metadata": {},
   "outputs": [
    {
     "data": {
      "text/plain": [
       "requests.models.Response"
      ]
     },
     "execution_count": 124,
     "metadata": {},
     "output_type": "execute_result"
    }
   ],
   "source": [
    "type(practice)"
   ]
  },
  {
   "cell_type": "code",
   "execution_count": 125,
   "metadata": {},
   "outputs": [
    {
     "data": {
      "text/plain": [
       "200"
      ]
     },
     "execution_count": 125,
     "metadata": {},
     "output_type": "execute_result"
    }
   ],
   "source": [
    "practice.status_code"
   ]
  },
  {
   "cell_type": "code",
   "execution_count": 126,
   "metadata": {},
   "outputs": [],
   "source": [
    "soup_object = soup(practice.text)"
   ]
  },
  {
   "cell_type": "code",
   "execution_count": 127,
   "metadata": {},
   "outputs": [],
   "source": [
    "x = soup_object.find('div', {'id': 'inner_content'})"
   ]
  },
  {
   "cell_type": "code",
   "execution_count": 128,
   "metadata": {},
   "outputs": [
    {
     "data": {
      "text/plain": [
       "'[<br/>, <br/>, <h2>All Entries A to E in Alphabetical Order</h2>, <p><a href=\"aberdeen.html\"><img height=\"80\" src=\"2014/aberdeenthumb.jpg\" width=\"120\"/></a></p>, <a href=\"aberdeen.html\"><img height=\"80\" src=\"2014/aberdeenthumb.jpg\" width=\"120\"/></a>, <img height=\"80\" src=\"2014/aberdeenthumb.jpg\" width=\"120\"/>, <p><a href=\"aberdeen.html\">Aberdeen</a> <a href=\"washington.html\">Washington</a> | Early 1900s lumber boomtown. Has stabilized after declining for much of the late 1900s<a href=\"aberdeen.html\">.</a> (11 photos - 2014)</p>, <a href=\"aberdeen.html\">Aberdeen</a>, <a href=\"washington.html\">Washington</a>, <a href=\"aberdeen.html\">.</a>, <br/>, <p><a href=\"abo.html\"><img height=\"80\" src=\"place_images2013trip/abothumb.jpg\" width=\"120\"/></a></p>, <a href=\"abo.html\"><img height=\"80\" src=\"place_images2013trip/abothumb.jpg\" width=\"120\"/></a>, <img height=\"80\" src=\"place_images2013trip/abothumb.jpg\" width=\"120\"/>, <p><a href=\"abo.html\">Abo</a> <a href=\"nm.html\">New Mexico</a> | Part of the <a href=\"place_images_updated\">Salinas Pueblo Missions National Monument.</a> (16 photos - 2013)</p>, <a href=\"abo.html\">Abo</a>, <a href=\"nm.html\">New Mexico</a>, <a href=\"place_images_updated\">Salinas Pueblo Missions National Monument.</a>, <br/>, <p><a href=\"acadia.html\"><img height=\"80\" src=\"place_images2013trip2/acadiathumb.jpg\" width=\"120\"/></a></p>, <a href=\"acadia.html\"><img height=\"80\" src=\"place_images2013trip2/acadiathumb.jpg\" width=\"120\"/></a>, <img height=\"80\" src=\"place_images2013trip2/acadiathumb.jpg\" width=\"120\"/>, <p><a href=\"acadia.html\">Acadia National Park,</a> <a href=\"me.html\">Maine</a> | Horribly crowded park with the most backwards transportation design in the national parks system. (17 photos - 2013)</p>, <a href=\"acadia.html\">Acadia National Park,</a>, <a href=\"me.html\">Maine</a>, <br/>, <p><a href=\"ahmeekstmill.html\"><img alt=\"\" height=\"80\" src=\"place_images2/ahmeekstmillthumb.jpg\" width=\"120\"/></a></p>, <a href=\"ahmeekstmill.html\"><img alt=\"\" height=\"80\" src=\"place_images2/ahmeekstmillthumb.jpg\" width=\"120\"/></a>, <img alt=\"\" height=\"80\" src=\"place_images2/ahmeekstmillthumb.jpg\" width=\"120\"/>, <p><a href=\"ahmeekstmill.html\">Ahmeek Stamp Mill</a>, Tamarack City <a href=\"mi.html\">Michigan</a> | Industrial ruins. (7 photos - 2010)</p>, <a href=\"ahmeekstmill.html\">Ahmeek Stamp Mill</a>, <a href=\"mi.html\">Michigan</a>, <br/>, <p><a href=\"ahoskie.html\"><img alt=\"Ahoskie NC\" height=\"80\" src=\"place_images2/ahoskiethumb.jpg\" width=\"120\"/></a></p>, <a href=\"ahoskie.html\"><img alt=\"Ahoskie NC\" height=\"80\" src=\"place_images2/ahoskiethumb.jpg\" width=\"120\"/></a>, <img alt=\"Ahoskie NC\" height=\"80\" src=\"place_images2/ahoskiethumb.jpg\" width=\"120\"/>, <p><a href=\"ahoskie.html\">Ahoskie</a> <a href=\"nc.html\">North Carolina</a> | Old town with an interesting built environment. (10 photos - 2012)</p>, <a href=\"ahoskie.html\">Ahoskie</a>, <a href=\"nc.html\">North Carolina</a>, <br/>, <p><a href=\"alabamahills.html\"><img height=\"80\" src=\"added2014/alabamahillsthumb.jpg\" width=\"120\"/></a></p>, <a href=\"alabamahills.html\"><img height=\"80\" src=\"added2014/alabamahillsthumb.jpg\" width=\"120\"/></a>, <img height=\"80\" src=\"added2014/alabamahillsthumb.jpg\" width=\"120\"/>, <p><a href=\"alabamahills.html\">Alabama Hills and Whitney Portal</a>, <a href=\"california.html\">California</a> | Incredibly scenic and underdeveloped natural area. (22 photos - 2010-2014)</p>, <a href=\"alabamahills.html\">Alabama Hills and Whitney Portal</a>, <a href=\"california.html\">California</a>, <br/>, <p><a href=\"albemarle.html\"><img height=\"120\" src=\"place_images2013trip2/albemarlethumb.jpg\" width=\"80\"/></a></p>, <a href=\"albemarle.html\"><img height=\"120\" src=\"place_images2013trip2/albemarlethumb.jpg\" width=\"80\"/></a>, <img height=\"120\" src=\"place_images2013trip2/albemarlethumb.jpg\" width=\"80\"/>, <p><a href=\"albemarle.html\">Albemarle</a> <a href=\"nc.html\">North Carolina</a> | Small textile manufacturing city with a well preserved downtown and a few surviving industrial structures. (25 photos - 2013)</p>, <a href=\"albemarle.html\">Albemarle</a>, <a href=\"nc.html\">North Carolina</a>, <br/>, <p><a href=\"alder.html\"><img height=\"80\" src=\"added2014/alderthumb.jpg\" width=\"120\"/></a></p>, <a href=\"alder.html\"><img height=\"80\" src=\"added2014/alderthumb.jpg\" width=\"120\"/></a>, <img height=\"80\" src=\"added2014/alderthumb.jpg\" width=\"120\"/>, <p><a href=\"alder.html\">Alder</a> <a href=\"montana.html\">Montana</a> | Not much to see in this remnant 1860s gold rush town. (1 photo - 2014)</p>, <a href=\"alder.html\">Alder</a>, <a href=\"montana.html\">Montana</a>, <br/>, <p><a href=\"alton.html\"><img height=\"80\" src=\"place_images2013trip2/altonthumb.jpg\" width=\"120\"/></a></p>, <a href=\"alton.html\"><img height=\"80\" src=\"place_images2013trip2/altonthumb.jpg\" width=\"120\"/></a>, <img height=\"80\" src=\"place_images2013trip2/altonthumb.jpg\" width=\"120\"/>, <p><a href=\"alton.html\">Alton</a> <a href=\"illinois.html\">Illinois</a> | Historic river port that has undergone several economic transformations. (9 photos - 2013)</p>, <a href=\"alton.html\">Alton</a>, <a href=\"illinois.html\">Illinois</a>, <br/>, <p><a href=\"amadorcity.html\"><img alt=\"Amador City CA\" height=\"80\" src=\"place_images2/amadorcitythumb.jpg\" width=\"120\"/></a></p>, <a href=\"amadorcity.html\"><img alt=\"Amador City CA\" height=\"80\" src=\"place_images2/amadorcitythumb.jpg\" width=\"120\"/></a>, <img alt=\"Amador City CA\" height=\"80\" src=\"place_images2/amadorcitythumb.jpg\" width=\"120\"/>, <p><a href=\"amadorcity.html\">Amador City</a> <a href=\"california.html\">California</a> | 1849 gold rush town. (5 photos - 2011)</p>, <a href=\"amadorcity.html\">Amador City</a>, <a href=\"california.html\">California</a>, <br/>, <p><a href=\"amboy.html\"><img height=\"79\" src=\"place_images7/amboythumb.jpg\" width=\"120\"/></a></p>, <a href=\"amboy.html\"><img height=\"79\" src=\"place_images7/amboythumb.jpg\" width=\"120\"/></a>, <img height=\"79\" src=\"place_images7/amboythumb.jpg\" width=\"120\"/>, <p><a href=\"amboy.html\">Amboy</a> <a href=\"california.html\">California</a> | Small remnant town and evaporation trenches on lake bed. (8 photos - 2013)</p>, <a href=\"amboy.html\">Amboy</a>, <a href=\"california.html\">California</a>, <br/>, <p><a href=\"ambridge.html\"><img alt=\"Ambridge PA\" height=\"120\" src=\"place_images/ambridgethumb.jpg\" width=\"79\"/></a></p>, <a href=\"ambridge.html\"><img alt=\"Ambridge PA\" height=\"120\" src=\"place_images/ambridgethumb.jpg\" width=\"79\"/></a>, <img alt=\"Ambridge PA\" height=\"120\" src=\"place_images/ambridgethumb.jpg\" width=\"79\"/>, <p><a href=\"ambridge.html\">Ambridge Pennsylvania</a> | Nice small city on the Ohio River. (1 photo - 2008)</p>, <a href=\"ambridge.html\">Ambridge Pennsylvania</a>, <br/>, <p><a href=\"angelscamp.html\"><img alt=\"Angels Camp CA\" height=\"80\" src=\"place_images2/anglescampthumb.jpg\" width=\"120\"/></a></p>, <a href=\"angelscamp.html\"><img alt=\"Angels Camp CA\" height=\"80\" src=\"place_images2/anglescampthumb.jpg\" width=\"120\"/></a>, <img alt=\"Angels Camp CA\" height=\"80\" src=\"place_images2/anglescampthumb.jpg\" width=\"120\"/>, <p><a href=\"angelscamp.html\">Angels Camp</a> <a href=\"california.html\">California</a> | 1849 gold rush town. (5 photos - 2011)</p>, <a href=\"angelscamp.html\">Angels Camp</a>, <a href=\"california.html\">California</a>, <br/>, <p><a href=\"/2017/antwerp.html\"><img alt=\"Antwerp OH\" height=\"80\" src=\"/2017/photos/antwerpthumb.jpg\" width=\"120\"/></a></p>, <a href=\"/2017/antwerp.html\"><img alt=\"Antwerp OH\" height=\"80\" src=\"/2017/photos/antwerpthumb.jpg\" width=\"120\"/></a>, <img alt=\"Antwerp OH\" height=\"80\" src=\"/2017/photos/antwerpthumb.jpg\" width=\"120\"/>, <p><a href=\"/2017/antwerp.html\">Antwerp</a> <a href=\"ohio.html\">Ohio</a> | 1840s canal town that has neither grown nor shrunk in 100 or so years. (2 photos - 2017)</p>, <a href=\"/2017/antwerp.html\">Antwerp</a>, <a href=\"ohio.html\">Ohio</a>, <br/>, <p><a href=\"arches.html\"><img height=\"80\" src=\"place_images2013trip2/archesthumb.jpg\" width=\"120\"/></a></p>, <a href=\"arches.html\"><img height=\"80\" src=\"place_images2013trip2/archesthumb.jpg\" width=\"120\"/></a>, <img height=\"80\" src=\"place_images2013trip2/archesthumb.jpg\" width=\"120\"/>, <p><a href=\"arches.html\">Arches National Park,</a> <a href=\"utah.html\">Utah</a> | Hyper congested national park. (11 photos - 2013)</p>, <a href=\"arches.html\">Arches National Park,</a>, <a href=\"utah.html\">Utah</a>, <br/>, <p><a href=\"ashlandwisco.html\"><img alt=\"Ashland WI\" height=\"80\" src=\"place_images/ashlandthumb.jpg\" width=\"120\"/></a></p>, <a href=\"ashlandwisco.html\"><img alt=\"Ashland WI\" height=\"80\" src=\"place_images/ashlandthumb.jpg\" width=\"120\"/></a>, <img alt=\"Ashland WI\" height=\"80\" src=\"place_images/ashlandthumb.jpg\" width=\"120\"/>, <p><a href=\"ashlandwisco.html\">Ashland</a> <a href=\"wisco.html\">Wisconsin</a> | Historic iron ore port. (4 photos )</p>, <a href=\"ashlandwisco.html\">Ashland</a>, <a href=\"wisco.html\">Wisconsin</a>, <br/>, <p><a href=\"ashley.html\"><img alt=\"Huber Breaker, Ashley PA\" height=\"80\" src=\"place_images2013trip/huberbreakerthumb.jpg\" width=\"120\"/></a></p>, <a href=\"ashley.html\"><img alt=\"Huber Breaker, Ashley PA\" height=\"80\" src=\"place_images2013trip/huberbreakerthumb.jpg\" width=\"120\"/></a>, <img alt=\"Huber Breaker, Ashley PA\" height=\"80\" src=\"place_images2013trip/huberbreakerthumb.jpg\" width=\"120\"/>, <p><a href=\"ashley.html\">Ashley-Huber Breaker</a> <a href=\"penn.html\">Pennsylvania</a> | Massive abandoned coal processing facility near Wilkes-Barre (15 photos - 2013)</p>, <a href=\"ashley.html\">Ashley-Huber Breaker</a>, <a href=\"penn.html\">Pennsylvania</a>, <br/>, <p><a href=\"ashtabula.html\"><img alt=\"Ashtabula OH\" height=\"120\" src=\"place_images/ashtabulathumb.jpg\" width=\"80\"/></a></p>, <a href=\"ashtabula.html\"><img alt=\"Ashtabula OH\" height=\"120\" src=\"place_images/ashtabulathumb.jpg\" width=\"80\"/></a>, <img alt=\"Ashtabula OH\" height=\"120\" src=\"place_images/ashtabulathumb.jpg\" width=\"80\"/>, <p><a href=\"ashtabula.html\">Ashtabula</a> <a href=\"ohio.html\">Ohio</a> | Historic iron ore port. (3 photos - 2009)</p>, <a href=\"ashtabula.html\">Ashtabula</a>, <a href=\"ohio.html\">Ohio</a>, <br/>, <p><a href=\"atchison.html\"><img alt=\"Austin Nevada\" height=\"80\" src=\"place_images2013trip2/atchisonthumb.jpg\" width=\"120\"/></a></p>, <a href=\"atchison.html\"><img alt=\"Austin Nevada\" height=\"80\" src=\"place_images2013trip2/atchisonthumb.jpg\" width=\"120\"/></a>, <img alt=\"Austin Nevada\" height=\"80\" src=\"place_images2013trip2/atchisonthumb.jpg\" width=\"120\"/>, <p><a href=\"atchison.html\">Atchison,</a> <a href=\"ks.html\">Kansas</a> | Nice old town on the Missouri river with lots of 19th century homes and buildings. (8 photos - 2013)</p>, <a href=\"atchison.html\">Atchison,</a>, <a href=\"ks.html\">Kansas</a>, <br/>, <p><a href=\"athens.html\"><img alt=\"Athens Asylum\" height=\"80\" src=\"place_images2013trip2/athensthumb.jpg\" width=\"120\"/></a></p>, <a href=\"athens.html\"><img alt=\"Athens Asylum\" height=\"80\" src=\"place_images2013trip2/athensthumb.jpg\" width=\"120\"/></a>, <img alt=\"Athens Asylum\" height=\"80\" src=\"place_images2013trip2/athensthumb.jpg\" width=\"120\"/>, <p><a href=\"athens.html\">Athens Asylum,</a> <a href=\"ohio.html\">Ohio</a> | Former mental hospital being converted to University uses. (6 photos - 2013)</p>, <a href=\"athens.html\">Athens Asylum,</a>, <a href=\"ohio.html\">Ohio</a>, <br/>, <p><a href=\"athol.html\"><img alt=\"Athol\" height=\"80\" src=\"place_images2013trip2/atholthumb.jpg\" width=\"120\"/></a></p>, <a href=\"athol.html\"><img alt=\"Athol\" height=\"80\" src=\"place_images2013trip2/atholthumb.jpg\" width=\"120\"/></a>, <img alt=\"Athol\" height=\"80\" src=\"place_images2013trip2/atholthumb.jpg\" width=\"120\"/>, <p><a href=\"athol.html\">Athol,</a> <a href=\"ma.html\">Massachusetts</a> | Home of the  imposing, paternalistic and still operating, 130 year old Starrett factory. (5 photos - 2013)</p>, <a href=\"athol.html\">Athol,</a>, <a href=\"ma.html\">Massachusetts</a>, <br/>, <p><a href=\"atlanta.html\"><img alt=\"Atlanta\" height=\"120\" src=\"scans/atlantathumb.jpg\" width=\"76\"/></a></p>, <a href=\"atlanta.html\"><img alt=\"Atlanta\" height=\"120\" src=\"scans/atlantathumb.jpg\" width=\"76\"/></a>, <img alt=\"Atlanta\" height=\"120\" src=\"scans/atlantathumb.jpg\" width=\"76\"/>, <p><a href=\"atlanta.html\">Atlanta</a> <a href=\"georgia.html\">Georgia</a> |  The Cabbagetown mill and neighborhood before gentrification/revival. (14 photos - 1991)</p>, <a href=\"atlanta.html\">Atlanta</a>, <a href=\"georgia.html\">Georgia</a>, <br/>, <p><a href=\"austin.html\"><img alt=\"Austin Nevada\" height=\"80\" src=\"place_images2013trip/austinthumb.jpg\" width=\"120\"/></a></p>, <a href=\"austin.html\"><img alt=\"Austin Nevada\" height=\"80\" src=\"place_images2013trip/austinthumb.jpg\" width=\"120\"/></a>, <img alt=\"Austin Nevada\" height=\"80\" src=\"place_images2013trip/austinthumb.jpg\" width=\"120\"/>, <p><a href=\"austin.html\">Austin</a> <a href=\"nevada.html\">Nevada</a> | Small, old mining town on the \"Loneliest Road\". (8 photos - 2013)</p>, <a href=\"austin.html\">Austin</a>, <a href=\"nevada.html\">Nevada</a>, <br/>, <p><a href=\"badin.html\"><img alt=\"Badin NC\" height=\"80\" src=\"place_images2013trip/badinthumb.jpg\" width=\"120\"/></a></p>, <a href=\"badin.html\"><img alt=\"Badin NC\" height=\"80\" src=\"place_images2013trip/badinthumb.jpg\" width=\"120\"/></a>, <img alt=\"Badin NC\" height=\"80\" src=\"place_images2013trip/badinthumb.jpg\" width=\"120\"/>, <p><a href=\"badin.html\">Badin</a> <a href=\"nc.html\">North Carolina</a> |  Small town built around an aluminum plant that has recently closed. (5 photos - 2013)</p>, <a href=\"badin.html\">Badin</a>, <a href=\"nc.html\">North Carolina</a>, <br/>, <p><a href=\"ballarat.html\"><img alt=\"Ballarat CA\" height=\"80\" src=\"place_images/ballaratthumb.jpg\" width=\"120\"/></a></p>, <a href=\"ballarat.html\"><img alt=\"Ballarat CA\" height=\"80\" src=\"place_images/ballaratthumb.jpg\" width=\"120\"/></a>, <img alt=\"Ballarat CA\" height=\"80\" src=\"place_images/ballaratthumb.jpg\" width=\"120\"/>, <p><a href=\"ballarat.html\">Ballarat</a> <a href=\"california.html\">California</a> | Mojave ghost town. (3 photos - 2011)\\t</p>, <a href=\"ballarat.html\">Ballarat</a>, <a href=\"california.html\">California</a>, <br/>, <p><a href=\"bannack.html\"><img alt=\"Bannack\" height=\"80\" src=\"added2014/bannackthumb.jpg\" width=\"120\"/></a></p>, <a href=\"bannack.html\"><img alt=\"Bannack\" height=\"80\" src=\"added2014/bannackthumb.jpg\" width=\"120\"/></a>, <img alt=\"Bannack\" height=\"80\" src=\"added2014/bannackthumb.jpg\" width=\"120\"/>, <p><a href=\"bannack.html\">Bannack</a> <a href=\"montana.html\">Montana</a> | Very well executed ghost town/history park. (22 photos - 2014)\\t</p>, <a href=\"bannack.html\">Bannack</a>, <a href=\"montana.html\">Montana</a>, <br/>, <p><a href=\"/2017/bartonville.html\"><img alt=\"Basin\" height=\"80\" src=\"/2017/photos/bartonvillethumb.jpg\" width=\"120\"/></a></p>, <a href=\"/2017/bartonville.html\"><img alt=\"Basin\" height=\"80\" src=\"/2017/photos/bartonvillethumb.jpg\" width=\"120\"/></a>, <img alt=\"Basin\" height=\"80\" src=\"/2017/photos/bartonvillethumb.jpg\" width=\"120\"/>, <p><a href=\"/2017/bartonville.html\">Bartonville</a> <a href=\"illinois.html\">Illinois</a> | What\\'s left of Peoria State Hospital and the ruined Allied grain mill. (5 photos - 2017)\\t</p>, <a href=\"/2017/bartonville.html\">Bartonville</a>, <a href=\"illinois.html\">Illinois</a>, <br/>, <p><a href=\"basin.html\"><img alt=\"Basin\" height=\"80\" src=\"added2014/basinthumb.jpg\" width=\"120\"/></a></p>, <a href=\"basin.html\"><img alt=\"Basin\" height=\"80\" src=\"added2014/basinthumb.jpg\" width=\"120\"/></a>, <img alt=\"Basin\" height=\"80\" src=\"added2014/basinthumb.jpg\" width=\"120\"/>, <p><a href=\"basin.html\">Basin</a> <a href=\"montana.html\">Montana</a> | Former mining town with the ruins of a smelter and two radon \"health mines\". (6 photos - 2014)\\t</p>, <a href=\"basin.html\">Basin</a>, <a href=\"montana.html\">Montana</a>, <br/>, <p><a href=\"bayhorse.html\"><img alt=\"Bayhorse\" height=\"80\" src=\"added2014/bayhorsethumb.jpg\" width=\"120\"/></a></p>, <a href=\"bayhorse.html\"><img alt=\"Bayhorse\" height=\"80\" src=\"added2014/bayhorsethumb.jpg\" width=\"120\"/></a>, <img alt=\"Bayhorse\" height=\"80\" src=\"added2014/bayhorsethumb.jpg\" width=\"120\"/>, <p><a href=\"bayhorse.html\">Bayhorse</a> <a href=\"idaho.html\">Idaho</a> | Ghost town that has recently become an Idaho State Park. (14 photos - 2014)\\t</p>, <a href=\"bayhorse.html\">Bayhorse</a>, <a href=\"idaho.html\">Idaho</a>, <br/>, <p><a href=\"/2017/belding.html\"><img alt=\"Belding MI\" height=\"80\" src=\"/2017/photos/beldingthumb.jpg\" width=\"120\"/></a></p>, <a href=\"/2017/belding.html\"><img alt=\"Belding MI\" height=\"80\" src=\"/2017/photos/beldingthumb.jpg\" width=\"120\"/></a>, <img alt=\"Belding MI\" height=\"80\" src=\"/2017/photos/beldingthumb.jpg\" width=\"120\"/>, <p><a href=\"/2017/belding.html\">Belding</a> <a href=\"mi.html\">Michigan</a> | A western outpost of the late 19th century silk industry. (6 photos - 2017)</p>, <a href=\"/2017/belding.html\">Belding</a>, <a href=\"mi.html\">Michigan</a>, <br/>, <p><a href=\"bellaire.html\"><img alt=\"Bellaire OH\" height=\"80\" src=\"place_images2/bellairethumb.jpg\" width=\"120\"/></a></p>, <a href=\"bellaire.html\"><img alt=\"Bellaire OH\" height=\"80\" src=\"place_images2/bellairethumb.jpg\" width=\"120\"/></a>, <img alt=\"Bellaire OH\" height=\"80\" src=\"place_images2/bellairethumb.jpg\" width=\"120\"/>, <p><a href=\"bellaire.html\">Bellaire</a> <a href=\"ohio.html\">Ohio</a> | Nice post-industrial river town. (14 photos - 10/8/2006)</p>, <a href=\"bellaire.html\">Bellaire</a>, <a href=\"ohio.html\">Ohio</a>, <br/>, <p><a href=\"bellemont.html\"><img alt=\"Bellemont NC\" height=\"120\" src=\"place_images/bellemontthumb.jpg\" width=\"80\"/></a></p>, <a href=\"bellemont.html\"><img alt=\"Bellemont NC\" height=\"120\" src=\"place_images/bellemontthumb.jpg\" width=\"80\"/></a>, <img alt=\"Bellemont NC\" height=\"120\" src=\"place_images/bellemontthumb.jpg\" width=\"80\"/>, <p><a href=\"bellemont.html\">Bellemont</a> <a href=\"nc.html\">North Carolina</a> | Textile mill ruins. (19 photos - 2007 - 2013)</p>, <a href=\"bellemont.html\">Bellemont</a>, <a href=\"nc.html\">North Carolina</a>, <br/>, <p><a href=\"bennington.html\"><img alt=\"Bennington\" height=\"80\" src=\"place_images2013trip2/benningtonthumb.jpg\" width=\"120\"/></a></p>, <a href=\"bennington.html\"><img alt=\"Bennington\" height=\"80\" src=\"place_images2013trip2/benningtonthumb.jpg\" width=\"120\"/></a>, <img alt=\"Bennington\" height=\"80\" src=\"place_images2013trip2/benningtonthumb.jpg\" width=\"120\"/>, <p><a href=\"bennington.html\">Bennington Battle Monument,</a> <a href=\"vt.html\">Vermont</a> | A stone obelisk similar to and only slightly smaller than the Washington monument, tucked away in a quiet residential neighborhood. (7 photos - 2013)</p>, <a href=\"bennington.html\">Bennington Battle Monument,</a>, <a href=\"vt.html\">Vermont</a>, <br/>, <p><a href=\"bethlehem.html\"><img alt=\"Bethlehem PA\" height=\"80\" src=\"place_images2013trip/bethlehemthumb.jpg\" width=\"120\"/></a></p>, <a href=\"bethlehem.html\"><img alt=\"Bethlehem PA\" height=\"80\" src=\"place_images2013trip/bethlehemthumb.jpg\" width=\"120\"/></a>, <img alt=\"Bethlehem PA\" height=\"80\" src=\"place_images2013trip/bethlehemthumb.jpg\" width=\"120\"/>, <p><a href=\"bethlehem.html\">Bethlehem</a> <a href=\"penn.html\">Pennsylvania</a> | Home of the sprawling and closed Bethlehem Steel Works. (34 photos - 2013)</p>, <a href=\"bethlehem.html\">Bethlehem</a>, <a href=\"penn.html\">Pennsylvania</a>, <br/>, <p><a href=\"biddeford.html\"><img alt=\"Biddeford Maine\" height=\"120\" src=\"place_images2013trip/biddefordthumb.jpg\" width=\"80\"/></a></p>, <a href=\"biddeford.html\"><img alt=\"Biddeford Maine\" height=\"120\" src=\"place_images2013trip/biddefordthumb.jpg\" width=\"80\"/></a>, <img alt=\"Biddeford Maine\" height=\"120\" src=\"place_images2013trip/biddefordthumb.jpg\" width=\"80\"/>, <p><a href=\"biddeford.html\">Biddeford</a> <a href=\"me.html\">Maine</a> | Textile mill city with several empty/abandoned mills. (12 photos - 2013)</p>, <a href=\"biddeford.html\">Biddeford</a>, <a href=\"me.html\">Maine</a>, <br/>, <p><a href=\"bodie.html\"><img alt=\"Bodie CA\" height=\"80\" src=\"place_images/bodiethumb.jpg\" width=\"120\"/></a></p>, <a href=\"bodie.html\"><img alt=\"Bodie CA\" height=\"80\" src=\"place_images/bodiethumb.jpg\" width=\"120\"/></a>, <img alt=\"Bodie CA\" height=\"80\" src=\"place_images/bodiethumb.jpg\" width=\"120\"/>, <p><a href=\"bodie.html\">Bodie</a> <a href=\"california.html\">California</a> | State historic park. Ghost town. (5 photos - 2011)</p>, <a href=\"bodie.html\">Bodie</a>, <a href=\"california.html\">California</a>, <br/>, <p><a href=\"boggsville.html\"><img alt=\"Boggsville CO\" height=\"80\" src=\"place_images2013trip2/boggsvillethumb.jpg\" width=\"120\"/></a></p>, <a href=\"boggsville.html\"><img alt=\"Boggsville CO\" height=\"80\" src=\"place_images2013trip2/boggsvillethumb.jpg\" width=\"120\"/></a>, <img alt=\"Boggsville CO\" height=\"80\" src=\"place_images2013trip2/boggsvillethumb.jpg\" width=\"120\"/>, <p><a href=\"boggsville.html\">Boggsville</a> <a href=\"co.html\">Colorado</a> | Preserved 19th century townsite/ghost-town. (4 photos - 2013)</p>, <a href=\"boggsville.html\">Boggsville</a>, <a href=\"co.html\">Colorado</a>, <br/>, <p><a href=\"bombaybeach.html\"><img height=\"79\" src=\"place_images7/bombaybeachthumb.jpg\" width=\"120\"/></a></p>, <a href=\"bombaybeach.html\"><img height=\"79\" src=\"place_images7/bombaybeachthumb.jpg\" width=\"120\"/></a>, <img height=\"79\" src=\"place_images7/bombaybeachthumb.jpg\" width=\"120\"/>, <p><a href=\"bombaybeach.html\">Bombay Beach,</a> <a href=\"california.html\">California</a> | Small and strange community on the accidentally created Salton Sea. (3 photos - 2013)</p>, <a href=\"bombaybeach.html\">Bombay Beach,</a>, <a href=\"california.html\">California</a>, <br/>, <p><a href=\"bonanza.html\"><img height=\"80\" src=\"added2014/bonanzathumb.jpg\" width=\"120\"/></a></p>, <a href=\"bonanza.html\"><img height=\"80\" src=\"added2014/bonanzathumb.jpg\" width=\"120\"/></a>, <img height=\"80\" src=\"added2014/bonanzathumb.jpg\" width=\"120\"/>, <p><a href=\"bonanza.html\">Bonanza</a> <a href=\"idaho.html\">Idaho</a> | Ghost town on the Yankee Fork of the Salmon River. (17 photos - 2014)</p>, <a href=\"bonanza.html\">Bonanza</a>, <a href=\"idaho.html\">Idaho</a>, <br/>, <p><a href=\"bonneterre.html\"><img alt=\"Bonne Terre, Missouri\" height=\"80\" src=\"place_images2013trip/bonneterrethumb.jpg\" width=\"120\"/></a></p>, <a href=\"bonneterre.html\"><img alt=\"Bonne Terre, Missouri\" height=\"80\" src=\"place_images2013trip/bonneterrethumb.jpg\" width=\"120\"/></a>, <img alt=\"Bonne Terre, Missouri\" height=\"80\" src=\"place_images2013trip/bonneterrethumb.jpg\" width=\"120\"/>, <p><a href=\"bonneterre.html\">Bonne Terre</a> <a href=\"mo.html\">Missouri</a> | Historic center of the SE Missouri lead mining district. (5 photos - 2013)</p>, <a href=\"bonneterre.html\">Bonne Terre</a>, <a href=\"mo.html\">Missouri</a>, <br/>, <p><a href=\"boronairstn.html\"><img height=\"79\" src=\"2014/boronafsthumb.jpg\" width=\"120\"/></a></p>, <a href=\"boronairstn.html\"><img height=\"79\" src=\"2014/boronafsthumb.jpg\" width=\"120\"/></a>, <img height=\"79\" src=\"2014/boronafsthumb.jpg\" width=\"120\"/>, <p><a href=\"boronairstn.html\">Boron Air Station,</a> <a href=\"california.html\">California</a> | Post-apocalyptic, abandoned Air Force radar station and prison. (15 photos - 2014)</p>, <a href=\"boronairstn.html\">Boron Air Station,</a>, <a href=\"california.html\">California</a>, <br/>, <p><a href=\"braddock.html\"><img alt=\"Braddock PA\" height=\"80\" src=\"place_images/braddockthumb.jpg\" width=\"120\"/></a></p>, <a href=\"braddock.html\"><img alt=\"Braddock PA\" height=\"80\" src=\"place_images/braddockthumb.jpg\" width=\"120\"/></a>, <img alt=\"Braddock PA\" height=\"80\" src=\"place_images/braddockthumb.jpg\" width=\"120\"/>, <p><a href=\"braddock.html\">Braddock</a> <a href=\"penn.html\">Pennsylvania</a> | Small steel manufacturing city with a complex past and present. (13 photos - 5/2/2010)</p>, <a href=\"braddock.html\">Braddock</a>, <a href=\"penn.html\">Pennsylvania</a>, <br/>, <p><a href=\"brownsville.html\"><img alt=\"Brownsville PA\" height=\"80\" src=\"place_images2/brownsvillethumb.jpg\" width=\"120\"/></a></p>, <a href=\"brownsville.html\"><img alt=\"Brownsville PA\" height=\"80\" src=\"place_images2/brownsvillethumb.jpg\" width=\"120\"/></a>, <img alt=\"Brownsville PA\" height=\"80\" src=\"place_images2/brownsvillethumb.jpg\" width=\"120\"/>, <p><a href=\"brownsville.html\">Brownsville</a> <a href=\"penn.html\">Pennsylvania</a> | Important historic commercial center in Southwest Pennsylvania with many empty, at-risk buildings. (8 photos - 2010)</p>, <a href=\"brownsville.html\">Brownsville</a>, <a href=\"penn.html\">Pennsylvania</a>, <br/>, <p><a href=\"buffalo.html\"><img alt=\"Buffalo NY\" height=\"80\" src=\"place_images/buffalothumb.jpg\" width=\"120\"/></a></p>, <a href=\"buffalo.html\"><img alt=\"Buffalo NY\" height=\"80\" src=\"place_images/buffalothumb.jpg\" width=\"120\"/></a>, <img alt=\"Buffalo NY\" height=\"80\" src=\"place_images/buffalothumb.jpg\" width=\"120\"/>, <p><a href=\"buffalo.html\">Buffalo South Lakeshore/Union Ship Canal,</a> <a href=\"ny.html\">New York</a> | Formerly industrial waterfront. (10 photos - 2007-2013)</p>, <a href=\"buffalo.html\">Buffalo South Lakeshore/Union Ship Canal,</a>, <a href=\"ny.html\">New York</a>, <br/>, <p><a href=\"buffaloterminal.html\"><img alt=\"Buffalo NY\" height=\"80\" src=\"place_images2013trip2/buffcentralterminalthurmb.jpg\" width=\"120\"/></a></p>, <a href=\"buffaloterminal.html\"><img alt=\"Buffalo NY\" height=\"80\" src=\"place_images2013trip2/buffcentralterminalthurmb.jpg\" width=\"120\"/></a>, <img alt=\"Buffalo NY\" height=\"80\" src=\"place_images2013trip2/buffcentralterminalthurmb.jpg\" width=\"120\"/>, <p><a href=\"buffaloterminal.html\">Buffalo Central Terminal,</a> <a href=\"ny.html\">New York</a> | Huge 1930 passenger rail terminal saved from abandonment in the 1990s and very slowly being restored. (14 photos - 2013)</p>, <a href=\"buffaloterminal.html\">Buffalo Central Terminal,</a>, <a href=\"ny.html\">New York</a>, <br/>, <p><a href=\"buffalosilos.html\"><img alt=\"Buffalo NY\" height=\"80\" src=\"place_images2013trip2/buffalosilosthumb.jpg\" width=\"120\"/></a></p>, <a href=\"buffalosilos.html\"><img alt=\"Buffalo NY\" height=\"80\" src=\"place_images2013trip2/buffalosilosthumb.jpg\" width=\"120\"/></a>, <img alt=\"Buffalo NY\" height=\"80\" src=\"place_images2013trip2/buffalosilosthumb.jpg\" width=\"120\"/>, <p><a href=\"buffalosilos.html\">Buffalo Creek Silos,</a> <a href=\"ny.html\">New York</a> | Mammoth abandoned grain silos. (15 photos - 2013)</p>, <a href=\"buffalosilos.html\">Buffalo Creek Silos,</a>, <a href=\"ny.html\">New York</a>, <br/>, <p><a href=\"burke.html\"><img alt=\"Burke\" height=\"80\" src=\"added2014/burkethumb.jpg\" width=\"120\"/></a></p>, <a href=\"burke.html\"><img alt=\"Burke\" height=\"80\" src=\"added2014/burkethumb.jpg\" width=\"120\"/></a>, <img alt=\"Burke\" height=\"80\" src=\"added2014/burkethumb.jpg\" width=\"120\"/>, <p><a href=\"burke.html\">Burke</a> <a href=\"idaho.html\">Idaho</a> | Ghost town with a fascinating labor history and a massive, empty, silver mine complex. (13 photos - 2014)</p>, <a href=\"burke.html\">Burke</a>, <a href=\"idaho.html\">Idaho</a>, <br/>, <p><a href=\"burlington.html\"><img alt=\"Burlington NC\" height=\"80\" src=\"place_images/burlingtonthumb.jpg\" width=\"120\"/></a></p>, <a href=\"burlington.html\"><img alt=\"Burlington NC\" height=\"80\" src=\"place_images/burlingtonthumb.jpg\" width=\"120\"/></a>, <img alt=\"Burlington NC\" height=\"80\" src=\"place_images/burlingtonthumb.jpg\" width=\"120\"/>, <p><a href=\"burlington.html\">Burlington</a> <a href=\"nc.html\">North Carolina</a> | A former center of textile manufacturing (2 photos - 2010)</p>, <a href=\"burlington.html\">Burlington</a>, <a href=\"nc.html\">North Carolina</a>, <br/>, <p><a href=\"/2017/butte.html\"><img alt=\"Butte\" height=\"80\" src=\"/2017/photos/buttetownthumb.jpg\" width=\"120\"/></a></p>, <a href=\"/2017/butte.html\"><img alt=\"Butte\" height=\"80\" src=\"/2017/photos/buttetownthumb.jpg\" width=\"120\"/></a>, <img alt=\"Butte\" height=\"80\" src=\"/2017/photos/buttetownthumb.jpg\" width=\"120\"/>, <p><a href=\"/2017/butte.html\">Butte</a> <a href=\"montana.html\">Montana</a> | Former mining metropolis (31 photos - 2014)</p>, <a href=\"/2017/butte.html\">Butte</a>, <a href=\"montana.html\">Montana</a>, <br/>, <p><a href=\"/2017/buttemines.html\"><img alt=\"Butte\" height=\"80\" src=\"/2017/photos/butteminesthumb.jpg\" width=\"120\"/></a></p>, <a href=\"/2017/buttemines.html\"><img alt=\"Butte\" height=\"80\" src=\"/2017/photos/butteminesthumb.jpg\" width=\"120\"/></a>, <img alt=\"Butte\" height=\"80\" src=\"/2017/photos/butteminesthumb.jpg\" width=\"120\"/>, <p><a href=\"/2017/buttemines.html\">Butte Mined Areas and the Berkeley Pit,</a> <a href=\"montana.html\">Montana</a> | Mine scarred landscape and a toxic open pit mine. (15 photos - 2014)</p>, <a href=\"/2017/buttemines.html\">Butte Mined Areas and the Berkeley Pit,</a>, <a href=\"montana.html\">Montana</a>, <br/>, <p><a href=\"bynum.html\"><img height=\"80\" src=\"place_images_updated/bynumthumb.jpg\" width=\"120\"/></a></p>, <a href=\"bynum.html\"><img height=\"80\" src=\"place_images_updated/bynumthumb.jpg\" width=\"120\"/></a>, <img height=\"80\" src=\"place_images_updated/bynumthumb.jpg\" width=\"120\"/>, <p><a href=\"bynum.html\">Bynum</a> <a href=\"nc.html\">North Carolina</a> | Former textile mill company town. The mill has been demolished and the town is being enveloped in suburbia. (19 photos - 2017, 2005)</p>, <a href=\"bynum.html\">Bynum</a>, <a href=\"nc.html\">North Carolina</a>, <br/>, <p><a href=\"cahokia.html\"><img height=\"80\" src=\"place_images2013trip2/cahokiathumb.jpg\" width=\"120\"/></a></p>, <a href=\"cahokia.html\"><img height=\"80\" src=\"place_images2013trip2/cahokiathumb.jpg\" width=\"120\"/></a>, <img height=\"80\" src=\"place_images2013trip2/cahokiathumb.jpg\" width=\"120\"/>, <p><a href=\"cahokia.html\">Cahokia Mounds,</a> <a href=\"illinois.html\">Illinois</a> | The site of the largest pre-European city in what is now the United States. (9 photos - 2013)</p>, <a href=\"cahokia.html\">Cahokia Mounds,</a>, <a href=\"illinois.html\">Illinois</a>, <br/>, <p><a href=\"cairo.html\"><img height=\"80\" src=\"place_images2013trip/cairothumb.jpg\" width=\"120\"/></a></p>, <a href=\"cairo.html\"><img height=\"80\" src=\"place_images2013trip/cairothumb.jpg\" width=\"120\"/></a>, <img height=\"80\" src=\"place_images2013trip/cairothumb.jpg\" width=\"120\"/>, <p><a href=\"cairo.html\">Cairo</a> <a href=\"illinois.html\">Illinois</a> | A historic river city that has lost over 80 percent of it\\'s population since 1920. (17 photos - 2013)</p>, <a href=\"cairo.html\">Cairo</a>, <a href=\"illinois.html\">Illinois</a>, <br/>, <p><a href=\"calcity.html\"><img height=\"120\" src=\"place_images7/calcitythumb.jpg\" width=\"79\"/></a></p>, <a href=\"calcity.html\"><img height=\"120\" src=\"place_images7/calcitythumb.jpg\" width=\"79\"/></a>, <img height=\"120\" src=\"place_images7/calcitythumb.jpg\" width=\"79\"/>, <p><a href=\"calcity.html\">California City</a> <a href=\"california.html\">California</a> | Grandiose real estate development that grew much more slowly than planned - abandoned hotel. (3 photos - 2013)</p>, <a href=\"calcity.html\">California City</a>, <a href=\"california.html\">California</a>, <br/>, <p><a href=\"calumetmi.html\"><img alt=\"Calumet MI\" height=\"80\" src=\"place_images/calumetthumb.jpg\" width=\"120\"/></a></p>, <a href=\"calumetmi.html\"><img alt=\"Calumet MI\" height=\"80\" src=\"place_images/calumetthumb.jpg\" width=\"120\"/></a>, <img alt=\"Calumet MI\" height=\"80\" src=\"place_images/calumetthumb.jpg\" width=\"120\"/>, <p><a href=\"calumetmi.html\">Calumet</a> <a href=\"mi.html\">Michigan</a> | Commercial heart of the Keweenaw Peninsula copper mining district. (3 photos - 2007)    </p>, <a href=\"calumetmi.html\">Calumet</a>, <a href=\"mi.html\">Michigan</a>, <br/>, <p><a href=\"camdenhills.html\"><img height=\"80\" src=\"place_images2013trip/camdenhillsthumb.jpg\" width=\"120\"/></a></p>, <a href=\"camdenhills.html\"><img height=\"80\" src=\"place_images2013trip/camdenhillsthumb.jpg\" width=\"120\"/></a>, <img height=\"80\" src=\"place_images2013trip/camdenhillsthumb.jpg\" width=\"120\"/>, <p><a href=\"camdenhills.html\">Camden Hills State Park</a> <a href=\"me.html\">Maine</a> | Nice under-used campground and park on the Maine coast. (6 photos - 2013)</p>, <a href=\"camdenhills.html\">Camden Hills State Park</a>, <a href=\"me.html\">Maine</a>, <br/>, <p><a href=\"campbell.html\"><img height=\"80\" src=\"place_images2013trip2/campbellthumb.jpg\" width=\"120\"/></a></p>, <a href=\"campbell.html\"><img height=\"80\" src=\"place_images2013trip2/campbellthumb.jpg\" width=\"120\"/></a>, <img height=\"80\" src=\"place_images2013trip2/campbellthumb.jpg\" width=\"120\"/>, <p><a href=\"campbell.html\">Campbell</a> <a href=\"ohio.html\">Ohio</a> | Grounds of the former (demolished) Youngstown Sheet and Tube steel works. (5 photos - 2013)</p>, <a href=\"campbell.html\">Campbell</a>, <a href=\"ohio.html\">Ohio</a>, <br/>, <p><a href=\"cannelton.html\"><img height=\"120\" src=\"place_images2013trip/canneltonthumb.jpg\" width=\"80\"/></a></p>, <a href=\"cannelton.html\"><img height=\"120\" src=\"place_images2013trip/canneltonthumb.jpg\" width=\"80\"/></a>, <img height=\"120\" src=\"place_images2013trip/canneltonthumb.jpg\" width=\"80\"/>, <p><a href=\"cannelton.html\">Cannelton</a> <a href=\"indiana.html\">Indiana</a> | Historic textile mill town on the Ohio River. (11 photos - 2013)</p>, <a href=\"cannelton.html\">Cannelton</a>, <a href=\"indiana.html\">Indiana</a>, <br/>, <p><a href=\"canyondechelly.html\"><img height=\"120\" src=\"place_images2013trip2/canyondechellythumb.jpg\" width=\"80\"/></a></p>, <a href=\"canyondechelly.html\"><img height=\"120\" src=\"place_images2013trip2/canyondechellythumb.jpg\" width=\"80\"/></a>, <img height=\"120\" src=\"place_images2013trip2/canyondechellythumb.jpg\" width=\"80\"/>, <p><a href=\"canyondechelly.html\">Canyon de Chelly</a> <a href=\"arizona.html\">Arizona</a> | Puebloan ruins in a beautiful red rock canyon. (8 photos - 2013)</p>, <a href=\"canyondechelly.html\">Canyon de Chelly</a>, <a href=\"arizona.html\">Arizona</a>, <br/>, <p><a href=\"canyonlands.html\"><img height=\"80\" src=\"place_images2013trip2/canyonlandsthumb.jpg\" width=\"120\"/></a></p>, <a href=\"canyonlands.html\"><img height=\"80\" src=\"place_images2013trip2/canyonlandsthumb.jpg\" width=\"120\"/></a>, <img height=\"80\" src=\"place_images2013trip2/canyonlandsthumb.jpg\" width=\"120\"/>, <p><a href=\"canyonlands.html\">Canyonlands National Park</a>, <a href=\"utah.html\">Utah</a> | Beautiful, not too crowded canyons. (14 photos - 2013)</p>, <a href=\"canyonlands.html\">Canyonlands National Park</a>, <a href=\"utah.html\">Utah</a>, <br/>, <p><a href=\"2017/carolinamill.html\"><img height=\"79\" src=\"2017/photos/carolinamillthumb.jpg\" width=\"120\"/></a></p>, <a href=\"2017/carolinamill.html\"><img height=\"79\" src=\"2017/photos/carolinamillthumb.jpg\" width=\"120\"/></a>, <img height=\"79\" src=\"2017/photos/carolinamillthumb.jpg\" width=\"120\"/>, <p><a href=\"2017/carolinamill.html\">Carolina Mill,</a> <a href=\"nc.html\">North Carolina</a> | Well preserved but unused 1869 textile mill. (6 photos - 2017)</p>, <a href=\"2017/carolinamill.html\">Carolina Mill,</a>, <a href=\"nc.html\">North Carolina</a>, <br/>, <p><a href=\"/2017/carpentersville.html\"><img height=\"79\" src=\"/2017/photos/carpentersvillethumb.jpg\" width=\"120\"/></a></p>, <a href=\"/2017/carpentersville.html\"><img height=\"79\" src=\"/2017/photos/carpentersvillethumb.jpg\" width=\"120\"/></a>, <img height=\"79\" src=\"/2017/photos/carpentersvillethumb.jpg\" width=\"120\"/>, <p><a href=\"/2017/carpentersville.html\">Carpentersville</a> <a href=\"illinois.html\">Illinois</a> | Nice, well maintained, riverside, 19th century factory complex. (7 photos - 2017)</p>, <a href=\"/2017/carpentersville.html\">Carpentersville</a>, <a href=\"illinois.html\">Illinois</a>, <br/>, <p><a href=\"carrizo.html\"><img height=\"79\" src=\"place_images7/carrizothumb.jpg\" width=\"120\"/></a></p>, <a href=\"carrizo.html\"><img height=\"79\" src=\"place_images7/carrizothumb.jpg\" width=\"120\"/></a>, <img height=\"79\" src=\"place_images7/carrizothumb.jpg\" width=\"120\"/>, <p><a href=\"carrizo.html\">Carrizo Plain National Monument,</a> <a href=\"california.html\">California</a> | Vast grassland and dry lake. (6 photos - 2013)</p>, <a href=\"carrizo.html\">Carrizo Plain National Monument,</a>, <a href=\"california.html\">California</a>, <br/>, <p><a href=\"cartago.html\"><img height=\"79\" src=\"place_images7/cartagothumb.jpg\" width=\"120\"/></a></p>, <a href=\"cartago.html\"><img height=\"79\" src=\"place_images7/cartagothumb.jpg\" width=\"120\"/></a>, <img height=\"79\" src=\"place_images7/cartagothumb.jpg\" width=\"120\"/>, <p><a href=\"cartago.html\">Cartago</a> <a href=\"california.html\">California</a> | Small town on Owens Dry Lake with ruins of a soda plant. (5 photos - 2012)</p>, <a href=\"cartago.html\">Cartago</a>, <a href=\"california.html\">California</a>, <br/>, <p><a href=\"2017/cedarfalls.html\"><img height=\"80\" src=\"2017/photos/cedarfallsthumb.jpg\" width=\"120\"/></a></p>, <a href=\"2017/cedarfalls.html\"><img height=\"80\" src=\"2017/photos/cedarfallsthumb.jpg\" width=\"120\"/></a>, <img height=\"80\" src=\"2017/photos/cedarfallsthumb.jpg\" width=\"120\"/>, <p><a href=\"2017/cedarfalls.html\">Cedar Falls,</a> <a href=\"nc.html\">North Carolina</a> | Small textile mill town with two mills. (3 photos - 2017)</p>, <a href=\"2017/cedarfalls.html\">Cedar Falls,</a>, <a href=\"nc.html\">North Carolina</a>, <br/>, <p><a href=\"chaco.html\"><img height=\"120\" src=\"place_images2013trip2/chacothumb.jpg\" width=\"80\"/></a></p>, <a href=\"chaco.html\"><img height=\"120\" src=\"place_images2013trip2/chacothumb.jpg\" width=\"80\"/></a>, <img height=\"120\" src=\"place_images2013trip2/chacothumb.jpg\" width=\"80\"/>, <p><a href=\"chaco.html\">Chaco Culture National Historical Park,</a> <a href=\"nm.html\">New Mexico</a> | Largest concentration of pre-Columbian ruins in the United States. (37 photos - 2013)</p>, <a href=\"chaco.html\">Chaco Culture National Historical Park,</a>, <a href=\"nm.html\">New Mexico</a>, <br/>, <p><a href=\"chester.html\"><img height=\"80\" src=\"place_images2013trip2/chesterthumb.jpg\" width=\"120\"/></a></p>, <a href=\"chester.html\"><img height=\"80\" src=\"place_images2013trip2/chesterthumb.jpg\" width=\"120\"/></a>, <img height=\"80\" src=\"place_images2013trip2/chesterthumb.jpg\" width=\"120\"/>, <p><a href=\"chester.html\">Chester</a> <a href=\"penn.html\">Pennsylvania</a> | Historic city embedded in the South Philadelphia suburbs. Chester is rapidly loosing it\\'s population and historic built environment. (1 photo - 2013)</p>, <a href=\"chester.html\">Chester</a>, <a href=\"penn.html\">Pennsylvania</a>, <br/>, <p><a href=\"chernobyl.html\"><img height=\"90\" src=\"others/chernobylthumb.jpg\" width=\"120\"/></a></p>, <a href=\"chernobyl.html\"><img height=\"90\" src=\"others/chernobylthumb.jpg\" width=\"120\"/></a>, <img height=\"90\" src=\"others/chernobylthumb.jpg\" width=\"120\"/>, <p><a href=\"chernobyl.html\">Chernobyl</a> <a href=\"international.html\">Ukraine</a> | Site of the world\\'s worst nuclear power disaster. (40 photos - 2014)</p>, <a href=\"chernobyl.html\">Chernobyl</a>, <a href=\"international.html\">Ukraine</a>, <br/>, <p><a href=\"2017/chicago.html\"><img height=\"80\" src=\"2017/photos/CMFTthumb.jpg\" width=\"120\"/></a></p>, <a href=\"2017/chicago.html\"><img height=\"80\" src=\"2017/photos/CMFTthumb.jpg\" width=\"120\"/></a>, <img height=\"80\" src=\"2017/photos/CMFTthumb.jpg\" width=\"120\"/>, <p><a href=\"2017/chicago.html\">Chicago</a> <a href=\"illinois.html\">Illinois</a> | Union Stockyards and the Central Manufacturing District. (4 photos - 2017)</p>, <a href=\"2017/chicago.html\">Chicago</a>, <a href=\"illinois.html\">Illinois</a>, <br/>, <p><a href=\"oldchicago.html\"><img height=\"120\" src=\"place_images5/chicagothumb.jpg\" width=\"80\"/></a></p>, <a href=\"oldchicago.html\"><img height=\"120\" src=\"place_images5/chicagothumb.jpg\" width=\"80\"/></a>, <img height=\"120\" src=\"place_images5/chicagothumb.jpg\" width=\"80\"/>, <p><a href=\"oldchicago.html\">Chicago</a> <a href=\"illinois.html\">Illinois</a> | Stockyards, Pilsen and other locations from the early 90s. (17 photos - 1990 - 1993)</p>, <a href=\"oldchicago.html\">Chicago</a>, <a href=\"illinois.html\">Illinois</a>, <br/>, <p><a href=\"/2018/chico.html\"><img height=\"80\" src=\"2018/photos/chicothumb.jpg\" width=\"120\"/></a></p>, <a href=\"/2018/chico.html\"><img height=\"80\" src=\"2018/photos/chicothumb.jpg\" width=\"120\"/></a>, <img height=\"80\" src=\"2018/photos/chicothumb.jpg\" width=\"120\"/>, <p><a href=\"/2018/chico.html\">Diamond Match, Chico,</a> <a href=\"california.html\">California</a> | Grounds of a former match factory. (20 photos - 2017)</p>, <a href=\"/2018/chico.html\">Diamond Match, Chico,</a>, <a href=\"california.html\">California</a>, <br/>, <p><a href=\"chicopee.html\"><img height=\"120\" src=\"place_images2013trip/chicopeethumb.jpg\" width=\"80\"/></a></p>, <a href=\"chicopee.html\"><img height=\"120\" src=\"place_images2013trip/chicopeethumb.jpg\" width=\"80\"/></a>, <img height=\"120\" src=\"place_images2013trip/chicopeethumb.jpg\" width=\"80\"/>, <p><a href=\"chicopee.html\">Chicopee</a> <a href=\"ma.html\">Massachusetts</a> | Industrial city with historic water powered mills. (12 photos - 2013)</p>, <a href=\"chicopee.html\">Chicopee</a>, <a href=\"ma.html\">Massachusetts</a>, <br/>, <p><a href=\"chinesecamp.html\"><img height=\"80\" src=\"place_images_updated/chinesecampthumb.jpg\" width=\"120\"/></a></p>, <a href=\"chinesecamp.html\"><img height=\"80\" src=\"place_images_updated/chinesecampthumb.jpg\" width=\"120\"/></a>, <img height=\"80\" src=\"place_images_updated/chinesecampthumb.jpg\" width=\"120\"/>, <p><a href=\"chinesecamp.html\">Chinese Camp</a> <a href=\"california.html\">California</a> | Semi-ghost town built by Chinese miners during the 1849 gold rush. (12 photos - 2011)</p>, <a href=\"chinesecamp.html\">Chinese Camp</a>, <a href=\"california.html\">California</a>, <br/>, <p><a href=\"/2017/cicero.html\"><img height=\"80\" src=\"/2017/photos/cicerothumb.jpg\" width=\"120\"/></a></p>, <a href=\"/2017/cicero.html\"><img height=\"80\" src=\"/2017/photos/cicerothumb.jpg\" width=\"120\"/></a>, <img height=\"80\" src=\"/2017/photos/cicerothumb.jpg\" width=\"120\"/>, <p><a href=\"/2017/cicero.html\">Hawthorne Works, Cicero</a> <a href=\"illinois.html\">Illinois</a> | A water tower behind a strip mall is all that\\'s left of what was the largest telephone factory in the US. (4 photos - 2017)</p>, <a href=\"/2017/cicero.html\">Hawthorne Works, Cicero</a>, <a href=\"illinois.html\">Illinois</a>, <br/>, <p><a href=\"cincinnati.html\"><img height=\"80\" src=\"place_images2013trip2/cincinnatithumb.jpg\" width=\"120\"/></a></p>, <a href=\"cincinnati.html\"><img height=\"80\" src=\"place_images2013trip2/cincinnatithumb.jpg\" width=\"120\"/></a>, <img height=\"80\" src=\"place_images2013trip2/cincinnatithumb.jpg\" width=\"120\"/>, <p><a href=\"cincinnati.html\">Cincinnati</a> <a href=\"ohio.html\">Ohio</a> | Recently demolished Glencoe-Auburn Place, the Crisco factory and some warehouses. (12 photos - 2013)</p>, <a href=\"cincinnati.html\">Cincinnati</a>, <a href=\"ohio.html\">Ohio</a>, <br/>, <p><a href=\"clifty.html\"><img height=\"80\" src=\"place_images2013trip2/cliftythumb.jpg\" width=\"120\"/></a></p>, <a href=\"clifty.html\"><img height=\"80\" src=\"place_images2013trip2/cliftythumb.jpg\" width=\"120\"/></a>, <img height=\"80\" src=\"place_images2013trip2/cliftythumb.jpg\" width=\"120\"/>, <p><a href=\"clifty.html\">Clifty Falls State Park</a> <a href=\"indiana.html\">Indiana</a> | Pretty park with a resort inn and restaurant built a few hundred feet from the massive smoke stacks of a coal burning power plant. (8 photos - 2013)</p>, <a href=\"clifty.html\">Clifty Falls State Park</a>, <a href=\"indiana.html\">Indiana</a>, <br/>, <p><a href=\"/2017/clarksburg.html\"><img height=\"80\" src=\"/2017/photos/clarksburgthumb.jpg\" width=\"120\"/></a></p>, <a href=\"/2017/clarksburg.html\"><img height=\"80\" src=\"/2017/photos/clarksburgthumb.jpg\" width=\"120\"/></a>, <img height=\"80\" src=\"/2017/photos/clarksburgthumb.jpg\" width=\"120\"/>, <p><a href=\"/2017/clarksburg.html\">Old Sugar Mill, Clarksburg</a>, <a href=\"california.html\">California</a> | 1935 Beet sugar mill reused for wine tasting and sales. (8 photos - 2017)</p>, <a href=\"/2017/clarksburg.html\">Old Sugar Mill, Clarksburg</a>, <a href=\"california.html\">California</a>, <br/>, <p><a href=\"colonie.html\"><img height=\"80\" src=\"place_images2013trip2/coloniethumb.jpg\" width=\"120\"/></a></p>, <a href=\"colonie.html\"><img height=\"80\" src=\"place_images2013trip2/coloniethumb.jpg\" width=\"120\"/></a>, <img height=\"80\" src=\"place_images2013trip2/coloniethumb.jpg\" width=\"120\"/>, <p><a href=\"colonie.html\">Colonie - AI Tech Steel Mill</a>, <a href=\"ny.html\">New York</a> | Abandoned steel mill. (5 photos - 2013)</p>, <a href=\"colonie.html\">Colonie - AI Tech Steel Mill</a>, <a href=\"ny.html\">New York</a>, <br/>, <p><a href=\"columbia.html\"><img height=\"80\" src=\"2014/columbiathumb.jpg\" width=\"120\"/></a></p>, <a href=\"columbia.html\"><img height=\"80\" src=\"2014/columbiathumb.jpg\" width=\"120\"/></a>, <img height=\"80\" src=\"2014/columbiathumb.jpg\" width=\"120\"/>, <p><a href=\"columbia.html\">Columbia</a> <a href=\"california.html\">California</a> | 1849 gold rush town, preserved as a \"history park\". (5 photos - 2014)</p>, <a href=\"columbia.html\">Columbia</a>, <a href=\"california.html\">California</a>, <br/>, <p><a href=\"colusa.html\"><img height=\"79\" src=\"place_images/colusathumb.jpg\" width=\"120\"/></a></p>, <a href=\"colusa.html\"><img height=\"79\" src=\"place_images/colusathumb.jpg\" width=\"120\"/></a>, <img height=\"79\" src=\"place_images/colusathumb.jpg\" width=\"120\"/>, <p><a href=\"colusa.html\">Colusa</a> <a href=\"california.html\">California</a> | Old town with some nice old buildings. (2 photos - 2011)</p>, <a href=\"colusa.html\">Colusa</a>, <a href=\"california.html\">California</a>, <br/>, <p><a href=\"comet.html\"><img height=\"80\" src=\"added2014/cometthumb.jpg\" width=\"120\"/></a></p>, <a href=\"comet.html\"><img height=\"80\" src=\"added2014/cometthumb.jpg\" width=\"120\"/></a>, <img height=\"80\" src=\"added2014/cometthumb.jpg\" width=\"120\"/>, <p><a href=\"comet.html\">Comet</a> <a href=\"montana.html\">Montana</a> | Ghost town - not currently being preserved or developed for tourism. (8 photos - 2014)</p>, <a href=\"comet.html\">Comet</a>, <a href=\"montana.html\">Montana</a>, <br/>, <p><a href=\"confluencetower.html\"><img height=\"120\" src=\"place_images2013trip/confluencetowerthumb.jpg\" width=\"80\"/></a></p>, <a href=\"confluencetower.html\"><img height=\"120\" src=\"place_images2013trip/confluencetowerthumb.jpg\" width=\"80\"/></a>, <img height=\"120\" src=\"place_images2013trip/confluencetowerthumb.jpg\" width=\"80\"/>, <p><a href=\"confluencetower.html\">Confluence Tower, Hartford</a> <a href=\"illinois.html\">Illinois</a> | Very large, expensive monument built by a very small town in the middle of nowhere. (5 photos - 2013)</p>, <a href=\"confluencetower.html\">Confluence Tower, Hartford</a>, <a href=\"illinois.html\">Illinois</a>, <br/>, <p><a href=\"coolidge.html\"><img height=\"80\" src=\"place_images2013trip2/coolidgethumb.jpg\" width=\"120\"/></a></p>, <a href=\"coolidge.html\"><img height=\"80\" src=\"place_images2013trip2/coolidgethumb.jpg\" width=\"120\"/></a>, <img height=\"80\" src=\"place_images2013trip2/coolidgethumb.jpg\" width=\"120\"/>, <p><a href=\"coolidge.html\">Coolidge</a> <a href=\"ks.html\">Kansas</a> | Semi-ghost town on the western Kansas plains. (4 photos - 2013)</p>, <a href=\"coolidge.html\">Coolidge</a>, <a href=\"ks.html\">Kansas</a>, <br/>, <p><a href=\"coplay.html\"><img height=\"80\" src=\"place_images2013trip/coplaythumb.jpg\" width=\"120\"/></a></p>, <a href=\"coplay.html\"><img height=\"80\" src=\"place_images2013trip/coplaythumb.jpg\" width=\"120\"/></a>, <img height=\"80\" src=\"place_images2013trip/coplaythumb.jpg\" width=\"120\"/>, <p><a href=\"coplay.html\">Coplay Cement Kilns</a> <a href=\"penn.html\">Pennsylvania</a> | Interesting industrial ruins. (6 photos - 2013)</p>, <a href=\"coplay.html\">Coplay Cement Kilns</a>, <a href=\"penn.html\">Pennsylvania</a>, <br/>, <p><a href=\"copperharbor.html\"><img height=\"120\" src=\"place_images_updated/copperharborthumb.jpg\" width=\"80\"/></a></p>, <a href=\"copperharbor.html\"><img height=\"120\" src=\"place_images_updated/copperharborthumb.jpg\" width=\"80\"/></a>, <img height=\"120\" src=\"place_images_updated/copperharborthumb.jpg\" width=\"80\"/>, <p><a href=\"copperharbor.html\">Copper Harbor</a> <a href=\"mi.html\">Michigan</a> | Small community on the tip of the Keweenaw Peninsula with nearby ruins of a 19th century copper smelter. (4 photos - 2007 - 2010)</p>, <a href=\"copperharbor.html\">Copper Harbor</a>, <a href=\"mi.html\">Michigan</a>, <br/>, <p><a href=\"coulterville.html\"><img height=\"80\" src=\"2014/coultervillethumb.jpg\" width=\"120\"/></a></p>, <a href=\"coulterville.html\"><img height=\"80\" src=\"2014/coultervillethumb.jpg\" width=\"120\"/></a>, <img height=\"80\" src=\"2014/coultervillethumb.jpg\" width=\"120\"/>, <p><a href=\"coulterville.html\">Coulterville</a> <a href=\"california.html\">California</a> | Nice, underdeveloped gold rush town. (5 photos - 2014) </p>, <a href=\"coulterville.html\">Coulterville</a>, <a href=\"california.html\">California</a>, <br/>, <p><a href=\"cratersofthemoon.html\"><img height=\"80\" src=\"added2014/COMthumb.jpg\" width=\"120\"/></a></p>, <a href=\"cratersofthemoon.html\"><img height=\"80\" src=\"added2014/COMthumb.jpg\" width=\"120\"/></a>, <img height=\"80\" src=\"added2014/COMthumb.jpg\" width=\"120\"/>, <p><a href=\"cratersofthemoon.html\">Craters of the Moon National Monument,</a> <a href=\"idaho.html\">Idaho</a> | 618 square miles of desolate, recent lava flows around a congested visitor center. ( 4 photos - 2014) </p>, <a href=\"cratersofthemoon.html\">Craters of the Moon National Monument,</a>, <a href=\"idaho.html\">Idaho</a>, <br/>, <p><a href=\"crockett.html\"><img height=\"79\" src=\"place_images/crockettthumb.jpg\" width=\"120\"/></a></p>, <a href=\"crockett.html\"><img height=\"79\" src=\"place_images/crockettthumb.jpg\" width=\"120\"/></a>, <img height=\"79\" src=\"place_images/crockettthumb.jpg\" width=\"120\"/>, <p><a href=\"crockett.html\">Crockett</a> <a href=\"california.html\">California</a> | Beautifully preserved, turn of the century factory (sugar) town. (18 photos - 2011) </p>, <a href=\"crockett.html\">Crockett</a>, <a href=\"california.html\">California</a>, <br/>, <p><a href=\"custer.html\"><img height=\"120\" src=\"added2014/custerthumb.jpg\" width=\"80\"/></a></p>, <a href=\"custer.html\"><img height=\"120\" src=\"added2014/custerthumb.jpg\" width=\"80\"/></a>, <img height=\"120\" src=\"added2014/custerthumb.jpg\" width=\"80\"/>, <p><a href=\"custer.html\">Custer</a> <a href=\"idaho.html\">Idaho</a> | Small, preserved and interpreted ghost town. (9 photos - 2014) </p>, <a href=\"custer.html\">Custer</a>, <a href=\"idaho.html\">Idaho</a>, <br/>, <p><a href=\"danville.html\"><img height=\"120\" src=\"others/danvillethumb.jpg\" width=\"80\"/></a></p>, <a href=\"danville.html\"><img height=\"120\" src=\"others/danvillethumb.jpg\" width=\"80\"/></a>, <img height=\"120\" src=\"others/danvillethumb.jpg\" width=\"80\"/>, <p><a href=\"danville.html\">Danville,</a> <a href=\"virginia.html\">Virginia</a> | Dan River Mills, Schoolfield mill complex which is slowly being demolished. (21 photos - 2014) </p>, <a href=\"danville.html\">Danville,</a>, <a href=\"virginia.html\">Virginia</a>, <br/>, <p><a href=\"darwin.html\"><img height=\"79\" src=\"2014/darwinthumb.jpg\" width=\"120\"/></a></p>, <a href=\"darwin.html\"><img height=\"79\" src=\"2014/darwinthumb.jpg\" width=\"120\"/></a>, <img height=\"79\" src=\"2014/darwinthumb.jpg\" width=\"120\"/>, <p><a href=\"darwin.html\">Darwin,</a> <a href=\"california.html\">California</a> | Small old mining town next to a large, closed, and gated mining operation. (7 photos - 2014) </p>, <a href=\"darwin.html\">Darwin,</a>, <a href=\"california.html\">California</a>, <br/>, <p><a href=\"deadhorsepoint.html\"><img height=\"80\" src=\"place_images2013trip2/deadhorsethumb.jpg\" width=\"120\"/></a></p>, <a href=\"deadhorsepoint.html\"><img height=\"80\" src=\"place_images2013trip2/deadhorsethumb.jpg\" width=\"120\"/></a>, <img height=\"80\" src=\"place_images2013trip2/deadhorsethumb.jpg\" width=\"120\"/>, <p><a href=\"deadhorsepoint.html\">Dead Horse Point State Park</a>, <a href=\"utah.html\">Utah</a> | Nice small park and some stuff about photographing lightning. (15 photos - 2013)</p>, <a href=\"deadhorsepoint.html\">Dead Horse Point State Park</a>, <a href=\"utah.html\">Utah</a>, <br/>, <p><a href=\"deathvalley.html\"><img height=\"79\" src=\"place_images2014/deathvalleythumb.jpg\" width=\"120\"/></a></p>, <a href=\"deathvalley.html\"><img height=\"79\" src=\"place_images2014/deathvalleythumb.jpg\" width=\"120\"/></a>, <img height=\"79\" src=\"place_images2014/deathvalleythumb.jpg\" width=\"120\"/>, <p><a href=\"deathvalley.html\">Death Valley National Park,</a> <a href=\"california.html\">California</a> | Amazing 5,270 square mile park with alien landscapes and lots of empty space. (31 photos 2011-2014)\\n<br/>\\n</p>, <a href=\"deathvalley.html\">Death Valley National Park,</a>, <a href=\"california.html\">California</a>, <br/>, <p><a href=\"2017/dee.html\"><img height=\"79\" src=\"2017/photos/deethumb.jpg\" width=\"120\"/></a></p>, <a href=\"2017/dee.html\"><img height=\"79\" src=\"2017/photos/deethumb.jpg\" width=\"120\"/></a>, <img height=\"79\" src=\"2017/photos/deethumb.jpg\" width=\"120\"/>, <p><a href=\"2017/dee.html\">Dee</a>, <a href=\"oregon.html\">Oregon</a> | Site and ruins of former sawmill company town. (7 photos - 2016)</p>, <a href=\"2017/dee.html\">Dee</a>, <a href=\"oregon.html\">Oregon</a>, <br/>, <p><a href=\"desertcenter.html\"><img height=\"79\" src=\"place_images7/desertcenterthumb.jpg\" width=\"120\"/></a></p>, <a href=\"desertcenter.html\"><img height=\"79\" src=\"place_images7/desertcenterthumb.jpg\" width=\"120\"/></a>, <img height=\"79\" src=\"place_images7/desertcenterthumb.jpg\" width=\"120\"/>, <p><a href=\"desertcenter.html\">Desert Center</a>, <a href=\"california.html\">California</a> | Mostly deserted highway services area. (4 photos - 2013)</p>, <a href=\"desertcenter.html\">Desert Center</a>, <a href=\"california.html\">California</a>, <br/>, <p><a href=\"destin.html\"><img height=\"79\" src=\"place_images/destinthumb.jpg\" width=\"120\"/></a></p>, <a href=\"destin.html\"><img height=\"79\" src=\"place_images/destinthumb.jpg\" width=\"120\"/></a>, <img height=\"79\" src=\"place_images/destinthumb.jpg\" width=\"120\"/>, <p><a href=\"destin.html\">Destin</a>, <a href=\"florida.html\">Florida</a> | Some pictures of hurricane damaged buildings taken a year or so after hurricane Ivan (7 photos - 2006)</p>, <a href=\"destin.html\">Destin</a>, <a href=\"florida.html\">Florida</a>, <br/>, <p><a href=\"detroit.html\"><img height=\"90\" src=\"place_images2/detroit1thumb.jpg\" width=\"120\"/></a></p>, <a href=\"detroit.html\"><img height=\"90\" src=\"place_images2/detroit1thumb.jpg\" width=\"120\"/></a>, <img height=\"90\" src=\"place_images2/detroit1thumb.jpg\" width=\"120\"/>, <p><a href=\"detroit.html\">Detroit</a> <a href=\"mi.html\">Michigan</a> | Some snapshots from around the city. (5 photos - 2010)</p>, <a href=\"detroit.html\">Detroit</a>, <a href=\"mi.html\">Michigan</a>, <br/>, <p><a href=\"/detroitHeidelberg.html\"><img height=\"80\" src=\"place_images2/detroitthumb.jpg\" width=\"120\"/></a></p>, <a href=\"/detroitHeidelberg.html\"><img height=\"80\" src=\"place_images2/detroitthumb.jpg\" width=\"120\"/></a>, <img height=\"80\" src=\"place_images2/detroitthumb.jpg\" width=\"120\"/>, <p><a href=\"/detroitHeidelberg.html\">The Heidelberg Project, Detroit</a> <a href=\"mi.html\">Michigan</a> | An amazing neighborhood art installation. (6 photos - 2010)</p>, <a href=\"/detroitHeidelberg.html\">The Heidelberg Project, Detroit</a>, <a href=\"mi.html\">Michigan</a>, <br/>, <p><a href=\"/2017/detroitFortWayne.html\"><img height=\"80\" src=\"/2017/photos/detroitFortWaynethumb.jpg\" width=\"120\"/></a></p>, <a href=\"/2017/detroitFortWayne.html\"><img height=\"80\" src=\"/2017/photos/detroitFortWaynethumb.jpg\" width=\"120\"/></a>, <img height=\"80\" src=\"/2017/photos/detroitFortWaynethumb.jpg\" width=\"120\"/>, <p><a href=\"/2017/detroitFortWayne.html\">Historic Fort Wayne, Detroit</a> <a href=\"mi.html\">Michigan</a> | Historic Park with questionable building maintenance. (16 photos - 2017)</p>, <a href=\"/2017/detroitFortWayne.html\">Historic Fort Wayne, Detroit</a>, <a href=\"mi.html\">Michigan</a>, <br/>, <p><a href=\"/2017/detroitPackardCentral.html\"><img height=\"80\" src=\"/2017/photos/detroitCentralstationthumb.jpg\" width=\"120\"/></a></p>, <a href=\"/2017/detroitPackardCentral.html\"><img height=\"80\" src=\"/2017/photos/detroitCentralstationthumb.jpg\" width=\"120\"/></a>, <img height=\"80\" src=\"/2017/photos/detroitCentralstationthumb.jpg\" width=\"120\"/>, <p><a href=\"/2017/detroitPackardCentral.html\">Packard Plant and Michigan Central Station, Detroit</a> <a href=\"mi.html\">Michigan</a> | The newly stabilized Packard Plant and Michigan Central Station. (8 photos - 2017)</p>, <a href=\"/2017/detroitPackardCentral.html\">Packard Plant and Michigan Central Station, Detroit</a>, <a href=\"mi.html\">Michigan</a>, <br/>, <p><a href=\"diablocanyon.html\"><img height=\"79\" src=\"place_images/diablocanyonthumb.jpg\" width=\"120\"/></a></p>, <a href=\"diablocanyon.html\"><img height=\"79\" src=\"place_images/diablocanyonthumb.jpg\" width=\"120\"/></a>, <img height=\"79\" src=\"place_images/diablocanyonthumb.jpg\" width=\"120\"/>, <p><a href=\"diablocanyon.html\">Diablo Canyon Nuclear Power Plant,</a> <a href=\"california.html\">California</a> | PG&amp;E grounds around the power plant are a nice place to walk along the ocean. (2 photos - 2011)</p>, <a href=\"diablocanyon.html\">Diablo Canyon Nuclear Power Plant,</a>, <a href=\"california.html\">California</a>, <br/>, <p><a href=\"dixonsprings.html\"><img height=\"79\" src=\"place_images2013trip2/dixonspringsthumb.jpg\" width=\"120\"/></a></p>, <a href=\"dixonsprings.html\"><img height=\"79\" src=\"place_images2013trip2/dixonspringsthumb.jpg\" width=\"120\"/></a>, <img height=\"79\" src=\"place_images2013trip2/dixonspringsthumb.jpg\" width=\"120\"/>, <p><a href=\"dixonsprings.html\">Dixon Springs,</a> <a href=\"illinois.html\">Illinois</a> | Nice state park on the site of a former mineral springs resort village. (3 photos - 2013)</p>, <a href=\"dixonsprings.html\">Dixon Springs,</a>, <a href=\"illinois.html\">Illinois</a>, <br/>, <p><a href=\"donner.html\"><img height=\"120\" src=\"added2014/donnerthumb.jpg\" width=\"80\"/></a></p>, <a href=\"donner.html\"><img height=\"120\" src=\"added2014/donnerthumb.jpg\" width=\"80\"/></a>, <img height=\"120\" src=\"added2014/donnerthumb.jpg\" width=\"80\"/>, <p><a href=\"donner.html\">Donner Party Memorial,</a> <a href=\"california.html\">California</a> | Memorial to the Donner Party, who killed and ate their native guides and then each other after getting stuck in the mountains. (1 photo - 2013)</p>, <a href=\"donner.html\">Donner Party Memorial,</a>, <a href=\"california.html\">California</a>, <br/>, <p><a href=\"duluth.html\"><img height=\"79\" src=\"place_images_updated/duluththumb.jpg\" width=\"120\"/></a></p>, <a href=\"duluth.html\"><img height=\"79\" src=\"place_images_updated/duluththumb.jpg\" width=\"120\"/></a>, <img height=\"79\" src=\"place_images_updated/duluththumb.jpg\" width=\"120\"/>, <p><a href=\"duluth.html\">Duluth</a> <a href=\"mn.html\">Minnesota</a> | Port city on Lake Superior with some interesting solutions to de-industrialization and transportation problems. (8 photos - 2011)</p>, <a href=\"duluth.html\">Duluth</a>, <a href=\"mn.html\">Minnesota</a>, <br/>, <p><a href=\"duquesne.html\"><img height=\"80\" src=\"place_images_updated/duquesnethumb.jpg\" width=\"120\"/></a></p>, <a href=\"duquesne.html\"><img height=\"80\" src=\"place_images_updated/duquesnethumb.jpg\" width=\"120\"/></a>, <img height=\"80\" src=\"place_images_updated/duquesnethumb.jpg\" width=\"120\"/>, <p><a href=\"duquesne.html\">Duquesne</a> <a href=\"penn.html\">Pennsylvania</a> | Dying former steel town on the Monongahela River. (3 photos - 2010)</p>, <a href=\"duquesne.html\">Duquesne</a>, <a href=\"penn.html\">Pennsylvania</a>, <br/>, <p><a href=\"eaglemt.html\"><img height=\"79\" src=\"place_images7/eaglemtthumb.jpg\" width=\"120\"/></a></p>, <a href=\"eaglemt.html\"><img height=\"79\" src=\"place_images7/eaglemtthumb.jpg\" width=\"120\"/></a>, <img height=\"79\" src=\"place_images7/eaglemtthumb.jpg\" width=\"120\"/>, <p><a href=\"eaglemt.html\">Eagle Mountain</a> <a href=\"california.html\">California</a> | Large almost completely abandoned mining town which is fenced off and guarded. (7 photos - 2013)</p>, <a href=\"eaglemt.html\">Eagle Mountain</a>, <a href=\"california.html\">California</a>, <p><a href=\"eaststl.html\"><img height=\"79\" src=\"place_images2013trip/eaststlthumb.jpg\" width=\"120\"/></a></p>, <a href=\"eaststl.html\"><img height=\"79\" src=\"place_images2013trip/eaststlthumb.jpg\" width=\"120\"/></a>, <img height=\"79\" src=\"place_images2013trip/eaststlthumb.jpg\" width=\"120\"/>, <p><a href=\"eaststl.html\">East Saint Louis</a> <a href=\"illinois.html\">Illinois</a> |  Profoundly dysfunctional urban wasteland. (4 photos - 2013)</p>, <a href=\"eaststl.html\">East Saint Louis</a>, <a href=\"illinois.html\">Illinois</a>, <p><a href=\"ebr1.html\"><img height=\"80\" src=\"added2014/EBR1thumb.jpg\" width=\"120\"/></a></p>, <a href=\"ebr1.html\"><img height=\"80\" src=\"added2014/EBR1thumb.jpg\" width=\"120\"/></a>, <img height=\"80\" src=\"added2014/EBR1thumb.jpg\" width=\"120\"/>, <p><a href=\"ebr1.html\">Experimental Breeder Reactor 1,</a> <a href=\"idaho.html\">Idaho</a> | A museum devoted to the world\\'s first nuclear power plant. Two nuclear powered jet engine prototypes sit outside the museum next to the parking lot. (9 photos - 2014)</p>, <a href=\"ebr1.html\">Experimental Breeder Reactor 1,</a>, <a href=\"idaho.html\">Idaho</a>, <p><a href=\"eden.html\"><img height=\"120\" src=\"place_images/edenthumb.jpg\" width=\"88\"/></a></p>, <a href=\"eden.html\"><img height=\"120\" src=\"place_images/edenthumb.jpg\" width=\"88\"/></a>, <img height=\"120\" src=\"place_images/edenthumb.jpg\" width=\"88\"/>, <p><a href=\"eden.html\">Eden</a> <a href=\"nc.html\">North Carolina</a> | Eden is the amalgamation of three former mill towns and home of the ruins of the Spray mill. (15 photos)</p>, <a href=\"eden.html\">Eden</a>, <a href=\"nc.html\">North Carolina</a>, <br/>, <p><a href=\"edenton.html\"><img height=\"80\" src=\"place_images_updated/edentonthumb.jpg\" width=\"120\"/></a></p>, <a href=\"edenton.html\"><img height=\"80\" src=\"place_images_updated/edentonthumb.jpg\" width=\"120\"/></a>, <img height=\"80\" src=\"place_images_updated/edentonthumb.jpg\" width=\"120\"/>, <p><a href=\"edenton.html\">Edenton</a> <a href=\"nc.html\">North Carolina</a> | Abandoned dock and boat repair facility near Edenton. (9 photos - 2012)</p>, <a href=\"edenton.html\">Edenton</a>, <a href=\"nc.html\">North Carolina</a>, <br/>, <p><a href=\"elcentro.html\"><img height=\"79\" src=\"place_images7/elcentrothumb.jpg\" width=\"120\"/></a></p>, <a href=\"elcentro.html\"><img height=\"79\" src=\"place_images7/elcentrothumb.jpg\" width=\"120\"/></a>, <img height=\"79\" src=\"place_images7/elcentrothumb.jpg\" width=\"120\"/>, <p><a href=\"elcentro.html\">El Centro</a> <a href=\"california.html\">California</a> | Largest US city in the Imperial Valley. (5 photos - 2013)</p>, <a href=\"elcentro.html\">El Centro</a>, <a href=\"california.html\">California</a>, <br/>, <p><a href=\"elkgrove.html\"><img height=\"81\" src=\"place_images6/elkgrovethumb.jpg\" width=\"120\"/></a></p>, <a href=\"elkgrove.html\"><img height=\"81\" src=\"place_images6/elkgrovethumb.jpg\" width=\"120\"/></a>, <img height=\"81\" src=\"place_images6/elkgrovethumb.jpg\" width=\"120\"/>, <p><a href=\"elkgrove.html\">Elk Grove Promenade</a>, <a href=\"california.html\">California</a> | Partially built shopping center that has sat empty for the last 5 years. (8 photos - 2012)</p>, <a href=\"elkgrove.html\">Elk Grove Promenade</a>, <a href=\"california.html\">California</a>, <br/>, <p><a href=\"elkhorn.html\"><img height=\"80\" src=\"added2014/elkhornthumb.jpg\" width=\"120\"/></a></p>, <a href=\"elkhorn.html\"><img height=\"80\" src=\"added2014/elkhornthumb.jpg\" width=\"120\"/></a>, <img height=\"80\" src=\"added2014/elkhornthumb.jpg\" width=\"120\"/>, <p><a href=\"elkhorn.html\">Elkhorn</a> <a href=\"montana.html\">Montana</a> | 1880s-90s silver rush ghost town. (11 photos - 2014)</p>, <a href=\"elkhorn.html\">Elkhorn</a>, <a href=\"montana.html\">Montana</a>, <br/>, <p><a href=\"ely.html\"><img height=\"80\" src=\"place_images2013trip2/elythumb.jpg\" width=\"120\"/></a></p>, <a href=\"ely.html\"><img height=\"80\" src=\"place_images2013trip2/elythumb.jpg\" width=\"120\"/></a>, <img height=\"80\" src=\"place_images2013trip2/elythumb.jpg\" width=\"120\"/>, <p><a href=\"ely.html\">Ely</a> <a href=\"nevada.html\">Nevada</a> | Mining town and center of commerce for eastern Nevada. (5 photos - 2013)</p>, <a href=\"ely.html\">Ely</a>, <a href=\"nevada.html\">Nevada</a>, <br/>, <p><a href=\"2017/empireMine.html\"><img height=\"80\" src=\"2017/photos/empireminethumb.jpg\" width=\"120\"/></a></p>, <a href=\"2017/empireMine.html\"><img height=\"80\" src=\"2017/photos/empireminethumb.jpg\" width=\"120\"/></a>, <img height=\"80\" src=\"2017/photos/empireminethumb.jpg\" width=\"120\"/>, <p><a href=\"2017/empireMine.html\">Empire Mine State Historic Park</a>, <a href=\"california.html\">California</a> | Preserved underground gold mine. (10 photos - 2017)</p>, <a href=\"2017/empireMine.html\">Empire Mine State Historic Park</a>, <a href=\"california.html\">California</a>, <br/>, <p><a href=\"endor.html\"><img height=\"120\" src=\"place_images2/endorthumb.jpg\" width=\"86\"/></a></p>, <a href=\"endor.html\"><img height=\"120\" src=\"place_images2/endorthumb.jpg\" width=\"86\"/></a>, <img height=\"120\" src=\"place_images2/endorthumb.jpg\" width=\"86\"/>, <p><a href=\"endor.html\">Endor Iron Furnace</a> <a href=\"nc.html\">North Carolina</a> | Ruins of an iron furnace built in 1862. (10 photos - 2009)</p>, <a href=\"endor.html\">Endor Iron Furnace</a>, <a href=\"nc.html\">North Carolina</a>, <br/>, <p><a href=\"ensley.html\"><img height=\"80\" src=\"scans/ensleythumb.jpg\" width=\"120\"/></a></p>, <a href=\"ensley.html\"><img height=\"80\" src=\"scans/ensleythumb.jpg\" width=\"120\"/></a>, <img height=\"80\" src=\"scans/ensleythumb.jpg\" width=\"120\"/>, <p><a href=\"ensley.html\">Ensley,</a> <a href=\"alabama.html\">Alabama</a> | The ruins of the Tennessee Coal, Iron steel works. ( 17 photos - 1993)</p>, <a href=\"ensley.html\">Ensley,</a>, <a href=\"alabama.html\">Alabama</a>, <br/>, <p><a href=\"eureka.html\"><img height=\"81\" src=\"place_images2013trip2/eurekathumb.jpg\" width=\"120\"/></a></p>, <a href=\"eureka.html\"><img height=\"81\" src=\"place_images2013trip2/eurekathumb.jpg\" width=\"120\"/></a>, <img height=\"81\" src=\"place_images2013trip2/eurekathumb.jpg\" width=\"120\"/>, <p><a href=\"eureka.html\">Eureka</a> <a href=\"nevada.html\">Nevada</a> | Well preserved mining town from 1870s-80s period on highway 50 (the loneliest road), in the center of Nevada. (5 photos - 2013)</p>, <a href=\"eureka.html\">Eureka</a>, <a href=\"nevada.html\">Nevada</a>, <br/>, <h3><a href=\"allf_n.html\">All Entries F to N</a></h3>, <a href=\"allf_n.html\">All Entries F to N</a>, <p>\\xa0</p>, <div style=\"text-align:center\"> ------------------------------ </div>, <br/>, <p>All content on these pages Copyright Mark Hedlund 2012-2019. All rights reserved. Use in school projects and with links on social media is always okay. Please send me an email to request permission for any other use: <a class=\"__cf_email__\" data-cfemail=\"bad2dfded6cfd4d9d2fac3dbd2d5d594d9d5d7\" href=\"/cdn-cgi/l/email-protection\">[email\\xa0protected]</a> Non-exclusive commercial publication rights  for most photos is $25 per image. </p>, <a class=\"__cf_email__\" data-cfemail=\"bad2dfded6cfd4d9d2fac3dbd2d5d594d9d5d7\" href=\"/cdn-cgi/l/email-protection\">[email\\xa0protected]</a>, <br/>]'"
      ]
     },
     "execution_count": 128,
     "metadata": {},
     "output_type": "execute_result"
    }
   ],
   "source": [
    "str(x.find_all())"
   ]
  },
  {
   "cell_type": "code",
   "execution_count": 129,
   "metadata": {},
   "outputs": [],
   "source": [
    "source_code = str(x.find_all())"
   ]
  },
  {
   "cell_type": "code",
   "execution_count": 36,
   "metadata": {},
   "outputs": [],
   "source": [
    "import regex as re"
   ]
  },
  {
   "cell_type": "code",
   "execution_count": 51,
   "metadata": {},
   "outputs": [],
   "source": [
    "text_sample = \"\"\"<br/>, <br/>, <h2>All Entries A to E in Alphabetical Order</h2>, \\\n",
    "              <p><a href=\"aberdeen.html\"><img height=\"80\" src=\"2014/aberdeenthumb.jpg\" \\\n",
    "              width=\"120\"/></a></p>, <a href=\"aberdeen.html\"><img height=\"80\" src=\"2014/aberdeenthumb.jpg\" \\\n",
    "              width=\"120\"/></a>, <img height=\"80\" src=\"2014/aberdeenthumb.jpg\" width=\"120\"/>, \\\n",
    "              <p><a href=\"aberdeen.html\">Aberdeen</a> <a href=\"washington.html\">Washington</a> \\\n",
    "              | Early 1900s lumber boomtown. Has stabilized after declining for much of the late 1900s<a href=\"aberdeen.html\">.\\\n",
    "              </a> (11 photos - 2014)</p>, <a href=\"aberdeen.html\">Aberdeen</a>, <a href=\"washington.html\">Washington</a>, \\\n",
    "              <a href=\"aberdeen.html\">.</a>, <br/>\"\"\""
   ]
  },
  {
   "cell_type": "code",
   "execution_count": 102,
   "metadata": {},
   "outputs": [],
   "source": [
    "pattern = r'src=\"[.]*\"'"
   ]
  },
  {
   "cell_type": "code",
   "execution_count": 103,
   "metadata": {},
   "outputs": [],
   "source": [
    "match = re.findall(pattern, text_sample)"
   ]
  },
  {
   "cell_type": "code",
   "execution_count": 133,
   "metadata": {},
   "outputs": [
    {
     "data": {
      "text/plain": [
       "[<a href=\"aberdeen.html\"><img height=\"80\" src=\"2014/aberdeenthumb.jpg\" width=\"120\"/></a>,\n",
       " <a href=\"aberdeen.html\">Aberdeen</a>,\n",
       " <a href=\"washington.html\">Washington</a>,\n",
       " <a href=\"aberdeen.html\">.</a>,\n",
       " <a href=\"abo.html\"><img height=\"80\" src=\"place_images2013trip/abothumb.jpg\" width=\"120\"/></a>,\n",
       " <a href=\"abo.html\">Abo</a>,\n",
       " <a href=\"nm.html\">New Mexico</a>,\n",
       " <a href=\"place_images_updated\">Salinas Pueblo Missions National Monument.</a>,\n",
       " <a href=\"acadia.html\"><img height=\"80\" src=\"place_images2013trip2/acadiathumb.jpg\" width=\"120\"/></a>,\n",
       " <a href=\"acadia.html\">Acadia National Park,</a>,\n",
       " <a href=\"me.html\">Maine</a>,\n",
       " <a href=\"ahmeekstmill.html\"><img alt=\"\" height=\"80\" src=\"place_images2/ahmeekstmillthumb.jpg\" width=\"120\"/></a>,\n",
       " <a href=\"ahmeekstmill.html\">Ahmeek Stamp Mill</a>,\n",
       " <a href=\"mi.html\">Michigan</a>,\n",
       " <a href=\"ahoskie.html\"><img alt=\"Ahoskie NC\" height=\"80\" src=\"place_images2/ahoskiethumb.jpg\" width=\"120\"/></a>,\n",
       " <a href=\"ahoskie.html\">Ahoskie</a>,\n",
       " <a href=\"nc.html\">North Carolina</a>,\n",
       " <a href=\"alabamahills.html\"><img height=\"80\" src=\"added2014/alabamahillsthumb.jpg\" width=\"120\"/></a>,\n",
       " <a href=\"alabamahills.html\">Alabama Hills and Whitney Portal</a>,\n",
       " <a href=\"california.html\">California</a>,\n",
       " <a href=\"albemarle.html\"><img height=\"120\" src=\"place_images2013trip2/albemarlethumb.jpg\" width=\"80\"/></a>,\n",
       " <a href=\"albemarle.html\">Albemarle</a>,\n",
       " <a href=\"nc.html\">North Carolina</a>,\n",
       " <a href=\"alder.html\"><img height=\"80\" src=\"added2014/alderthumb.jpg\" width=\"120\"/></a>,\n",
       " <a href=\"alder.html\">Alder</a>,\n",
       " <a href=\"montana.html\">Montana</a>,\n",
       " <a href=\"alton.html\"><img height=\"80\" src=\"place_images2013trip2/altonthumb.jpg\" width=\"120\"/></a>,\n",
       " <a href=\"alton.html\">Alton</a>,\n",
       " <a href=\"illinois.html\">Illinois</a>,\n",
       " <a href=\"amadorcity.html\"><img alt=\"Amador City CA\" height=\"80\" src=\"place_images2/amadorcitythumb.jpg\" width=\"120\"/></a>,\n",
       " <a href=\"amadorcity.html\">Amador City</a>,\n",
       " <a href=\"california.html\">California</a>,\n",
       " <a href=\"amboy.html\"><img height=\"79\" src=\"place_images7/amboythumb.jpg\" width=\"120\"/></a>,\n",
       " <a href=\"amboy.html\">Amboy</a>,\n",
       " <a href=\"california.html\">California</a>,\n",
       " <a href=\"ambridge.html\"><img alt=\"Ambridge PA\" height=\"120\" src=\"place_images/ambridgethumb.jpg\" width=\"79\"/></a>,\n",
       " <a href=\"ambridge.html\">Ambridge Pennsylvania</a>,\n",
       " <a href=\"angelscamp.html\"><img alt=\"Angels Camp CA\" height=\"80\" src=\"place_images2/anglescampthumb.jpg\" width=\"120\"/></a>,\n",
       " <a href=\"angelscamp.html\">Angels Camp</a>,\n",
       " <a href=\"california.html\">California</a>,\n",
       " <a href=\"/2017/antwerp.html\"><img alt=\"Antwerp OH\" height=\"80\" src=\"/2017/photos/antwerpthumb.jpg\" width=\"120\"/></a>,\n",
       " <a href=\"/2017/antwerp.html\">Antwerp</a>,\n",
       " <a href=\"ohio.html\">Ohio</a>,\n",
       " <a href=\"arches.html\"><img height=\"80\" src=\"place_images2013trip2/archesthumb.jpg\" width=\"120\"/></a>,\n",
       " <a href=\"arches.html\">Arches National Park,</a>,\n",
       " <a href=\"utah.html\">Utah</a>,\n",
       " <a href=\"ashlandwisco.html\"><img alt=\"Ashland WI\" height=\"80\" src=\"place_images/ashlandthumb.jpg\" width=\"120\"/></a>,\n",
       " <a href=\"ashlandwisco.html\">Ashland</a>,\n",
       " <a href=\"wisco.html\">Wisconsin</a>,\n",
       " <a href=\"ashley.html\"><img alt=\"Huber Breaker, Ashley PA\" height=\"80\" src=\"place_images2013trip/huberbreakerthumb.jpg\" width=\"120\"/></a>,\n",
       " <a href=\"ashley.html\">Ashley-Huber Breaker</a>,\n",
       " <a href=\"penn.html\">Pennsylvania</a>,\n",
       " <a href=\"ashtabula.html\"><img alt=\"Ashtabula OH\" height=\"120\" src=\"place_images/ashtabulathumb.jpg\" width=\"80\"/></a>,\n",
       " <a href=\"ashtabula.html\">Ashtabula</a>,\n",
       " <a href=\"ohio.html\">Ohio</a>,\n",
       " <a href=\"atchison.html\"><img alt=\"Austin Nevada\" height=\"80\" src=\"place_images2013trip2/atchisonthumb.jpg\" width=\"120\"/></a>,\n",
       " <a href=\"atchison.html\">Atchison,</a>,\n",
       " <a href=\"ks.html\">Kansas</a>,\n",
       " <a href=\"athens.html\"><img alt=\"Athens Asylum\" height=\"80\" src=\"place_images2013trip2/athensthumb.jpg\" width=\"120\"/></a>,\n",
       " <a href=\"athens.html\">Athens Asylum,</a>,\n",
       " <a href=\"ohio.html\">Ohio</a>,\n",
       " <a href=\"athol.html\"><img alt=\"Athol\" height=\"80\" src=\"place_images2013trip2/atholthumb.jpg\" width=\"120\"/></a>,\n",
       " <a href=\"athol.html\">Athol,</a>,\n",
       " <a href=\"ma.html\">Massachusetts</a>,\n",
       " <a href=\"atlanta.html\"><img alt=\"Atlanta\" height=\"120\" src=\"scans/atlantathumb.jpg\" width=\"76\"/></a>,\n",
       " <a href=\"atlanta.html\">Atlanta</a>,\n",
       " <a href=\"georgia.html\">Georgia</a>,\n",
       " <a href=\"austin.html\"><img alt=\"Austin Nevada\" height=\"80\" src=\"place_images2013trip/austinthumb.jpg\" width=\"120\"/></a>,\n",
       " <a href=\"austin.html\">Austin</a>,\n",
       " <a href=\"nevada.html\">Nevada</a>,\n",
       " <a href=\"badin.html\"><img alt=\"Badin NC\" height=\"80\" src=\"place_images2013trip/badinthumb.jpg\" width=\"120\"/></a>,\n",
       " <a href=\"badin.html\">Badin</a>,\n",
       " <a href=\"nc.html\">North Carolina</a>,\n",
       " <a href=\"ballarat.html\"><img alt=\"Ballarat CA\" height=\"80\" src=\"place_images/ballaratthumb.jpg\" width=\"120\"/></a>,\n",
       " <a href=\"ballarat.html\">Ballarat</a>,\n",
       " <a href=\"california.html\">California</a>,\n",
       " <a href=\"bannack.html\"><img alt=\"Bannack\" height=\"80\" src=\"added2014/bannackthumb.jpg\" width=\"120\"/></a>,\n",
       " <a href=\"bannack.html\">Bannack</a>,\n",
       " <a href=\"montana.html\">Montana</a>,\n",
       " <a href=\"/2017/bartonville.html\"><img alt=\"Basin\" height=\"80\" src=\"/2017/photos/bartonvillethumb.jpg\" width=\"120\"/></a>,\n",
       " <a href=\"/2017/bartonville.html\">Bartonville</a>,\n",
       " <a href=\"illinois.html\">Illinois</a>,\n",
       " <a href=\"basin.html\"><img alt=\"Basin\" height=\"80\" src=\"added2014/basinthumb.jpg\" width=\"120\"/></a>,\n",
       " <a href=\"basin.html\">Basin</a>,\n",
       " <a href=\"montana.html\">Montana</a>,\n",
       " <a href=\"bayhorse.html\"><img alt=\"Bayhorse\" height=\"80\" src=\"added2014/bayhorsethumb.jpg\" width=\"120\"/></a>,\n",
       " <a href=\"bayhorse.html\">Bayhorse</a>,\n",
       " <a href=\"idaho.html\">Idaho</a>,\n",
       " <a href=\"/2017/belding.html\"><img alt=\"Belding MI\" height=\"80\" src=\"/2017/photos/beldingthumb.jpg\" width=\"120\"/></a>,\n",
       " <a href=\"/2017/belding.html\">Belding</a>,\n",
       " <a href=\"mi.html\">Michigan</a>,\n",
       " <a href=\"bellaire.html\"><img alt=\"Bellaire OH\" height=\"80\" src=\"place_images2/bellairethumb.jpg\" width=\"120\"/></a>,\n",
       " <a href=\"bellaire.html\">Bellaire</a>,\n",
       " <a href=\"ohio.html\">Ohio</a>,\n",
       " <a href=\"bellemont.html\"><img alt=\"Bellemont NC\" height=\"120\" src=\"place_images/bellemontthumb.jpg\" width=\"80\"/></a>,\n",
       " <a href=\"bellemont.html\">Bellemont</a>,\n",
       " <a href=\"nc.html\">North Carolina</a>,\n",
       " <a href=\"bennington.html\"><img alt=\"Bennington\" height=\"80\" src=\"place_images2013trip2/benningtonthumb.jpg\" width=\"120\"/></a>,\n",
       " <a href=\"bennington.html\">Bennington Battle Monument,</a>,\n",
       " <a href=\"vt.html\">Vermont</a>,\n",
       " <a href=\"bethlehem.html\"><img alt=\"Bethlehem PA\" height=\"80\" src=\"place_images2013trip/bethlehemthumb.jpg\" width=\"120\"/></a>,\n",
       " <a href=\"bethlehem.html\">Bethlehem</a>,\n",
       " <a href=\"penn.html\">Pennsylvania</a>,\n",
       " <a href=\"biddeford.html\"><img alt=\"Biddeford Maine\" height=\"120\" src=\"place_images2013trip/biddefordthumb.jpg\" width=\"80\"/></a>,\n",
       " <a href=\"biddeford.html\">Biddeford</a>,\n",
       " <a href=\"me.html\">Maine</a>,\n",
       " <a href=\"bodie.html\"><img alt=\"Bodie CA\" height=\"80\" src=\"place_images/bodiethumb.jpg\" width=\"120\"/></a>,\n",
       " <a href=\"bodie.html\">Bodie</a>,\n",
       " <a href=\"california.html\">California</a>,\n",
       " <a href=\"boggsville.html\"><img alt=\"Boggsville CO\" height=\"80\" src=\"place_images2013trip2/boggsvillethumb.jpg\" width=\"120\"/></a>,\n",
       " <a href=\"boggsville.html\">Boggsville</a>,\n",
       " <a href=\"co.html\">Colorado</a>,\n",
       " <a href=\"bombaybeach.html\"><img height=\"79\" src=\"place_images7/bombaybeachthumb.jpg\" width=\"120\"/></a>,\n",
       " <a href=\"bombaybeach.html\">Bombay Beach,</a>,\n",
       " <a href=\"california.html\">California</a>,\n",
       " <a href=\"bonanza.html\"><img height=\"80\" src=\"added2014/bonanzathumb.jpg\" width=\"120\"/></a>,\n",
       " <a href=\"bonanza.html\">Bonanza</a>,\n",
       " <a href=\"idaho.html\">Idaho</a>,\n",
       " <a href=\"bonneterre.html\"><img alt=\"Bonne Terre, Missouri\" height=\"80\" src=\"place_images2013trip/bonneterrethumb.jpg\" width=\"120\"/></a>,\n",
       " <a href=\"bonneterre.html\">Bonne Terre</a>,\n",
       " <a href=\"mo.html\">Missouri</a>,\n",
       " <a href=\"boronairstn.html\"><img height=\"79\" src=\"2014/boronafsthumb.jpg\" width=\"120\"/></a>,\n",
       " <a href=\"boronairstn.html\">Boron Air Station,</a>,\n",
       " <a href=\"california.html\">California</a>,\n",
       " <a href=\"braddock.html\"><img alt=\"Braddock PA\" height=\"80\" src=\"place_images/braddockthumb.jpg\" width=\"120\"/></a>,\n",
       " <a href=\"braddock.html\">Braddock</a>,\n",
       " <a href=\"penn.html\">Pennsylvania</a>,\n",
       " <a href=\"brownsville.html\"><img alt=\"Brownsville PA\" height=\"80\" src=\"place_images2/brownsvillethumb.jpg\" width=\"120\"/></a>,\n",
       " <a href=\"brownsville.html\">Brownsville</a>,\n",
       " <a href=\"penn.html\">Pennsylvania</a>,\n",
       " <a href=\"buffalo.html\"><img alt=\"Buffalo NY\" height=\"80\" src=\"place_images/buffalothumb.jpg\" width=\"120\"/></a>,\n",
       " <a href=\"buffalo.html\">Buffalo South Lakeshore/Union Ship Canal,</a>,\n",
       " <a href=\"ny.html\">New York</a>,\n",
       " <a href=\"buffaloterminal.html\"><img alt=\"Buffalo NY\" height=\"80\" src=\"place_images2013trip2/buffcentralterminalthurmb.jpg\" width=\"120\"/></a>,\n",
       " <a href=\"buffaloterminal.html\">Buffalo Central Terminal,</a>,\n",
       " <a href=\"ny.html\">New York</a>,\n",
       " <a href=\"buffalosilos.html\"><img alt=\"Buffalo NY\" height=\"80\" src=\"place_images2013trip2/buffalosilosthumb.jpg\" width=\"120\"/></a>,\n",
       " <a href=\"buffalosilos.html\">Buffalo Creek Silos,</a>,\n",
       " <a href=\"ny.html\">New York</a>,\n",
       " <a href=\"burke.html\"><img alt=\"Burke\" height=\"80\" src=\"added2014/burkethumb.jpg\" width=\"120\"/></a>,\n",
       " <a href=\"burke.html\">Burke</a>,\n",
       " <a href=\"idaho.html\">Idaho</a>,\n",
       " <a href=\"burlington.html\"><img alt=\"Burlington NC\" height=\"80\" src=\"place_images/burlingtonthumb.jpg\" width=\"120\"/></a>,\n",
       " <a href=\"burlington.html\">Burlington</a>,\n",
       " <a href=\"nc.html\">North Carolina</a>,\n",
       " <a href=\"/2017/butte.html\"><img alt=\"Butte\" height=\"80\" src=\"/2017/photos/buttetownthumb.jpg\" width=\"120\"/></a>,\n",
       " <a href=\"/2017/butte.html\">Butte</a>,\n",
       " <a href=\"montana.html\">Montana</a>,\n",
       " <a href=\"/2017/buttemines.html\"><img alt=\"Butte\" height=\"80\" src=\"/2017/photos/butteminesthumb.jpg\" width=\"120\"/></a>,\n",
       " <a href=\"/2017/buttemines.html\">Butte Mined Areas and the Berkeley Pit,</a>,\n",
       " <a href=\"montana.html\">Montana</a>,\n",
       " <a href=\"bynum.html\"><img height=\"80\" src=\"place_images_updated/bynumthumb.jpg\" width=\"120\"/></a>,\n",
       " <a href=\"bynum.html\">Bynum</a>,\n",
       " <a href=\"nc.html\">North Carolina</a>,\n",
       " <a href=\"cahokia.html\"><img height=\"80\" src=\"place_images2013trip2/cahokiathumb.jpg\" width=\"120\"/></a>,\n",
       " <a href=\"cahokia.html\">Cahokia Mounds,</a>,\n",
       " <a href=\"illinois.html\">Illinois</a>,\n",
       " <a href=\"cairo.html\"><img height=\"80\" src=\"place_images2013trip/cairothumb.jpg\" width=\"120\"/></a>,\n",
       " <a href=\"cairo.html\">Cairo</a>,\n",
       " <a href=\"illinois.html\">Illinois</a>,\n",
       " <a href=\"calcity.html\"><img height=\"120\" src=\"place_images7/calcitythumb.jpg\" width=\"79\"/></a>,\n",
       " <a href=\"calcity.html\">California City</a>,\n",
       " <a href=\"california.html\">California</a>,\n",
       " <a href=\"calumetmi.html\"><img alt=\"Calumet MI\" height=\"80\" src=\"place_images/calumetthumb.jpg\" width=\"120\"/></a>,\n",
       " <a href=\"calumetmi.html\">Calumet</a>,\n",
       " <a href=\"mi.html\">Michigan</a>,\n",
       " <a href=\"camdenhills.html\"><img height=\"80\" src=\"place_images2013trip/camdenhillsthumb.jpg\" width=\"120\"/></a>,\n",
       " <a href=\"camdenhills.html\">Camden Hills State Park</a>,\n",
       " <a href=\"me.html\">Maine</a>,\n",
       " <a href=\"campbell.html\"><img height=\"80\" src=\"place_images2013trip2/campbellthumb.jpg\" width=\"120\"/></a>,\n",
       " <a href=\"campbell.html\">Campbell</a>,\n",
       " <a href=\"ohio.html\">Ohio</a>,\n",
       " <a href=\"cannelton.html\"><img height=\"120\" src=\"place_images2013trip/canneltonthumb.jpg\" width=\"80\"/></a>,\n",
       " <a href=\"cannelton.html\">Cannelton</a>,\n",
       " <a href=\"indiana.html\">Indiana</a>,\n",
       " <a href=\"canyondechelly.html\"><img height=\"120\" src=\"place_images2013trip2/canyondechellythumb.jpg\" width=\"80\"/></a>,\n",
       " <a href=\"canyondechelly.html\">Canyon de Chelly</a>,\n",
       " <a href=\"arizona.html\">Arizona</a>,\n",
       " <a href=\"canyonlands.html\"><img height=\"80\" src=\"place_images2013trip2/canyonlandsthumb.jpg\" width=\"120\"/></a>,\n",
       " <a href=\"canyonlands.html\">Canyonlands National Park</a>,\n",
       " <a href=\"utah.html\">Utah</a>,\n",
       " <a href=\"2017/carolinamill.html\"><img height=\"79\" src=\"2017/photos/carolinamillthumb.jpg\" width=\"120\"/></a>,\n",
       " <a href=\"2017/carolinamill.html\">Carolina Mill,</a>,\n",
       " <a href=\"nc.html\">North Carolina</a>,\n",
       " <a href=\"/2017/carpentersville.html\"><img height=\"79\" src=\"/2017/photos/carpentersvillethumb.jpg\" width=\"120\"/></a>,\n",
       " <a href=\"/2017/carpentersville.html\">Carpentersville</a>,\n",
       " <a href=\"illinois.html\">Illinois</a>,\n",
       " <a href=\"carrizo.html\"><img height=\"79\" src=\"place_images7/carrizothumb.jpg\" width=\"120\"/></a>,\n",
       " <a href=\"carrizo.html\">Carrizo Plain National Monument,</a>,\n",
       " <a href=\"california.html\">California</a>,\n",
       " <a href=\"cartago.html\"><img height=\"79\" src=\"place_images7/cartagothumb.jpg\" width=\"120\"/></a>,\n",
       " <a href=\"cartago.html\">Cartago</a>,\n",
       " <a href=\"california.html\">California</a>,\n",
       " <a href=\"2017/cedarfalls.html\"><img height=\"80\" src=\"2017/photos/cedarfallsthumb.jpg\" width=\"120\"/></a>,\n",
       " <a href=\"2017/cedarfalls.html\">Cedar Falls,</a>,\n",
       " <a href=\"nc.html\">North Carolina</a>,\n",
       " <a href=\"chaco.html\"><img height=\"120\" src=\"place_images2013trip2/chacothumb.jpg\" width=\"80\"/></a>,\n",
       " <a href=\"chaco.html\">Chaco Culture National Historical Park,</a>,\n",
       " <a href=\"nm.html\">New Mexico</a>,\n",
       " <a href=\"chester.html\"><img height=\"80\" src=\"place_images2013trip2/chesterthumb.jpg\" width=\"120\"/></a>,\n",
       " <a href=\"chester.html\">Chester</a>,\n",
       " <a href=\"penn.html\">Pennsylvania</a>,\n",
       " <a href=\"chernobyl.html\"><img height=\"90\" src=\"others/chernobylthumb.jpg\" width=\"120\"/></a>,\n",
       " <a href=\"chernobyl.html\">Chernobyl</a>,\n",
       " <a href=\"international.html\">Ukraine</a>,\n",
       " <a href=\"2017/chicago.html\"><img height=\"80\" src=\"2017/photos/CMFTthumb.jpg\" width=\"120\"/></a>,\n",
       " <a href=\"2017/chicago.html\">Chicago</a>,\n",
       " <a href=\"illinois.html\">Illinois</a>,\n",
       " <a href=\"oldchicago.html\"><img height=\"120\" src=\"place_images5/chicagothumb.jpg\" width=\"80\"/></a>,\n",
       " <a href=\"oldchicago.html\">Chicago</a>,\n",
       " <a href=\"illinois.html\">Illinois</a>,\n",
       " <a href=\"/2018/chico.html\"><img height=\"80\" src=\"2018/photos/chicothumb.jpg\" width=\"120\"/></a>,\n",
       " <a href=\"/2018/chico.html\">Diamond Match, Chico,</a>,\n",
       " <a href=\"california.html\">California</a>,\n",
       " <a href=\"chicopee.html\"><img height=\"120\" src=\"place_images2013trip/chicopeethumb.jpg\" width=\"80\"/></a>,\n",
       " <a href=\"chicopee.html\">Chicopee</a>,\n",
       " <a href=\"ma.html\">Massachusetts</a>,\n",
       " <a href=\"chinesecamp.html\"><img height=\"80\" src=\"place_images_updated/chinesecampthumb.jpg\" width=\"120\"/></a>,\n",
       " <a href=\"chinesecamp.html\">Chinese Camp</a>,\n",
       " <a href=\"california.html\">California</a>,\n",
       " <a href=\"/2017/cicero.html\"><img height=\"80\" src=\"/2017/photos/cicerothumb.jpg\" width=\"120\"/></a>,\n",
       " <a href=\"/2017/cicero.html\">Hawthorne Works, Cicero</a>,\n",
       " <a href=\"illinois.html\">Illinois</a>,\n",
       " <a href=\"cincinnati.html\"><img height=\"80\" src=\"place_images2013trip2/cincinnatithumb.jpg\" width=\"120\"/></a>,\n",
       " <a href=\"cincinnati.html\">Cincinnati</a>,\n",
       " <a href=\"ohio.html\">Ohio</a>,\n",
       " <a href=\"clifty.html\"><img height=\"80\" src=\"place_images2013trip2/cliftythumb.jpg\" width=\"120\"/></a>,\n",
       " <a href=\"clifty.html\">Clifty Falls State Park</a>,\n",
       " <a href=\"indiana.html\">Indiana</a>,\n",
       " <a href=\"/2017/clarksburg.html\"><img height=\"80\" src=\"/2017/photos/clarksburgthumb.jpg\" width=\"120\"/></a>,\n",
       " <a href=\"/2017/clarksburg.html\">Old Sugar Mill, Clarksburg</a>,\n",
       " <a href=\"california.html\">California</a>,\n",
       " <a href=\"colonie.html\"><img height=\"80\" src=\"place_images2013trip2/coloniethumb.jpg\" width=\"120\"/></a>,\n",
       " <a href=\"colonie.html\">Colonie - AI Tech Steel Mill</a>,\n",
       " <a href=\"ny.html\">New York</a>,\n",
       " <a href=\"columbia.html\"><img height=\"80\" src=\"2014/columbiathumb.jpg\" width=\"120\"/></a>,\n",
       " <a href=\"columbia.html\">Columbia</a>,\n",
       " <a href=\"california.html\">California</a>,\n",
       " <a href=\"colusa.html\"><img height=\"79\" src=\"place_images/colusathumb.jpg\" width=\"120\"/></a>,\n",
       " <a href=\"colusa.html\">Colusa</a>,\n",
       " <a href=\"california.html\">California</a>,\n",
       " <a href=\"comet.html\"><img height=\"80\" src=\"added2014/cometthumb.jpg\" width=\"120\"/></a>,\n",
       " <a href=\"comet.html\">Comet</a>,\n",
       " <a href=\"montana.html\">Montana</a>,\n",
       " <a href=\"confluencetower.html\"><img height=\"120\" src=\"place_images2013trip/confluencetowerthumb.jpg\" width=\"80\"/></a>,\n",
       " <a href=\"confluencetower.html\">Confluence Tower, Hartford</a>,\n",
       " <a href=\"illinois.html\">Illinois</a>,\n",
       " <a href=\"coolidge.html\"><img height=\"80\" src=\"place_images2013trip2/coolidgethumb.jpg\" width=\"120\"/></a>,\n",
       " <a href=\"coolidge.html\">Coolidge</a>,\n",
       " <a href=\"ks.html\">Kansas</a>,\n",
       " <a href=\"coplay.html\"><img height=\"80\" src=\"place_images2013trip/coplaythumb.jpg\" width=\"120\"/></a>,\n",
       " <a href=\"coplay.html\">Coplay Cement Kilns</a>,\n",
       " <a href=\"penn.html\">Pennsylvania</a>,\n",
       " <a href=\"copperharbor.html\"><img height=\"120\" src=\"place_images_updated/copperharborthumb.jpg\" width=\"80\"/></a>,\n",
       " <a href=\"copperharbor.html\">Copper Harbor</a>,\n",
       " <a href=\"mi.html\">Michigan</a>,\n",
       " <a href=\"coulterville.html\"><img height=\"80\" src=\"2014/coultervillethumb.jpg\" width=\"120\"/></a>,\n",
       " <a href=\"coulterville.html\">Coulterville</a>,\n",
       " <a href=\"california.html\">California</a>,\n",
       " <a href=\"cratersofthemoon.html\"><img height=\"80\" src=\"added2014/COMthumb.jpg\" width=\"120\"/></a>,\n",
       " <a href=\"cratersofthemoon.html\">Craters of the Moon National Monument,</a>,\n",
       " <a href=\"idaho.html\">Idaho</a>,\n",
       " <a href=\"crockett.html\"><img height=\"79\" src=\"place_images/crockettthumb.jpg\" width=\"120\"/></a>,\n",
       " <a href=\"crockett.html\">Crockett</a>,\n",
       " <a href=\"california.html\">California</a>,\n",
       " <a href=\"custer.html\"><img height=\"120\" src=\"added2014/custerthumb.jpg\" width=\"80\"/></a>,\n",
       " <a href=\"custer.html\">Custer</a>,\n",
       " <a href=\"idaho.html\">Idaho</a>,\n",
       " <a href=\"danville.html\"><img height=\"120\" src=\"others/danvillethumb.jpg\" width=\"80\"/></a>,\n",
       " <a href=\"danville.html\">Danville,</a>,\n",
       " <a href=\"virginia.html\">Virginia</a>,\n",
       " <a href=\"darwin.html\"><img height=\"79\" src=\"2014/darwinthumb.jpg\" width=\"120\"/></a>,\n",
       " <a href=\"darwin.html\">Darwin,</a>,\n",
       " <a href=\"california.html\">California</a>,\n",
       " <a href=\"deadhorsepoint.html\"><img height=\"80\" src=\"place_images2013trip2/deadhorsethumb.jpg\" width=\"120\"/></a>,\n",
       " <a href=\"deadhorsepoint.html\">Dead Horse Point State Park</a>,\n",
       " <a href=\"utah.html\">Utah</a>,\n",
       " <a href=\"deathvalley.html\"><img height=\"79\" src=\"place_images2014/deathvalleythumb.jpg\" width=\"120\"/></a>,\n",
       " <a href=\"deathvalley.html\">Death Valley National Park,</a>,\n",
       " <a href=\"california.html\">California</a>,\n",
       " <a href=\"2017/dee.html\"><img height=\"79\" src=\"2017/photos/deethumb.jpg\" width=\"120\"/></a>,\n",
       " <a href=\"2017/dee.html\">Dee</a>,\n",
       " <a href=\"oregon.html\">Oregon</a>,\n",
       " <a href=\"desertcenter.html\"><img height=\"79\" src=\"place_images7/desertcenterthumb.jpg\" width=\"120\"/></a>,\n",
       " <a href=\"desertcenter.html\">Desert Center</a>,\n",
       " <a href=\"california.html\">California</a>,\n",
       " <a href=\"destin.html\"><img height=\"79\" src=\"place_images/destinthumb.jpg\" width=\"120\"/></a>,\n",
       " <a href=\"destin.html\">Destin</a>,\n",
       " <a href=\"florida.html\">Florida</a>,\n",
       " <a href=\"detroit.html\"><img height=\"90\" src=\"place_images2/detroit1thumb.jpg\" width=\"120\"/></a>,\n",
       " <a href=\"detroit.html\">Detroit</a>,\n",
       " <a href=\"mi.html\">Michigan</a>,\n",
       " <a href=\"/detroitHeidelberg.html\"><img height=\"80\" src=\"place_images2/detroitthumb.jpg\" width=\"120\"/></a>,\n",
       " <a href=\"/detroitHeidelberg.html\">The Heidelberg Project, Detroit</a>,\n",
       " <a href=\"mi.html\">Michigan</a>,\n",
       " <a href=\"/2017/detroitFortWayne.html\"><img height=\"80\" src=\"/2017/photos/detroitFortWaynethumb.jpg\" width=\"120\"/></a>,\n",
       " <a href=\"/2017/detroitFortWayne.html\">Historic Fort Wayne, Detroit</a>,\n",
       " <a href=\"mi.html\">Michigan</a>,\n",
       " <a href=\"/2017/detroitPackardCentral.html\"><img height=\"80\" src=\"/2017/photos/detroitCentralstationthumb.jpg\" width=\"120\"/></a>,\n",
       " <a href=\"/2017/detroitPackardCentral.html\">Packard Plant and Michigan Central Station, Detroit</a>,\n",
       " <a href=\"mi.html\">Michigan</a>,\n",
       " <a href=\"diablocanyon.html\"><img height=\"79\" src=\"place_images/diablocanyonthumb.jpg\" width=\"120\"/></a>,\n",
       " <a href=\"diablocanyon.html\">Diablo Canyon Nuclear Power Plant,</a>,\n",
       " <a href=\"california.html\">California</a>,\n",
       " <a href=\"dixonsprings.html\"><img height=\"79\" src=\"place_images2013trip2/dixonspringsthumb.jpg\" width=\"120\"/></a>,\n",
       " <a href=\"dixonsprings.html\">Dixon Springs,</a>,\n",
       " <a href=\"illinois.html\">Illinois</a>,\n",
       " <a href=\"donner.html\"><img height=\"120\" src=\"added2014/donnerthumb.jpg\" width=\"80\"/></a>,\n",
       " <a href=\"donner.html\">Donner Party Memorial,</a>,\n",
       " <a href=\"california.html\">California</a>,\n",
       " <a href=\"duluth.html\"><img height=\"79\" src=\"place_images_updated/duluththumb.jpg\" width=\"120\"/></a>,\n",
       " <a href=\"duluth.html\">Duluth</a>,\n",
       " <a href=\"mn.html\">Minnesota</a>,\n",
       " <a href=\"duquesne.html\"><img height=\"80\" src=\"place_images_updated/duquesnethumb.jpg\" width=\"120\"/></a>,\n",
       " <a href=\"duquesne.html\">Duquesne</a>,\n",
       " <a href=\"penn.html\">Pennsylvania</a>,\n",
       " <a href=\"eaglemt.html\"><img height=\"79\" src=\"place_images7/eaglemtthumb.jpg\" width=\"120\"/></a>,\n",
       " <a href=\"eaglemt.html\">Eagle Mountain</a>,\n",
       " <a href=\"california.html\">California</a>,\n",
       " <a href=\"eaststl.html\"><img height=\"79\" src=\"place_images2013trip/eaststlthumb.jpg\" width=\"120\"/></a>,\n",
       " <a href=\"eaststl.html\">East Saint Louis</a>,\n",
       " <a href=\"illinois.html\">Illinois</a>,\n",
       " <a href=\"ebr1.html\"><img height=\"80\" src=\"added2014/EBR1thumb.jpg\" width=\"120\"/></a>,\n",
       " <a href=\"ebr1.html\">Experimental Breeder Reactor 1,</a>,\n",
       " <a href=\"idaho.html\">Idaho</a>,\n",
       " <a href=\"eden.html\"><img height=\"120\" src=\"place_images/edenthumb.jpg\" width=\"88\"/></a>,\n",
       " <a href=\"eden.html\">Eden</a>,\n",
       " <a href=\"nc.html\">North Carolina</a>,\n",
       " <a href=\"edenton.html\"><img height=\"80\" src=\"place_images_updated/edentonthumb.jpg\" width=\"120\"/></a>,\n",
       " <a href=\"edenton.html\">Edenton</a>,\n",
       " <a href=\"nc.html\">North Carolina</a>,\n",
       " <a href=\"elcentro.html\"><img height=\"79\" src=\"place_images7/elcentrothumb.jpg\" width=\"120\"/></a>,\n",
       " <a href=\"elcentro.html\">El Centro</a>,\n",
       " <a href=\"california.html\">California</a>,\n",
       " <a href=\"elkgrove.html\"><img height=\"81\" src=\"place_images6/elkgrovethumb.jpg\" width=\"120\"/></a>,\n",
       " <a href=\"elkgrove.html\">Elk Grove Promenade</a>,\n",
       " <a href=\"california.html\">California</a>,\n",
       " <a href=\"elkhorn.html\"><img height=\"80\" src=\"added2014/elkhornthumb.jpg\" width=\"120\"/></a>,\n",
       " <a href=\"elkhorn.html\">Elkhorn</a>,\n",
       " <a href=\"montana.html\">Montana</a>,\n",
       " <a href=\"ely.html\"><img height=\"80\" src=\"place_images2013trip2/elythumb.jpg\" width=\"120\"/></a>,\n",
       " <a href=\"ely.html\">Ely</a>,\n",
       " <a href=\"nevada.html\">Nevada</a>,\n",
       " <a href=\"2017/empireMine.html\"><img height=\"80\" src=\"2017/photos/empireminethumb.jpg\" width=\"120\"/></a>,\n",
       " <a href=\"2017/empireMine.html\">Empire Mine State Historic Park</a>,\n",
       " <a href=\"california.html\">California</a>,\n",
       " <a href=\"endor.html\"><img height=\"120\" src=\"place_images2/endorthumb.jpg\" width=\"86\"/></a>,\n",
       " <a href=\"endor.html\">Endor Iron Furnace</a>,\n",
       " <a href=\"nc.html\">North Carolina</a>,\n",
       " <a href=\"ensley.html\"><img height=\"80\" src=\"scans/ensleythumb.jpg\" width=\"120\"/></a>,\n",
       " <a href=\"ensley.html\">Ensley,</a>,\n",
       " <a href=\"alabama.html\">Alabama</a>,\n",
       " <a href=\"eureka.html\"><img height=\"81\" src=\"place_images2013trip2/eurekathumb.jpg\" width=\"120\"/></a>,\n",
       " <a href=\"eureka.html\">Eureka</a>,\n",
       " <a href=\"nevada.html\">Nevada</a>,\n",
       " <a href=\"allf_n.html\">All Entries F to N</a>,\n",
       " <a class=\"__cf_email__\" data-cfemail=\"bad2dfded6cfd4d9d2fac3dbd2d5d594d9d5d7\" href=\"/cdn-cgi/l/email-protection\">[email protected]</a>]"
      ]
     },
     "execution_count": 133,
     "metadata": {},
     "output_type": "execute_result"
    }
   ],
   "source": [
    "saved_a"
   ]
  },
  {
   "cell_type": "code",
   "execution_count": 130,
   "metadata": {},
   "outputs": [],
   "source": [
    "saved_a = x.find_all('a')"
   ]
  },
  {
   "cell_type": "code",
   "execution_count": 136,
   "metadata": {},
   "outputs": [],
   "source": [
    "links_list = []\n",
    "\n",
    "for line in saved_a:\n",
    "    i = str(line).find('\">')\n",
    "    links_list.append(str(line)[9:i])"
   ]
  },
  {
   "cell_type": "code",
   "execution_count": 137,
   "metadata": {},
   "outputs": [
    {
     "data": {
      "text/plain": [
       "['aberdeen.html',\n",
       " 'aberdeen.html',\n",
       " 'washington.html',\n",
       " 'aberdeen.html',\n",
       " 'abo.html',\n",
       " 'abo.html',\n",
       " 'nm.html',\n",
       " 'place_images_updated',\n",
       " 'acadia.html',\n",
       " 'acadia.html',\n",
       " 'me.html',\n",
       " 'ahmeekstmill.html',\n",
       " 'ahmeekstmill.html',\n",
       " 'mi.html',\n",
       " 'ahoskie.html',\n",
       " 'ahoskie.html',\n",
       " 'nc.html',\n",
       " 'alabamahills.html',\n",
       " 'alabamahills.html',\n",
       " 'california.html',\n",
       " 'albemarle.html',\n",
       " 'albemarle.html',\n",
       " 'nc.html',\n",
       " 'alder.html',\n",
       " 'alder.html',\n",
       " 'montana.html',\n",
       " 'alton.html',\n",
       " 'alton.html',\n",
       " 'illinois.html',\n",
       " 'amadorcity.html',\n",
       " 'amadorcity.html',\n",
       " 'california.html',\n",
       " 'amboy.html',\n",
       " 'amboy.html',\n",
       " 'california.html',\n",
       " 'ambridge.html',\n",
       " 'ambridge.html',\n",
       " 'angelscamp.html',\n",
       " 'angelscamp.html',\n",
       " 'california.html',\n",
       " '/2017/antwerp.html',\n",
       " '/2017/antwerp.html',\n",
       " 'ohio.html',\n",
       " 'arches.html',\n",
       " 'arches.html',\n",
       " 'utah.html',\n",
       " 'ashlandwisco.html',\n",
       " 'ashlandwisco.html',\n",
       " 'wisco.html',\n",
       " 'ashley.html',\n",
       " 'ashley.html',\n",
       " 'penn.html',\n",
       " 'ashtabula.html',\n",
       " 'ashtabula.html',\n",
       " 'ohio.html',\n",
       " 'atchison.html',\n",
       " 'atchison.html',\n",
       " 'ks.html',\n",
       " 'athens.html',\n",
       " 'athens.html',\n",
       " 'ohio.html',\n",
       " 'athol.html',\n",
       " 'athol.html',\n",
       " 'ma.html',\n",
       " 'atlanta.html',\n",
       " 'atlanta.html',\n",
       " 'georgia.html',\n",
       " 'austin.html',\n",
       " 'austin.html',\n",
       " 'nevada.html',\n",
       " 'badin.html',\n",
       " 'badin.html',\n",
       " 'nc.html',\n",
       " 'ballarat.html',\n",
       " 'ballarat.html',\n",
       " 'california.html',\n",
       " 'bannack.html',\n",
       " 'bannack.html',\n",
       " 'montana.html',\n",
       " '/2017/bartonville.html',\n",
       " '/2017/bartonville.html',\n",
       " 'illinois.html',\n",
       " 'basin.html',\n",
       " 'basin.html',\n",
       " 'montana.html',\n",
       " 'bayhorse.html',\n",
       " 'bayhorse.html',\n",
       " 'idaho.html',\n",
       " '/2017/belding.html',\n",
       " '/2017/belding.html',\n",
       " 'mi.html',\n",
       " 'bellaire.html',\n",
       " 'bellaire.html',\n",
       " 'ohio.html',\n",
       " 'bellemont.html',\n",
       " 'bellemont.html',\n",
       " 'nc.html',\n",
       " 'bennington.html',\n",
       " 'bennington.html',\n",
       " 'vt.html',\n",
       " 'bethlehem.html',\n",
       " 'bethlehem.html',\n",
       " 'penn.html',\n",
       " 'biddeford.html',\n",
       " 'biddeford.html',\n",
       " 'me.html',\n",
       " 'bodie.html',\n",
       " 'bodie.html',\n",
       " 'california.html',\n",
       " 'boggsville.html',\n",
       " 'boggsville.html',\n",
       " 'co.html',\n",
       " 'bombaybeach.html',\n",
       " 'bombaybeach.html',\n",
       " 'california.html',\n",
       " 'bonanza.html',\n",
       " 'bonanza.html',\n",
       " 'idaho.html',\n",
       " 'bonneterre.html',\n",
       " 'bonneterre.html',\n",
       " 'mo.html',\n",
       " 'boronairstn.html',\n",
       " 'boronairstn.html',\n",
       " 'california.html',\n",
       " 'braddock.html',\n",
       " 'braddock.html',\n",
       " 'penn.html',\n",
       " 'brownsville.html',\n",
       " 'brownsville.html',\n",
       " 'penn.html',\n",
       " 'buffalo.html',\n",
       " 'buffalo.html',\n",
       " 'ny.html',\n",
       " 'buffaloterminal.html',\n",
       " 'buffaloterminal.html',\n",
       " 'ny.html',\n",
       " 'buffalosilos.html',\n",
       " 'buffalosilos.html',\n",
       " 'ny.html',\n",
       " 'burke.html',\n",
       " 'burke.html',\n",
       " 'idaho.html',\n",
       " 'burlington.html',\n",
       " 'burlington.html',\n",
       " 'nc.html',\n",
       " '/2017/butte.html',\n",
       " '/2017/butte.html',\n",
       " 'montana.html',\n",
       " '/2017/buttemines.html',\n",
       " '/2017/buttemines.html',\n",
       " 'montana.html',\n",
       " 'bynum.html',\n",
       " 'bynum.html',\n",
       " 'nc.html',\n",
       " 'cahokia.html',\n",
       " 'cahokia.html',\n",
       " 'illinois.html',\n",
       " 'cairo.html',\n",
       " 'cairo.html',\n",
       " 'illinois.html',\n",
       " 'calcity.html',\n",
       " 'calcity.html',\n",
       " 'california.html',\n",
       " 'calumetmi.html',\n",
       " 'calumetmi.html',\n",
       " 'mi.html',\n",
       " 'camdenhills.html',\n",
       " 'camdenhills.html',\n",
       " 'me.html',\n",
       " 'campbell.html',\n",
       " 'campbell.html',\n",
       " 'ohio.html',\n",
       " 'cannelton.html',\n",
       " 'cannelton.html',\n",
       " 'indiana.html',\n",
       " 'canyondechelly.html',\n",
       " 'canyondechelly.html',\n",
       " 'arizona.html',\n",
       " 'canyonlands.html',\n",
       " 'canyonlands.html',\n",
       " 'utah.html',\n",
       " '2017/carolinamill.html',\n",
       " '2017/carolinamill.html',\n",
       " 'nc.html',\n",
       " '/2017/carpentersville.html',\n",
       " '/2017/carpentersville.html',\n",
       " 'illinois.html',\n",
       " 'carrizo.html',\n",
       " 'carrizo.html',\n",
       " 'california.html',\n",
       " 'cartago.html',\n",
       " 'cartago.html',\n",
       " 'california.html',\n",
       " '2017/cedarfalls.html',\n",
       " '2017/cedarfalls.html',\n",
       " 'nc.html',\n",
       " 'chaco.html',\n",
       " 'chaco.html',\n",
       " 'nm.html',\n",
       " 'chester.html',\n",
       " 'chester.html',\n",
       " 'penn.html',\n",
       " 'chernobyl.html',\n",
       " 'chernobyl.html',\n",
       " 'international.html',\n",
       " '2017/chicago.html',\n",
       " '2017/chicago.html',\n",
       " 'illinois.html',\n",
       " 'oldchicago.html',\n",
       " 'oldchicago.html',\n",
       " 'illinois.html',\n",
       " '/2018/chico.html',\n",
       " '/2018/chico.html',\n",
       " 'california.html',\n",
       " 'chicopee.html',\n",
       " 'chicopee.html',\n",
       " 'ma.html',\n",
       " 'chinesecamp.html',\n",
       " 'chinesecamp.html',\n",
       " 'california.html',\n",
       " '/2017/cicero.html',\n",
       " '/2017/cicero.html',\n",
       " 'illinois.html',\n",
       " 'cincinnati.html',\n",
       " 'cincinnati.html',\n",
       " 'ohio.html',\n",
       " 'clifty.html',\n",
       " 'clifty.html',\n",
       " 'indiana.html',\n",
       " '/2017/clarksburg.html',\n",
       " '/2017/clarksburg.html',\n",
       " 'california.html',\n",
       " 'colonie.html',\n",
       " 'colonie.html',\n",
       " 'ny.html',\n",
       " 'columbia.html',\n",
       " 'columbia.html',\n",
       " 'california.html',\n",
       " 'colusa.html',\n",
       " 'colusa.html',\n",
       " 'california.html',\n",
       " 'comet.html',\n",
       " 'comet.html',\n",
       " 'montana.html',\n",
       " 'confluencetower.html',\n",
       " 'confluencetower.html',\n",
       " 'illinois.html',\n",
       " 'coolidge.html',\n",
       " 'coolidge.html',\n",
       " 'ks.html',\n",
       " 'coplay.html',\n",
       " 'coplay.html',\n",
       " 'penn.html',\n",
       " 'copperharbor.html',\n",
       " 'copperharbor.html',\n",
       " 'mi.html',\n",
       " 'coulterville.html',\n",
       " 'coulterville.html',\n",
       " 'california.html',\n",
       " 'cratersofthemoon.html',\n",
       " 'cratersofthemoon.html',\n",
       " 'idaho.html',\n",
       " 'crockett.html',\n",
       " 'crockett.html',\n",
       " 'california.html',\n",
       " 'custer.html',\n",
       " 'custer.html',\n",
       " 'idaho.html',\n",
       " 'danville.html',\n",
       " 'danville.html',\n",
       " 'virginia.html',\n",
       " 'darwin.html',\n",
       " 'darwin.html',\n",
       " 'california.html',\n",
       " 'deadhorsepoint.html',\n",
       " 'deadhorsepoint.html',\n",
       " 'utah.html',\n",
       " 'deathvalley.html',\n",
       " 'deathvalley.html',\n",
       " 'california.html',\n",
       " '2017/dee.html',\n",
       " '2017/dee.html',\n",
       " 'oregon.html',\n",
       " 'desertcenter.html',\n",
       " 'desertcenter.html',\n",
       " 'california.html',\n",
       " 'destin.html',\n",
       " 'destin.html',\n",
       " 'florida.html',\n",
       " 'detroit.html',\n",
       " 'detroit.html',\n",
       " 'mi.html',\n",
       " '/detroitHeidelberg.html',\n",
       " '/detroitHeidelberg.html',\n",
       " 'mi.html',\n",
       " '/2017/detroitFortWayne.html',\n",
       " '/2017/detroitFortWayne.html',\n",
       " 'mi.html',\n",
       " '/2017/detroitPackardCentral.html',\n",
       " '/2017/detroitPackardCentral.html',\n",
       " 'mi.html',\n",
       " 'diablocanyon.html',\n",
       " 'diablocanyon.html',\n",
       " 'california.html',\n",
       " 'dixonsprings.html',\n",
       " 'dixonsprings.html',\n",
       " 'illinois.html',\n",
       " 'donner.html',\n",
       " 'donner.html',\n",
       " 'california.html',\n",
       " 'duluth.html',\n",
       " 'duluth.html',\n",
       " 'mn.html',\n",
       " 'duquesne.html',\n",
       " 'duquesne.html',\n",
       " 'penn.html',\n",
       " 'eaglemt.html',\n",
       " 'eaglemt.html',\n",
       " 'california.html',\n",
       " 'eaststl.html',\n",
       " 'eaststl.html',\n",
       " 'illinois.html',\n",
       " 'ebr1.html',\n",
       " 'ebr1.html',\n",
       " 'idaho.html',\n",
       " 'eden.html',\n",
       " 'eden.html',\n",
       " 'nc.html',\n",
       " 'edenton.html',\n",
       " 'edenton.html',\n",
       " 'nc.html',\n",
       " 'elcentro.html',\n",
       " 'elcentro.html',\n",
       " 'california.html',\n",
       " 'elkgrove.html',\n",
       " 'elkgrove.html',\n",
       " 'california.html',\n",
       " 'elkhorn.html',\n",
       " 'elkhorn.html',\n",
       " 'montana.html',\n",
       " 'ely.html',\n",
       " 'ely.html',\n",
       " 'nevada.html',\n",
       " '2017/empireMine.html',\n",
       " '2017/empireMine.html',\n",
       " 'california.html',\n",
       " 'endor.html',\n",
       " 'endor.html',\n",
       " 'nc.html',\n",
       " 'ensley.html',\n",
       " 'ensley.html',\n",
       " 'alabama.html',\n",
       " 'eureka.html',\n",
       " 'eureka.html',\n",
       " 'nevada.html',\n",
       " 'allf_n.html',\n",
       " '\"__cf_email__\" data-cfemail=\"bad2dfded6cfd4d9d2fac3dbd2d5d594d9d5d7\" href=\"/cdn-cgi/l/email-protection']"
      ]
     },
     "execution_count": 137,
     "metadata": {},
     "output_type": "execute_result"
    }
   ],
   "source": [
    "links_list"
   ]
  },
  {
   "cell_type": "code",
   "execution_count": null,
   "metadata": {},
   "outputs": [],
   "source": []
  }
 ],
 "metadata": {
  "kernelspec": {
   "display_name": "PythonData",
   "language": "python",
   "name": "pythondata"
  },
  "language_info": {
   "codemirror_mode": {
    "name": "ipython",
    "version": 3
   },
   "file_extension": ".py",
   "mimetype": "text/x-python",
   "name": "python",
   "nbconvert_exporter": "python",
   "pygments_lexer": "ipython3",
   "version": "3.7.9"
  }
 },
 "nbformat": 4,
 "nbformat_minor": 4
}
