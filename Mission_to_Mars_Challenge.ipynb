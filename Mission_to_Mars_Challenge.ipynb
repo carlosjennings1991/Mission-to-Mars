{
 "cells": [
  {
   "cell_type": "code",
   "execution_count": 1,
   "metadata": {},
   "outputs": [],
   "source": [
    "# Import Splinter and BeautifulSoup\n",
    "from splinter import Browser\n",
    "from bs4 import BeautifulSoup as soup\n",
    "import pandas as pd"
   ]
  },
  {
   "cell_type": "code",
   "execution_count": 2,
   "metadata": {},
   "outputs": [],
   "source": [
    "# Mac users\n",
    "#executable_path = {'executable_path': '/Users/Admin/Downloads/chromedriver'}\n",
    "executable_path = {'executable_path': 'chromedriver'}\n",
    "browser = Browser('chrome', **executable_path, headless=False)"
   ]
  },
  {
   "cell_type": "code",
   "execution_count": 39,
   "metadata": {},
   "outputs": [
    {
     "data": {
      "text/plain": [
       "True"
      ]
     },
     "execution_count": 39,
     "metadata": {},
     "output_type": "execute_result"
    }
   ],
   "source": [
    "# Visit the mars nasa news site\n",
    "url = 'https://mars.nasa.gov/news/'\n",
    "browser.visit(url)\n",
    "# Optional delay for loading the page\n",
    "browser.is_element_present_by_css(\"ul.item_list li.slide\", wait_time=1)\n"
   ]
  },
  {
   "cell_type": "code",
   "execution_count": 4,
   "metadata": {},
   "outputs": [],
   "source": [
    "html = browser.html\n",
    "news_soup = soup(html, 'html.parser')\n",
    "slide_elem = news_soup.select_one('ul.item_list li.slide')"
   ]
  },
  {
   "cell_type": "code",
   "execution_count": 5,
   "metadata": {},
   "outputs": [
    {
     "data": {
      "text/plain": [
       "<div class=\"content_title\"><a href=\"/news/8859/sensors-prepare-to-collect-data-as-perseverance-enters-mars-atmosphere/\" target=\"_self\">Sensors Prepare to Collect Data as Perseverance Enters Mars' Atmosphere</a></div>"
      ]
     },
     "execution_count": 5,
     "metadata": {},
     "output_type": "execute_result"
    }
   ],
   "source": [
    "slide_elem.find(\"div\", class_='content_title')"
   ]
  },
  {
   "cell_type": "code",
   "execution_count": 6,
   "metadata": {},
   "outputs": [
    {
     "data": {
      "text/plain": [
       "\"\\n\\n\\n\\n\\n\\n\\n\\n\\n\\n\\n\\n\\n\\n\\nNews  – NASA’s Mars Exploration Program \\n\\n\\n\\n\\n\\n\\n\\n\\n\\n\\n\\n\\n\\n\\n\\n\\n\\n\\n\\n\\n\\n\\n\\n\\n\\n\\n\\n\\n\\n\\n\\n\\n\\n\\n\\n\\n\\n\\n\\n\\n\\n\\n\\n\\n\\n\\n\\n\\n\\n\\n\\n\\n\\n\\n\\n\\n\\n\\n\\n\\n\\n\\n\\n\\n\\n\\n\\n\\n\\n\\n\\nNASA\\n\\n\\nNASA Science\\nMars Exploration Program\\n\\n\\n\\nSkip Navigation\\n\\n\\n\\nmenu\\n\\n\\n\\n\\n\\n\\n\\nMars NowMars NowView the current location and spacecraft communications activity of operating landers, rovers and orbiters using the NASA’s Mars Relay Network.GOMars NowView a 3D visualization of all the missions exploring the Red PlanetThe Red PlanetDashboardScience GoalsThe PlanetAtmosphereAstrobiologyPast, Present, Future, TimelineDashboardScience GoalsThe PlanetAtmosphereAstrobiologyPast, Present, Future, TimelineThe ProgramMission StatementAbout the ProgramOrganizationWhy Mars?Research ProgramsPlanetary ResourcesTechnologiesMission StatementAbout the ProgramOrganizationWhy Mars?Research ProgramsPlanetary ResourcesTechnologiesNews & EventsNewsEventsNewsEventsMultimediaImagesVideosAudioMore ResourcesImagesVideosAudioMore ResourcesMissionsPastPresentFutureInternational PartnersPastPresentFutureInternational PartnersActive & Future MissionsA mission to investigate key questions about potential life on Mars. Mars 2020 Perseverance RoverThe largest and most capable rover ever sent to Mars.Curiosity RoverA mission to study the deep interior of Mars. InSight LanderMeasures Mars' atmosphere to understand its climate change.MAVENTakes high-resolution imagery of Martian terrain with extraordinary clarity. Mars Reconnaissance OrbiterNASA's longest-lasting spacecraft at Mars. 2001 Mars OdysseyAll MissionsInternational PartnersMore\\n\\n\\n\\n\\n\\n\\n\\n\\n\\n\\n\\n\\n\\n\\n\\n\\n\\nNewsLatest2021202020192018201720162015201420132012201120102009200820072006200520042003200220012000All CategoriesFeature StoriesPress ReleasesSpotlightsStatus ReportsTechnology will collect critical data about the harsh entry environment during Perseverance’s entry next Thursday.Sensors Prepare to Collect Data as Perseverance Enters Mars' AtmosphereFebruary 12, 2021Sensors Prepare to Collect Data as Perseverance Enters Mars' AtmosphereTechnology will collect critical data about the harsh entry environment during Perseverance’s entry next Thursday.As dust collects on the solar panels and winter comes to Elysium Planitia, the team is following a plan to reduce science operations in order to keep the lander safe.InSight Is Meeting the Challenge of Winter on Dusty MarsFebruary 12, 2021InSight Is Meeting the Challenge of Winter on Dusty MarsAs dust collects on the solar panels and winter comes to Elysium Planitia, the team is following a plan to reduce science operations in order to keep the lander safe.Mark your calendars for live landing commentary, news briefings, livestreamed Q&As, virtual watch parties, student activities, and more.NASA Invites Public to Share Thrill of Mars Perseverance Rover LandingFebruary 12, 2021NASA Invites Public to Share Thrill of Mars Perseverance Rover LandingMark your calendars for live landing commentary, news briefings, livestreamed Q&As, virtual watch parties, student activities, and more.How two new technologies will help Perseverance, NASA’s most sophisticated rover yet, touch down onto the surface of Mars this month.Tricky Terrain: Helping to Assure a Safe Rover LandingFebruary  8, 2021Tricky Terrain: Helping to Assure a Safe Rover LandingHow two new technologies will help Perseverance, NASA’s most sophisticated rover yet, touch down onto the surface of Mars this month.A new NASA paper provides the most detailed map to date of near-surface water ice on the Red Planet.Where Should Future Astronauts Land on Mars? Follow the WaterFebruary  8, 2021Where Should Future Astronauts Land on Mars? Follow the WaterA new NASA paper provides the most detailed map to date of near-surface water ice on the Red Planet.Even as the Perseverance rover approaches Mars, technology on board is paying off on Earth.NASA's Perseverance Pays Off Back HomeFebruary  2, 2021NASA's Perseverance Pays Off Back HomeEven as the Perseverance rover approaches Mars, technology on board is paying off on Earth.The Martian moon Phobos orbits through a stream of charged atoms and molecules that flow off the Red Planet’s atmosphere, new research shows.Could the Surface of Phobos Reveal Secrets of the Martian Past?February  1, 2021Could the Surface of Phobos Reveal Secrets of the Martian Past?The Martian moon Phobos orbits through a stream of charged atoms and molecules that flow off the Red Planet’s atmosphere, new research shows.With a suite of new national and international spacecraft primed to explore the Red Planet after their arrival next month, NASA’s MAVEN mission is ready to provide support and continue its study of the Martian atmosphere.NASA's MAVEN Continues to Advance Mars Science and Telecommunications Relay EffortsJanuary 28, 2021NASA's MAVEN Continues to Advance Mars Science and Telecommunications Relay EffortsWith a suite of new national and international spacecraft primed to explore the Red Planet after their arrival next month, NASA’s MAVEN mission is ready to provide support and continue its study of the Martian atmosphere.Seven minutes of harrowing descent to the Red Planet is in the not-so-distant future for the agency’s Mars 2020 mission.  NASA's Perseverance Rover 22 Days From Mars LandingJanuary 27, 2021NASA's Perseverance Rover 22 Days From Mars LandingSeven minutes of harrowing descent to the Red Planet is in the not-so-distant future for the agency’s Mars 2020 mission.  Ingenuity, a technology experiment, is preparing to attempt the first powered, controlled flight on the Red Planet.6 Things to Know About NASA's Mars Helicopter on Its Way to MarsJanuary 21, 20216 Things to Know About NASA's Mars Helicopter on Its Way to MarsIngenuity, a technology experiment, is preparing to attempt the first powered, controlled flight on the Red Planet.NASA leadership and members of the mission will discuss the agency’s latest rover, which touches down on the Red Planet on Feb. 18.NASA to Host Virtual Briefing on February Perseverance Mars Rover LandingJanuary 15, 2021NASA to Host Virtual Briefing on February Perseverance Mars Rover LandingNASA leadership and members of the mission will discuss the agency’s latest rover, which touches down on the Red Planet on Feb. 18.The heat probe hasn’t been able to gain the friction it needs to dig, but the mission has been granted an extension to carry on with its other science.NASA InSight's ‘Mole' Ends Its Journey on MarsJanuary 14, 2021NASA InSight's ‘Mole' Ends Its Journey on MarsThe heat probe hasn’t been able to gain the friction it needs to dig, but the mission has been granted an extension to carry on with its other science.Audio gathered by the mission may not sound quite the same on Mars as it would to our ears on Earth. A new interactive online experience lets you sample the difference.Mars 2020 Perseverance Rover to Capture Sounds From the Red PlanetJanuary 13, 2021Mars 2020 Perseverance Rover to Capture Sounds From the Red PlanetAudio gathered by the mission may not sound quite the same on Mars as it would to our ears on Earth. A new interactive online experience lets you sample the difference.As the rover has continued to ascend Mount Sharp, it’s found distinctive benchlike rock formations.NASA's Curiosity Rover Reaches Its 3,000th Day on MarsJanuary 12, 2021NASA's Curiosity Rover Reaches Its 3,000th Day on MarsAs the rover has continued to ascend Mount Sharp, it’s found distinctive benchlike rock formations.The rover touches down on the Red Planet next month, and students are invited to join the excitement by designing, building, and landing their own Mars mission. NASA can help.Celebrate the Perseverance Rover Landing With NASA's Student ChallengeJanuary  8, 2021Celebrate the Perseverance Rover Landing With NASA's Student ChallengeThe rover touches down on the Red Planet next month, and students are invited to join the excitement by designing, building, and landing their own Mars mission. NASA can help.The missions – Juno and InSight – have each increased our understanding of our solar system, as well as spurred new sets of diverse questions.NASA Extends Exploration for Two Planetary Science MissionsJanuary  8, 2021NASA Extends Exploration for Two Planetary Science MissionsThe missions – Juno and InSight – have each increased our understanding of our solar system, as well as spurred new sets of diverse questions.The Mars 2020 Perseverance rover, which has started its approach to the Red Planet, will help answer the next logical question in Mars exploration.7 Things to Know About the NASA Rover About to Land on MarsJanuary  6, 20217 Things to Know About the NASA Rover About to Land on MarsThe Mars 2020 Perseverance rover, which has started its approach to the Red Planet, will help answer the next logical question in Mars exploration.Marvels of engineering, the rover's sample tubes must be tough enough to safely bring Red Planet samples on the long journey back to Earth in immaculate condition. A Martian Roundtrip: NASA's Perseverance Rover Sample TubesDecember 22, 2020A Martian Roundtrip: NASA's Perseverance Rover Sample TubesMarvels of engineering, the rover's sample tubes must be tough enough to safely bring Red Planet samples on the long journey back to Earth in immaculate condition. During this next phase, the program will mature critical technologies and make critical design decisions as well as assess industry partnerships.NASA Moves Forward With Campaign to Return Mars Samples to EarthDecember 17, 2020NASA Moves Forward With Campaign to Return Mars Samples to EarthDuring this next phase, the program will mature critical technologies and make critical design decisions as well as assess industry partnerships.Scientists are finding new mysteries since the geophysics mission landed two years ago.3 Things We've Learned From NASA's Mars InSight December 16, 20203 Things We've Learned From NASA's Mars InSight Scientists are finding new mysteries since the geophysics mission landed two years ago.Bill Allen has thrived as the mechanical systems design lead for three Mars rover missions, but he got his start as a teenager sorting letters for the NASA center.From JPL's Mailroom to Mars and BeyondDecember 14, 2020From JPL's Mailroom to Mars and BeyondBill Allen has thrived as the mechanical systems design lead for three Mars rover missions, but he got his start as a teenager sorting letters for the NASA center.The symbols, mottos, and small objects added to the agency's newest Mars rover serve a variety of purposes, from functional to decorative.5 Hidden Gems Are Riding Aboard NASA's Perseverance RoverDecember  8, 20205 Hidden Gems Are Riding Aboard NASA's Perseverance RoverThe symbols, mottos, and small objects added to the agency's newest Mars rover serve a variety of purposes, from functional to decorative.NASA's Perseverance rover carries a device to convert Martian air into oxygen that, if produced on a larger scale, could be used not just for breathing, but also for fuel.MOXIE Could Help Future Rockets Launch Off MarsNovember 24, 2020MOXIE Could Help Future Rockets Launch Off MarsNASA's Perseverance rover carries a device to convert Martian air into oxygen that, if produced on a larger scale, could be used not just for breathing, but also for fuel.The first to be rigged with microphones, the agency's latest Mars rover picked up the subtle sounds of its own inner workings during interplanetary flight.Hear Audio From NASA's Perseverance As It Travels Through Deep SpaceNovember 18, 2020Hear Audio From NASA's Perseverance As It Travels Through Deep SpaceThe first to be rigged with microphones, the agency's latest Mars rover picked up the subtle sounds of its own inner workings during interplanetary flight.Sensors on NASA's Perseverance will help prepare for future human exploration by taking weather measurements and studying dust particles.Mars Is Getting a New Robotic MeteorologistNovember 13, 2020Mars Is Getting a New Robotic MeteorologistSensors on NASA's Perseverance will help prepare for future human exploration by taking weather measurements and studying dust particles.Scientists using an instrument aboard NASA’s Mars Atmosphere and Volatile EvolutioN, or MAVEN, spacecraft have discovered that water vapor near the surface of the Red Planet is lofted higher into the atmosphere than anyone expected was possible. Heat and Dust Help Launch Martian Water Into Space, Scientists FindNovember 13, 2020Heat and Dust Help Launch Martian Water Into Space, Scientists FindScientists using an instrument aboard NASA’s Mars Atmosphere and Volatile EvolutioN, or MAVEN, spacecraft have discovered that water vapor near the surface of the Red Planet is lofted higher into the atmosphere than anyone expected was possible. The Mars rover has drilled three samples of rock in this clay-enriched region since arriving in July.NASA's Curiosity Takes Selfie With 'Mary Anning' on the Red PlanetNovember 12, 2020NASA's Curiosity Takes Selfie With 'Mary Anning' on the Red PlanetThe Mars rover has drilled three samples of rock in this clay-enriched region since arriving in July.NASA released an independent review report Tuesday indicating the agency is well positioned for its Mars Sample Return campaign to bring pristine samples from Mars to Earth for scientific study.Independent Review Indicates NASA Prepared for Mars Sample Return CampaignNovember 10, 2020Independent Review Indicates NASA Prepared for Mars Sample Return CampaignNASA released an independent review report Tuesday indicating the agency is well positioned for its Mars Sample Return campaign to bring pristine samples from Mars to Earth for scientific study.Mark your calendars: The agency's latest rover has only about 8,640,000 seconds to go before it touches down on the Red Planet, becoming history's next Mars car.NASA's Perseverance Rover 100 Days OutNovember 10, 2020NASA's Perseverance Rover 100 Days OutMark your calendars: The agency's latest rover has only about 8,640,000 seconds to go before it touches down on the Red Planet, becoming history's next Mars car.Sometimes half measures can be a good thing – especially on a journey this long. The agency's latest rover only has about 146 million miles left to reach its destination.NASA's Perseverance Rover Is Midway to Mars October 27, 2020NASA's Perseverance Rover Is Midway to Mars Sometimes half measures can be a good thing – especially on a journey this long. The agency's latest rover only has about 146 million miles left to reach its destination.Instruments tailored to collect data during the descent of NASA's next rover through the Red Planet's atmosphere have been checked in flight.Sensors on Mars 2020 Spacecraft Answer Long-Distance Call From EarthOctober 22, 2020Sensors on Mars 2020 Spacecraft Answer Long-Distance Call From EarthInstruments tailored to collect data during the descent of NASA's next rover through the Red Planet's atmosphere have been checked in flight.For hobbyists and makers, 3D printing expands creative possibilities; for specialized engineers, it's also key to next-generation spacecraft design.NASA's Perseverance Rover Bringing 3D-Printed Metal Parts to MarsOctober 19, 2020NASA's Perseverance Rover Bringing 3D-Printed Metal Parts to MarsFor hobbyists and makers, 3D printing expands creative possibilities; for specialized engineers, it's also key to next-generation spacecraft design.Now that the heat probe is just below the Martian surface, InSight's arm will scoop some additional soil on top to help it keep digging so it can take Mars' temperature.NASA InSight's 'Mole' Is Out of SightOctober 16, 2020NASA InSight's 'Mole' Is Out of SightNow that the heat probe is just below the Martian surface, InSight's arm will scoop some additional soil on top to help it keep digging so it can take Mars' temperature.The agency's newest rover will use the first ground-penetrating radar instrument on the Martian surface to help search for signs of past microbial life. NASA's Perseverance Rover Will Peer Beneath Mars' Surface October  8, 2020NASA's Perseverance Rover Will Peer Beneath Mars' Surface The agency's newest rover will use the first ground-penetrating radar instrument on the Martian surface to help search for signs of past microbial life. It's the first time machine learning has been used to find previously unknown craters on the Red Planet.AI Is Helping Scientists Discover Fresh Craters on MarsOctober  1, 2020AI Is Helping Scientists Discover Fresh Craters on MarsIt's the first time machine learning has been used to find previously unknown craters on the Red Planet.Perseverance is one of a few Mars spacecraft carrying laser retroreflectors. The devices could provide new science and safer Mars landings in the future.NASA's New Mars Rover Is Ready for Space LasersSeptember 28, 2020NASA's New Mars Rover Is Ready for Space LasersPerseverance is one of a few Mars spacecraft carrying laser retroreflectors. The devices could provide new science and safer Mars landings in the future.PIXL, an instrument on the end of the Perseverance rover's arm, will search for chemical fingerprints left by ancient microbes.NASA's New Mars Rover Will Use X-Rays to Hunt FossilsSeptember 22, 2020NASA's New Mars Rover Will Use X-Rays to Hunt FossilsPIXL, an instrument on the end of the Perseverance rover's arm, will search for chemical fingerprints left by ancient microbes.In honor of Hispanic Heritage Month, Christina Hernandez, an instrument engineer on the Mars 2020 mission, talks about her childhood and journey to NASA.My Culture, My VoiceSeptember 16, 2020My Culture, My VoiceIn honor of Hispanic Heritage Month, Christina Hernandez, an instrument engineer on the Mars 2020 mission, talks about her childhood and journey to NASA.Did you know NASA's next Mars rover has a nearly identical sibling on Earth for testing? Even better, it's about to roll for the first time through a replica Martian landscape.NASA Readies Perseverance Mars Rover's Earthly Twin September  4, 2020NASA Readies Perseverance Mars Rover's Earthly Twin Did you know NASA's next Mars rover has a nearly identical sibling on Earth for testing? Even better, it's about to roll for the first time through a replica Martian landscape.An electronics issue is suspected to be preventing the sensors from sharing their data about Mars weather with the spacecraft.NASA Engineers Checking InSight's Weather SensorsAugust 24, 2020NASA Engineers Checking InSight's Weather SensorsAn electronics issue is suspected to be preventing the sensors from sharing their data about Mars weather with the spacecraft.More\\n\\n\\n\\n\\n\\n\\nYou Might Also Like\\n\\n\\n\\n\\n\\n\\n\\n\\n\\nThe Red Planet's surface has been visited by eight NASA spacecraft. The ninth will be the first that includes a roundtrip ticket in its flight plan. \\n\\n\\n\\n\\n\\n\\n\\n\\n\\n\\nThe Launch Is Approaching for NASA's Next Mars Rover, Perseverance\\n\\n\\n\\n\\n\\n\\n\\nLearn more about the agency's next Red Planet mission during a live event on June 17.\\n\\n\\n\\n\\n\\n\\n\\n\\n\\n\\nNASA to Hold Mars 2020 Perseverance Rover Launch Briefing\\n\\n\\n\\n\\n\\n\\n\\nVaneeza Rupani's essay was chosen as the name for the small spacecraft, which will mark NASA's first attempt at powered flight on another planet.\\n\\n\\n\\n\\n\\n\\n\\n\\n\\n\\nAlabama High School Student Names NASA's Mars Helicopter\\n\\n\\n\\n\\n\\n\\n\\nNASA leadership and members of the mission will discuss the agency’s latest rover, which touches down on the Red Planet on Feb. 18.\\n\\n\\n\\n\\n\\n\\n\\n\\n\\n\\nNASA to Host Virtual Briefing on February Perseverance Mars Rover Landing\\n\\n\\n\\n\\n\\n\\n\\nThe heat probe hasn’t been able to gain the friction it needs to dig, but the mission has been granted an extension to carry on with its other science.\\n\\n\\n\\n\\n\\n\\n\\n\\n\\n\\nNASA InSight's ‘Mole' Ends Its Journey on Mars\\n\\n\\n\\n\\n\\n\\n\\nStarting July 27, news activities will cover everything from mission engineering and science to returning samples from Mars to, of course, the launch itself.\\n\\n\\n\\n\\n\\n\\n\\n\\n\\n\\nNASA to Broadcast Mars 2020 Perseverance Launch, Prelaunch Activities\\n\\n\\n\\n\\n\\n\\n\\nThe Red Planet's surface has been visited by eight NASA spacecraft. The ninth will be the first that includes a roundtrip ticket in its flight plan. \\n\\n\\n\\n\\n\\n\\n\\n\\n\\n\\nThe Launch Is Approaching for NASA's Next Mars Rover, Perseverance\\n\\n\\n\\n\\n\\n\\n\\nLearn more about the agency's next Red Planet mission during a live event on June 17.\\n\\n\\n\\n\\n\\n\\n\\n\\n\\n\\nNASA to Hold Mars 2020 Perseverance Rover Launch Briefing\\n\\n\\n\\n\\n\\n\\n\\nVaneeza Rupani's essay was chosen as the name for the small spacecraft, which will mark NASA's first attempt at powered flight on another planet.\\n\\n\\n\\n\\n\\n\\n\\n\\n\\n\\nAlabama High School Student Names NASA's Mars Helicopter\\n\\n\\n\\n\\n\\n\\n\\nNASA leadership and members of the mission will discuss the agency’s latest rover, which touches down on the Red Planet on Feb. 18.\\n\\n\\n\\n\\n\\n\\n\\n\\n\\n\\nNASA to Host Virtual Briefing on February Perseverance Mars Rover Landing\\n\\n\\n\\n\\n\\n\\n\\nThe heat probe hasn’t been able to gain the friction it needs to dig, but the mission has been granted an extension to carry on with its other science.\\n\\n\\n\\n\\n\\n\\n\\n\\n\\n\\nNASA InSight's ‘Mole' Ends Its Journey on Mars\\n\\n\\n\\n\\n\\n\\n\\nStarting July 27, news activities will cover everything from mission engineering and science to returning samples from Mars to, of course, the launch itself.\\n\\n\\n\\n\\n\\n\\n\\n\\n\\n\\nNASA to Broadcast Mars 2020 Perseverance Launch, Prelaunch Activities\\n\\n\\n\\n\\n\\nPreviousNext\\n\\n\\n\\n\\n\\n\\n\\n\\n\\n\\n\\n\\nGet the Mars Newsletter\\n\\n\\n\\n\\n\\n\\nFollow the Journey\\n\\n\\n\\n\\nTwitter\\n\\nFacebook\\n\\nInstagram\\n\\nRSS\\n\\n\\n\\n\\n\\n\\n\\n\\n\\n\\n\\nThe Red Planet\\n\\n\\n\\n\\n\\nDashboard\\n\\n\\nScience Goals\\n\\n\\nThe Planet\\n\\n\\nAtmosphere\\n\\n\\nAstrobiology\\n\\n\\nPast, Present, Future, Timeline\\n\\n\\n\\n\\n\\n\\n\\n\\n\\nThe Program\\n\\n\\n\\n\\n\\nMission Statement\\n\\n\\nAbout the Program\\n\\n\\nOrganization\\n\\n\\nWhy Mars?\\n\\n\\nResearch Programs\\n\\n\\nPlanetary Resources\\n\\n\\nTechnologies\\n\\n\\n\\n\\n\\n\\n\\n\\n\\nNews & Events\\n\\n\\n\\n\\n\\nNews\\n\\n\\nEvents\\n\\n\\n\\n\\n\\n\\n\\n\\n\\nMultimedia\\n\\n\\n\\n\\n\\nImages\\n\\n\\nVideos\\n\\n\\nAudio\\n\\n\\nMore Resources\\n\\n\\n\\n\\n\\n\\n\\n\\n\\nMissions\\n\\n\\n\\n\\n\\nPast\\n\\n\\nPresent\\n\\n\\nFuture\\n\\n\\nInternational Partners\\n\\n\\n\\n\\n\\n\\n\\n\\n\\nMore\\n\\n\\n\\n\\n\\n\\n\\n\\n\\n\\n\\n\\n\\n\\n\\n\\n\\nNASA Science Mission Directorate\\n\\n\\nPrivacy\\n\\n\\nImage Policy\\n\\n\\nFeedback\\n\\n\\n\\n\\n\\n\\nManaged by the Mars Exploration Program and the Jet Propulsion Laboratory for NASA’s Science Mission Directorate\\n\\n\\n\\n\\n\\n\\n\\n\\n\\n\\n\\n\\n\\n\\n\\n\\n\\n\\n\\n\\n\\n\\n\\n\\n\\n\\nAddThis Sharing SidebarShare to FacebookFacebookShare to TwitterTwitterShare to RedditRedditShare to EmailEmailMore AddThis Share optionsAddThis137SHARESHideShowCloseAddThisAddThis SharingSHARESFacebookTwitterRedditEmailAddThis\""
      ]
     },
     "execution_count": 6,
     "metadata": {},
     "output_type": "execute_result"
    }
   ],
   "source": [
    "block_of_text = news_soup.text\n",
    "block_of_text"
   ]
  },
  {
   "cell_type": "code",
   "execution_count": 7,
   "metadata": {},
   "outputs": [
    {
     "data": {
      "text/plain": [
       "105"
      ]
     },
     "execution_count": 7,
     "metadata": {},
     "output_type": "execute_result"
    }
   ],
   "source": [
    "block_of_text.count('NASA')"
   ]
  },
  {
   "cell_type": "code",
   "execution_count": 9,
   "metadata": {},
   "outputs": [
    {
     "name": "stdout",
     "output_type": "stream",
     "text": [
      "<div class=\"image_and_description_container\"><a href=\"/news/8859/sensors-prepare-to-collect-data-as-perseverance-enters-mars-atmosphere/\" target=\"_self\"><div class=\"rollover_description\"><div class=\"rollover_description_inner\">Technology will collect critical data about the harsh entry environment during Perseverance’s entry next Thursday.</div><div class=\"overlay_arrow\"><img alt=\"More\" src=\"/assets/overlay-arrow.png\"/></div></div><div class=\"list_image\"><img alt=\"MEDLI\" src=\"/system/news_items/list_view_images/8859_medli2_320x240.jpg\"/></div><div class=\"bottom_gradient\"><div><h3>Sensors Prepare to Collect Data as Perseverance Enters Mars' Atmosphere</h3></div></div></a><div class=\"list_text\"><div class=\"list_date\">February 12, 2021</div><div class=\"content_title\"><a href=\"/news/8859/sensors-prepare-to-collect-data-as-perseverance-enters-mars-atmosphere/\" target=\"_self\">Sensors Prepare to Collect Data as Perseverance Enters Mars' Atmosphere</a></div><div class=\"article_teaser_body\">Technology will collect critical data about the harsh entry environment during Perseverance’s entry next Thursday.</div></div></div>\n"
     ]
    }
   ],
   "source": [
    "children = slide_elem.children\n",
    "for child in children:\n",
    "    print(child)"
   ]
  },
  {
   "cell_type": "code",
   "execution_count": 10,
   "metadata": {},
   "outputs": [
    {
     "data": {
      "text/plain": [
       "\"Sensors Prepare to Collect Data as Perseverance Enters Mars' Atmosphere\""
      ]
     },
     "execution_count": 10,
     "metadata": {},
     "output_type": "execute_result"
    }
   ],
   "source": [
    "# Use the parent element to find the first `a` tag and save it as `news_title`\n",
    "news_title = slide_elem.find(\"div\", class_='content_title').get_text()\n",
    "news_title"
   ]
  },
  {
   "cell_type": "code",
   "execution_count": 11,
   "metadata": {},
   "outputs": [
    {
     "data": {
      "text/plain": [
       "'Technology will collect critical data about the harsh entry environment during Perseverance’s entry next Thursday.'"
      ]
     },
     "execution_count": 11,
     "metadata": {},
     "output_type": "execute_result"
    }
   ],
   "source": [
    "summary_text = slide_elem.find(\"div\", class_='article_teaser_body').get_text()\n",
    "summary_text"
   ]
  },
  {
   "cell_type": "markdown",
   "metadata": {},
   "source": [
    "### Featured Images"
   ]
  },
  {
   "cell_type": "code",
   "execution_count": 12,
   "metadata": {},
   "outputs": [],
   "source": [
    "# Visit URL\n",
    "url = 'https://data-class-jpl-space.s3.amazonaws.com/JPL_Space/index.html'\n",
    "browser.visit(url)"
   ]
  },
  {
   "cell_type": "code",
   "execution_count": 13,
   "metadata": {},
   "outputs": [],
   "source": [
    "# Find and click the full image button\n",
    "full_image_elem = browser.find_by_tag('button')[1]\n",
    "full_image_elem.click()"
   ]
  },
  {
   "cell_type": "code",
   "execution_count": 14,
   "metadata": {},
   "outputs": [],
   "source": [
    "# Parse the resulting html with soup\n",
    "html = browser.html\n",
    "img_soup = soup(html, 'html.parser')"
   ]
  },
  {
   "cell_type": "code",
   "execution_count": 15,
   "metadata": {},
   "outputs": [
    {
     "data": {
      "text/plain": [
       "'image/featured/mars2.jpg'"
      ]
     },
     "execution_count": 15,
     "metadata": {},
     "output_type": "execute_result"
    }
   ],
   "source": [
    "# Find the relative image url\n",
    "img_url_rel = img_soup.find('img', class_='fancybox-image').get('src')\n",
    "img_url_rel"
   ]
  },
  {
   "cell_type": "code",
   "execution_count": 16,
   "metadata": {},
   "outputs": [
    {
     "data": {
      "text/plain": [
       "'https://data-class-jpl-space.s3.amazonaws.com/JPL_Space/image/featured/mars2.jpg'"
      ]
     },
     "execution_count": 16,
     "metadata": {},
     "output_type": "execute_result"
    }
   ],
   "source": [
    "# Use the base URL to create an absolute URL\n",
    "img_url = f'https://data-class-jpl-space.s3.amazonaws.com/JPL_Space/{img_url_rel}'\n",
    "img_url"
   ]
  },
  {
   "cell_type": "code",
   "execution_count": 17,
   "metadata": {},
   "outputs": [
    {
     "data": {
      "text/html": [
       "<div>\n",
       "<style scoped>\n",
       "    .dataframe tbody tr th:only-of-type {\n",
       "        vertical-align: middle;\n",
       "    }\n",
       "\n",
       "    .dataframe tbody tr th {\n",
       "        vertical-align: top;\n",
       "    }\n",
       "\n",
       "    .dataframe thead th {\n",
       "        text-align: right;\n",
       "    }\n",
       "</style>\n",
       "<table border=\"1\" class=\"dataframe\">\n",
       "  <thead>\n",
       "    <tr style=\"text-align: right;\">\n",
       "      <th></th>\n",
       "      <th>value</th>\n",
       "    </tr>\n",
       "    <tr>\n",
       "      <th>description</th>\n",
       "      <th></th>\n",
       "    </tr>\n",
       "  </thead>\n",
       "  <tbody>\n",
       "    <tr>\n",
       "      <th>Equatorial Diameter:</th>\n",
       "      <td>6,792 km</td>\n",
       "    </tr>\n",
       "    <tr>\n",
       "      <th>Polar Diameter:</th>\n",
       "      <td>6,752 km</td>\n",
       "    </tr>\n",
       "    <tr>\n",
       "      <th>Mass:</th>\n",
       "      <td>6.39 × 10^23 kg (0.11 Earths)</td>\n",
       "    </tr>\n",
       "    <tr>\n",
       "      <th>Moons:</th>\n",
       "      <td>2 (Phobos &amp; Deimos)</td>\n",
       "    </tr>\n",
       "    <tr>\n",
       "      <th>Orbit Distance:</th>\n",
       "      <td>227,943,824 km (1.38 AU)</td>\n",
       "    </tr>\n",
       "    <tr>\n",
       "      <th>Orbit Period:</th>\n",
       "      <td>687 days (1.9 years)</td>\n",
       "    </tr>\n",
       "    <tr>\n",
       "      <th>Surface Temperature:</th>\n",
       "      <td>-87 to -5 °C</td>\n",
       "    </tr>\n",
       "    <tr>\n",
       "      <th>First Record:</th>\n",
       "      <td>2nd millennium BC</td>\n",
       "    </tr>\n",
       "    <tr>\n",
       "      <th>Recorded By:</th>\n",
       "      <td>Egyptian astronomers</td>\n",
       "    </tr>\n",
       "  </tbody>\n",
       "</table>\n",
       "</div>"
      ],
      "text/plain": [
       "                                              value\n",
       "description                                        \n",
       "Equatorial Diameter:                       6,792 km\n",
       "Polar Diameter:                            6,752 km\n",
       "Mass:                 6.39 × 10^23 kg (0.11 Earths)\n",
       "Moons:                          2 (Phobos & Deimos)\n",
       "Orbit Distance:            227,943,824 km (1.38 AU)\n",
       "Orbit Period:                  687 days (1.9 years)\n",
       "Surface Temperature:                   -87 to -5 °C\n",
       "First Record:                     2nd millennium BC\n",
       "Recorded By:                   Egyptian astronomers"
      ]
     },
     "execution_count": 17,
     "metadata": {},
     "output_type": "execute_result"
    }
   ],
   "source": [
    "# pd.read_html knows to look for the tables\n",
    "df = pd.read_html('http://space-facts.com/mars/')[0]\n",
    "df.columns=['description', 'value']\n",
    "df.set_index('description', inplace=True)\n",
    "df"
   ]
  },
  {
   "cell_type": "code",
   "execution_count": 159,
   "metadata": {},
   "outputs": [
    {
     "data": {
      "text/plain": [
       "'<table border=\"1\" class=\"dataframe\">\\n  <thead>\\n    <tr style=\"text-align: right;\">\\n      <th></th>\\n      <th>0</th>\\n      <th>1</th>\\n    </tr>\\n  </thead>\\n  <tbody>\\n    <tr>\\n      <th>0</th>\\n      <td>Equatorial Diameter:</td>\\n      <td>6,792 km</td>\\n    </tr>\\n    <tr>\\n      <th>1</th>\\n      <td>Polar Diameter:</td>\\n      <td>6,752 km</td>\\n    </tr>\\n    <tr>\\n      <th>2</th>\\n      <td>Mass:</td>\\n      <td>6.39 × 10^23 kg (0.11 Earths)</td>\\n    </tr>\\n    <tr>\\n      <th>3</th>\\n      <td>Moons:</td>\\n      <td>2 (Phobos &amp; Deimos)</td>\\n    </tr>\\n    <tr>\\n      <th>4</th>\\n      <td>Orbit Distance:</td>\\n      <td>227,943,824 km (1.38 AU)</td>\\n    </tr>\\n    <tr>\\n      <th>5</th>\\n      <td>Orbit Period:</td>\\n      <td>687 days (1.9 years)</td>\\n    </tr>\\n    <tr>\\n      <th>6</th>\\n      <td>Surface Temperature:</td>\\n      <td>-87 to -5 °C</td>\\n    </tr>\\n    <tr>\\n      <th>7</th>\\n      <td>First Record:</td>\\n      <td>2nd millennium BC</td>\\n    </tr>\\n    <tr>\\n      <th>8</th>\\n      <td>Recorded By:</td>\\n      <td>Egyptian astronomers</td>\\n    </tr>\\n  </tbody>\\n</table>'"
      ]
     },
     "execution_count": 159,
     "metadata": {},
     "output_type": "execute_result"
    }
   ],
   "source": [
    "df.to_html()"
   ]
  },
  {
   "cell_type": "code",
   "execution_count": 160,
   "metadata": {},
   "outputs": [],
   "source": [
    "# quit the scraping\n",
    "browser.quit()"
   ]
  },
  {
   "cell_type": "code",
   "execution_count": null,
   "metadata": {},
   "outputs": [],
   "source": []
  },
  {
   "cell_type": "markdown",
   "metadata": {},
   "source": [
    "# Below is the Challenge to Module 10:"
   ]
  },
  {
   "cell_type": "code",
   "execution_count": 20,
   "metadata": {},
   "outputs": [],
   "source": [
    "# Import Splinter, BeautifulSoup, and Pandas\n",
    "from splinter import Browser\n",
    "from bs4 import BeautifulSoup as soup\n",
    "import pandas as pd"
   ]
  },
  {
   "cell_type": "code",
   "execution_count": 21,
   "metadata": {},
   "outputs": [
    {
     "name": "stdout",
     "output_type": "stream",
     "text": [
      "/Users/Admin/Desktop/GW_Bootcamp/Analysis_Projects/Mission-to-Mars/Mars_Scraping/chromedriver\r\n"
     ]
    }
   ],
   "source": [
    "# Path to chromedriver\n",
    "!which chromedriver"
   ]
  },
  {
   "cell_type": "code",
   "execution_count": 22,
   "metadata": {},
   "outputs": [],
   "source": [
    "# Set the executable path and initialize the chrome browser in splinter\n",
    "executable_path = {'executable_path': 'chromedriver'}\n",
    "browser = Browser('chrome', **executable_path)"
   ]
  },
  {
   "cell_type": "markdown",
   "metadata": {},
   "source": [
    "# Visit the NASA Mars News Site"
   ]
  },
  {
   "cell_type": "code",
   "execution_count": 23,
   "metadata": {},
   "outputs": [
    {
     "data": {
      "text/plain": [
       "True"
      ]
     },
     "execution_count": 23,
     "metadata": {},
     "output_type": "execute_result"
    }
   ],
   "source": [
    "# Visit the mars nasa news site\n",
    "url = 'https://mars.nasa.gov/news/'\n",
    "browser.visit(url)\n",
    "\n",
    "# Optional delay for loading the page\n",
    "browser.is_element_present_by_css(\"ul.item_list li.slide\", wait_time=1)"
   ]
  },
  {
   "cell_type": "code",
   "execution_count": 24,
   "metadata": {},
   "outputs": [],
   "source": [
    "# Convert the browser html to a soup object and then quit the browser\n",
    "html = browser.html\n",
    "news_soup = soup(html, 'html.parser')\n",
    "\n",
    "slide_elem = news_soup.select_one('ul.item_list li.slide')"
   ]
  },
  {
   "cell_type": "code",
   "execution_count": 25,
   "metadata": {},
   "outputs": [
    {
     "data": {
      "text/plain": [
       "<div class=\"content_title\"><a href=\"/news/8859/sensors-prepare-to-collect-data-as-perseverance-enters-mars-atmosphere/\" target=\"_self\">Sensors Prepare to Collect Data as Perseverance Enters Mars' Atmosphere</a></div>"
      ]
     },
     "execution_count": 25,
     "metadata": {},
     "output_type": "execute_result"
    }
   ],
   "source": [
    "slide_elem.find(\"div\", class_='content_title')"
   ]
  },
  {
   "cell_type": "code",
   "execution_count": 26,
   "metadata": {},
   "outputs": [
    {
     "data": {
      "text/plain": [
       "\"Sensors Prepare to Collect Data as Perseverance Enters Mars' Atmosphere\""
      ]
     },
     "execution_count": 26,
     "metadata": {},
     "output_type": "execute_result"
    }
   ],
   "source": [
    "# Use the parent element to find the first a tag and save it as `news_title`\n",
    "news_title = slide_elem.find(\"div\", class_='content_title').get_text()\n",
    "news_title"
   ]
  },
  {
   "cell_type": "code",
   "execution_count": 27,
   "metadata": {},
   "outputs": [
    {
     "data": {
      "text/plain": [
       "'Technology will collect critical data about the harsh entry environment during Perseverance’s entry next Thursday.'"
      ]
     },
     "execution_count": 27,
     "metadata": {},
     "output_type": "execute_result"
    }
   ],
   "source": [
    "# Use the parent element to find the paragraph text\n",
    "news_p = slide_elem.find('div', class_=\"article_teaser_body\").get_text()\n",
    "news_p"
   ]
  },
  {
   "cell_type": "markdown",
   "metadata": {},
   "source": [
    "# D1: Scrape High-Resolution Mars’ Hemisphere Images and Titles"
   ]
  },
  {
   "cell_type": "code",
   "execution_count": 28,
   "metadata": {},
   "outputs": [],
   "source": [
    "# Visit URL\n",
    "url = 'https://astrogeology.usgs.gov/search/results?q=hemisphere+enhanced&k1=target&v1=Mars'\n",
    "browser.visit(url)"
   ]
  },
  {
   "cell_type": "code",
   "execution_count": 29,
   "metadata": {},
   "outputs": [],
   "source": [
    "image_list = []"
   ]
  },
  {
   "cell_type": "code",
   "execution_count": 30,
   "metadata": {},
   "outputs": [
    {
     "data": {
      "text/plain": [
       "<splinter.element_list.ElementList at 0x7fdf5e6171d0>"
      ]
     },
     "execution_count": 30,
     "metadata": {},
     "output_type": "execute_result"
    }
   ],
   "source": [
    "links = browser.find_by_css('a.product-item h3')\n",
    "links"
   ]
  },
  {
   "cell_type": "code",
   "execution_count": 31,
   "metadata": {},
   "outputs": [
    {
     "name": "stdout",
     "output_type": "stream",
     "text": [
      "yes\n",
      "yes\n",
      "yes\n",
      "yes\n"
     ]
    }
   ],
   "source": [
    "for link in links:\n",
    "    print('yes')"
   ]
  },
  {
   "cell_type": "code",
   "execution_count": 32,
   "metadata": {},
   "outputs": [],
   "source": [
    "for link in range(len(links)):\n",
    "    hemispheres = {}\n",
    "    \n",
    "    #click the links for each of the 4 hemispheres\n",
    "    browser.find_by_css('a.product-item h3')[link].click()\n",
    "    \n",
    "    #get the hrefs\n",
    "    sample_link = browser.links.find_by_text('Sample').first\n",
    "    hemispheres['url'] = sample_link['href']\n",
    "    \n",
    "    hemispheres['title'] = browser.find_by_css('h2.title').text\n",
    "    \n",
    "    image_list.append(hemispheres)\n",
    "    \n",
    "    browser.back()"
   ]
  },
  {
   "cell_type": "code",
   "execution_count": 33,
   "metadata": {},
   "outputs": [
    {
     "data": {
      "text/plain": [
       "[{'url': 'https://astropedia.astrogeology.usgs.gov/download/Mars/Viking/cerberus_enhanced.tif/full.jpg',\n",
       "  'title': 'Cerberus Hemisphere Enhanced'},\n",
       " {'url': 'https://astropedia.astrogeology.usgs.gov/download/Mars/Viking/schiaparelli_enhanced.tif/full.jpg',\n",
       "  'title': 'Schiaparelli Hemisphere Enhanced'},\n",
       " {'url': 'https://astropedia.astrogeology.usgs.gov/download/Mars/Viking/syrtis_major_enhanced.tif/full.jpg',\n",
       "  'title': 'Syrtis Major Hemisphere Enhanced'},\n",
       " {'url': 'https://astropedia.astrogeology.usgs.gov/download/Mars/Viking/valles_marineris_enhanced.tif/full.jpg',\n",
       "  'title': 'Valles Marineris Hemisphere Enhanced'}]"
      ]
     },
     "execution_count": 33,
     "metadata": {},
     "output_type": "execute_result"
    }
   ],
   "source": [
    "image_list"
   ]
  },
  {
   "cell_type": "code",
   "execution_count": 34,
   "metadata": {},
   "outputs": [],
   "source": [
    "browser.quit()"
   ]
  }
 ],
 "metadata": {
  "kernelspec": {
   "display_name": "PythonData",
   "language": "python",
   "name": "pythondata"
  },
  "language_info": {
   "codemirror_mode": {
    "name": "ipython",
    "version": 3
   },
   "file_extension": ".py",
   "mimetype": "text/x-python",
   "name": "python",
   "nbconvert_exporter": "python",
   "pygments_lexer": "ipython3",
   "version": "3.7.9"
  }
 },
 "nbformat": 4,
 "nbformat_minor": 4
}
